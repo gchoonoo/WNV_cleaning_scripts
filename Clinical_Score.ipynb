{
 "cells": [
  {
   "cell_type": "code",
   "execution_count": null,
   "metadata": {
    "collapsed": true
   },
   "outputs": [],
   "source": [
    "# Systems Immunogenetics Project\n",
    "\n",
    "## WNV Cleaning Steps\n",
    "\n",
    "### McWeeney Lab, Oregon Health & Science University\n",
    "\n",
    "** Authors: Gabrielle Choonoo (choonoo@ohsu.edu) and Michael Mooney (mooneymi@ohsu.edu) **\n",
    "\n",
    "## Introduction\n",
    "\n",
    "This is the step-by-step process for cleaning the WNV data for Clinical Score.\n",
    "\n",
    "Required Files:\n",
    "* WNV Data: Processed Weight, Raw Clinical score\n",
    "* WNV Data Dictionary\n",
    "* Array Annotation\n",
    "* This notebook (Clinical Score.ipynb): [[Download here]](https://raw.githubusercontent.com/gchoonoo/Buxco_notebook/master/notebook.ipynb)\n",
    "\n",
    "Required R packages:\n",
    "- `gdata`\n",
    "\n",
    "**Note: this notebook can also be downloaded as an R script (only the code blocks seen below will be included): [[Download R script here]](https://raw.githubusercontent.com/gchoonoo/WNV_cleaning_scripts/master/clean_data.r)\n",
    "\n",
    "** All code is available on GitHub: [https://github.com/gchoonoo/WNV_cleaning_scripts](https://github.com/gchoonoo/WNV_cleaning_scripts) **"
   ]
  },
  {
   "cell_type": "markdown",
   "metadata": {},
   "source": [
    "# Read in Data"
   ]
  },
  {
   "cell_type": "code",
   "execution_count": 1,
   "metadata": {
    "collapsed": false
   },
   "outputs": [
    {
     "name": "stderr",
     "output_type": "stream",
     "text": [
      "gdata: read.xls support for 'XLS' (Excel 97-2004) files ENABLED.\n",
      "\n",
      "gdata: read.xls support for 'XLSX' (Excel 2007+) files ENABLED.\n",
      "\n",
      "Attaching package: ‘gdata’\n",
      "\n",
      "The following object is masked from ‘package:stats’:\n",
      "\n",
      "    nobs\n",
      "\n",
      "The following object is masked from ‘package:utils’:\n",
      "\n",
      "    object.size\n",
      "\n"
     ]
    },
    {
     "name": "stdout",
     "output_type": "stream",
     "text": [
      "[1] \"Read in 16 files\"\n"
     ]
    }
   ],
   "source": [
    "###############\n",
    "# Read in Data\n",
    "###############\n",
    "\n",
    "library(gdata)\n",
    "\n",
    "# Gale: Read in clinical score sheet\n",
    "# Lund: Read in clinical score sheets and combine\n",
    "# Lund Data Example:\n",
    "\n",
    "# Set empty vector\n",
    "data2 <- vector(\"list\",length(dir(\"score\")))\n",
    "\n",
    "# Read in all new data and combine\n",
    "for(i in 1:length(dir(\"score\"))){\n",
    "  #print(i)\n",
    "  \n",
    "  if(substring(dir(\"score\")[i],1,1) == \"C\"){\n",
    "    \n",
    "    read.xls(xls=paste(\"score\",dir(\"score\")[i],sep=\"/\"), sheet=1,stringsAsFactors=F) -> data2[[i]]\n",
    "    \n",
    "    data2[[i]][,c(4,1,2,3,8,7,9:37)] -> data2[[i]]\n",
    "    \n",
    "  }else{\n",
    "    \n",
    "    read.xls(xls=paste(\"score\",dir(\"score\")[i],sep=\"/\"), sheet=1, skip=1, colClasses=c(\"NULL\",rep(NA,35),\"NULL\",\"NULL\",\"NULL\"),stringsAsFactors=F) -> data2[[i]]\n",
    "    \n",
    "    days = gsub(\"d\",\"D\",gsub(\"\\\\.\",\"\",names(data2[[i]])[7:35]))\n",
    "    \n",
    "    names(data2[[i]]) <- c(\"UW_Line\",\"ID\",\"Mating\",\"RIX_ID\",\"Timepoint\",\"Date_Infected\",days)\n",
    "  }\n",
    "  \n",
    "  new_cs = do.call(rbind,data2)      \n",
    "}\n",
    "\n",
    "if(length(unique(new_cs[,1])) == length(dir(\"score\"))){\n",
    "  print(paste(\"Read in\", length(dir(\"score\")),\"files\"))\n",
    "}"
   ]
  },
  {
   "cell_type": "markdown",
   "metadata": {},
   "source": [
    "# 1. Clean mating"
   ]
  },
  {
   "cell_type": "code",
   "execution_count": 2,
   "metadata": {
    "collapsed": true
   },
   "outputs": [],
   "source": [
    "# \"X\" changed to \"x\"\n",
    "new_cs[,\"Mating\"] <- gsub(\"X\",\"x\",new_cs[,\"Mating\"])"
   ]
  },
  {
   "cell_type": "markdown",
   "metadata": {},
   "source": [
    "# 2. Clean ID"
   ]
  },
  {
   "cell_type": "code",
   "execution_count": 3,
   "metadata": {
    "collapsed": true
   },
   "outputs": [],
   "source": [
    "new_cs[,\"ID\"] <- paste(new_cs[,\"Mating\"], new_cs[,\"RIX_ID\"],sep=\"_\")"
   ]
  },
  {
   "cell_type": "markdown",
   "metadata": {},
   "source": [
    "# 3. Add/remove columns and edit column names"
   ]
  },
  {
   "cell_type": "code",
   "execution_count": 4,
   "metadata": {
    "collapsed": true
   },
   "outputs": [],
   "source": [
    "# Add Lab, Data_Altered, Notes\n",
    "    # Gale: Add Virus\n",
    "# Lund: Add UWID, remove Sex \n",
    "new_cs$Lab <- \"Lund\"\n",
    "new_cs$UWID <- NA\n",
    "new_cs$Data_Altered <- NA\n",
    "new_cs$Notes <- NA\n",
    "new_cs[,!names(new_cs)%in%\"Sex\"] -> new_cs_v2"
   ]
  },
  {
   "cell_type": "markdown",
   "metadata": {},
   "source": [
    "# 4. Annotate died early columns"
   ]
  },
  {
   "cell_type": "code",
   "execution_count": 5,
   "metadata": {
    "collapsed": true
   },
   "outputs": [],
   "source": [
    "# read in most current weight sheets\n",
    "read.xls(xls=\"Lund_Weight_22-Mar-2016_final.xlsx\", sheet=1,stringsAsFactors=F) -> lund_weight\n",
    "\n",
    "weight_names = c(\"ID\",\"Death_Date\",\"Death_Euthanized\", \"Death_FoundInCage\", \"Died_of_Virus\", \"Died_from_Anesthesia\")\n",
    "\n",
    "# merge clinical score with weight with deaths columns only\n",
    "merge(new_cs, lund_weight[,weight_names], by=\"ID\",all.x=T) -> new_cs_v2\n",
    "\n",
    "# clean timepoint\n",
    "new_cs_v2[,\"Timepoint\"] <- as.numeric(as.character(gsub(\"d\",\"\",new_cs_v2[,\"Timepoint\"])))\n",
    "\n",
    "# format date infected\n",
    "new_cs_v2[grep(\"/\",new_cs_v2[,\"Date_Infected\"]),\"Date_Infected\"] <- as.character(as.Date(new_cs_v2[grep(\"/\",new_cs_v2[,\"Date_Infected\"]),\"Date_Infected\"], format=\"%m/%d/%y\"))\n",
    "\n",
    "new_cs_v2[,\"Date_Infected\"] <- as.Date(new_cs_v2[,\"Date_Infected\"], format=\"%Y-%m-%d\")\n",
    "\n",
    "# Create early death flags\n",
    "\n",
    "# add putative death day\n",
    "days = c(\"D0\",\"D1\",\"D2\",\"D3\",\"D4\",\"D5\",\"D6\",\"D7\",\"D8\",\"D9\",\"D10\",\"D11\",\"D12\",\"D13\",\"D14\",\"D15\",\"D16\",\"D17\",\"D18\",\"D19\",\"D20\",\"D21\",\"D22\",\"D23\",\"D24\",\"D25\",\"D26\",\"D27\",\"D28\")\n",
    "\n",
    "# Annotate putative death day\n",
    "new_cs_v2$putative_death_day <- sapply(1:dim(new_cs_v2)[1],function(x)suppressWarnings(max(as.numeric(as.character(gsub(\"D\",\"\",names(new_cs_v2[x,days][which(!is.na(new_cs_v2[x,days]))])))))))"
   ]
  },
  {
   "cell_type": "markdown",
   "metadata": {},
   "source": [
    "# 5. Add Flag_weight_day "
   ]
  },
  {
   "cell_type": "code",
   "execution_count": 6,
   "metadata": {
    "collapsed": false
   },
   "outputs": [
    {
     "data": {
      "text/html": [
       "49"
      ],
      "text/latex": [
       "49"
      ],
      "text/markdown": [
       "49"
      ],
      "text/plain": [
       "[1] 49"
      ]
     },
     "execution_count": 6,
     "metadata": {},
     "output_type": "execute_result"
    },
    {
     "data": {
      "text/html": [
       "<table>\n",
       "<thead><tr><th></th><th scope=col>ID</th><th scope=col>UW_Line</th><th scope=col>Mating</th><th scope=col>RIX_ID</th><th scope=col>Timepoint</th><th scope=col>Date_Infected</th><th scope=col>D0</th><th scope=col>D1</th><th scope=col>D2</th><th scope=col>D3</th><th scope=col>D4</th><th scope=col>D5</th><th scope=col>D6</th><th scope=col>D7</th><th scope=col>D8</th><th scope=col>D9</th><th scope=col>D10</th><th scope=col>D11</th><th scope=col>D12</th><th scope=col>D13</th><th scope=col>D14</th><th scope=col>D15</th><th scope=col>D16</th><th scope=col>D17</th><th scope=col>D18</th><th scope=col>D19</th><th scope=col>D20</th><th scope=col>D21</th><th scope=col>D22</th><th scope=col>D23</th><th scope=col>D24</th><th scope=col>D25</th><th scope=col>D26</th><th scope=col>D27</th><th scope=col>D28</th><th scope=col>Lab</th><th scope=col>UWID</th><th scope=col>Data_Altered</th><th scope=col>Notes</th><th scope=col>Death_Date</th><th scope=col>Death_Euthanized</th><th scope=col>Death_FoundInCage</th><th scope=col>Died_of_Virus</th><th scope=col>Died_from_Anesthesia</th><th scope=col>putative_death_day</th><th scope=col>Flag_Death_Day</th></tr></thead>\n",
       "<tbody>\n",
       "\t<tr><th scope=row>1</th><td>15119x16521_39</td><td>96</td><td>15119x16521</td><td>39</td><td>21</td><td>2015-11-09</td><td>0</td><td>NA</td><td>NA</td><td>0</td><td>NA</td><td>NA</td><td>NA</td><td>0</td><td>0</td><td>1</td><td>1</td><td>1</td><td>NA</td><td>NA</td><td>NA</td><td>NA</td><td>NA</td><td>NA</td><td>NA</td><td>NA</td><td>NA</td><td>NA</td><td>NA</td><td>NA</td><td>NA</td><td>NA</td><td>NA</td><td>NA</td><td>NA</td><td>Lund</td><td>NA</td><td>NA</td><td>NA</td><td>NA</td><td>NA</td><td>NA</td><td>NA</td><td>NA</td><td>11</td><td>TRUE</td></tr>\n",
       "\t<tr><th scope=row>2</th><td>15119x16521_40</td><td>96</td><td>15119x16521</td><td>40</td><td>21</td><td>2015-11-09</td><td>0</td><td>NA</td><td>NA</td><td>0</td><td>NA</td><td>NA</td><td>NA</td><td>0</td><td>1</td><td>NA</td><td>NA</td><td>NA</td><td>NA</td><td>NA</td><td>NA</td><td>NA</td><td>NA</td><td>NA</td><td>NA</td><td>NA</td><td>NA</td><td>NA</td><td>NA</td><td>NA</td><td>NA</td><td>NA</td><td>NA</td><td>NA</td><td>NA</td><td>Lund</td><td>NA</td><td>NA</td><td>NA</td><td>NA</td><td>NA</td><td>NA</td><td>NA</td><td>NA</td><td>8</td><td>TRUE</td></tr>\n",
       "\t<tr><th scope=row>3</th><td>15119x16521_42</td><td>96</td><td>15119x16521</td><td>42</td><td>21</td><td>2015-11-09</td><td>0</td><td>NA</td><td>NA</td><td>0</td><td>NA</td><td>NA</td><td>NA</td><td>0</td><td>0</td><td>0</td><td>0</td><td>0</td><td>0</td><td>0</td><td>0</td><td>NA</td><td>0</td><td>NA</td><td>0</td><td>NA</td><td>NA</td><td>NA</td><td>NA</td><td>NA</td><td>NA</td><td>NA</td><td>NA</td><td>NA</td><td>NA</td><td>Lund</td><td>NA</td><td>NA</td><td>NA</td><td>NA</td><td>NA</td><td>NA</td><td>NA</td><td>NA</td><td>18</td><td>TRUE</td></tr>\n",
       "\t<tr><th scope=row>6</th><td>15119x16521_49</td><td>96</td><td>15119x16521</td><td>49</td><td>28</td><td>2015-11-23</td><td>0</td><td>NA</td><td>0</td><td>NA</td><td>NA</td><td>0</td><td>NA</td><td>NA</td><td>NA</td><td>1</td><td>1</td><td>NA</td><td>NA</td><td>NA</td><td>NA</td><td>NA</td><td>NA</td><td>NA</td><td>NA</td><td>NA</td><td>NA</td><td>NA</td><td>NA</td><td>NA</td><td>NA</td><td>NA</td><td>NA</td><td>NA</td><td>NA</td><td>Lund</td><td>NA</td><td>NA</td><td>NA</td><td>NA</td><td>NA</td><td>NA</td><td>NA</td><td>NA</td><td>10</td><td>TRUE</td></tr>\n",
       "\t<tr><th scope=row>7</th><td>15119x16521_50</td><td>96</td><td>15119x16521</td><td>50</td><td>28</td><td>2015-11-23</td><td>0</td><td>NA</td><td>0</td><td>NA</td><td>NA</td><td>0</td><td>NA</td><td>NA</td><td>NA</td><td>0</td><td>0</td><td>0</td><td>0</td><td>0</td><td>0</td><td>NA</td><td>NA</td><td>NA</td><td>0</td><td>NA</td><td>NA</td><td>0</td><td>NA</td><td>NA</td><td>0</td><td>NA</td><td>NA</td><td>NA</td><td>NA</td><td>Lund</td><td>NA</td><td>NA</td><td>NA</td><td>NA</td><td>NA</td><td>NA</td><td>NA</td><td>NA</td><td>24</td><td>TRUE</td></tr>\n",
       "\t<tr><th scope=row>9</th><td>15119x16521_65</td><td>96</td><td>15119x16521</td><td>65</td><td>28</td><td>2015-11-23</td><td>0</td><td>NA</td><td>0</td><td>NA</td><td>NA</td><td>0</td><td>NA</td><td>NA</td><td>NA</td><td>0</td><td>0</td><td>0</td><td>0</td><td>0</td><td>0</td><td>NA</td><td>NA</td><td>NA</td><td>0</td><td>NA</td><td>NA</td><td>0</td><td>NA</td><td>NA</td><td>0</td><td>NA</td><td>NA</td><td>NA</td><td>NA</td><td>Lund</td><td>NA</td><td>NA</td><td>NA</td><td>NA</td><td>NA</td><td>NA</td><td>NA</td><td>NA</td><td>24</td><td>TRUE</td></tr>\n",
       "\t<tr><th scope=row>15</th><td>16513x8027_35</td><td>106</td><td>16513x8027</td><td>35</td><td>12</td><td>2016-01-08</td><td>0</td><td>NA</td><td>NA</td><td>NA</td><td>NA</td><td>NA</td><td>NA</td><td>NA</td><td>NA</td><td>NA</td><td>NA</td><td>NA</td><td>NA</td><td>NA</td><td>NA</td><td>NA</td><td>NA</td><td>NA</td><td>NA</td><td>NA</td><td>NA</td><td>NA</td><td>NA</td><td>NA</td><td>NA</td><td>NA</td><td>NA</td><td>NA</td><td>NA</td><td>Lund</td><td>NA</td><td>NA</td><td>NA</td><td>NA</td><td>NA</td><td>NA</td><td>NA</td><td>NA</td><td>0</td><td>TRUE</td></tr>\n",
       "\t<tr><th scope=row>50</th><td>18018x3460_13</td><td>99</td><td>18018x3460</td><td>13</td><td>12</td><td>2015-10-28</td><td>0</td><td>NA</td><td>0</td><td>NA</td><td>NA</td><td>0</td><td>NA</td><td>NA</td><td>1</td><td>NA</td><td>NA</td><td>NA</td><td>NA</td><td>NA</td><td>NA</td><td>NA</td><td>NA</td><td>NA</td><td>NA</td><td>NA</td><td>NA</td><td>NA</td><td>NA</td><td>NA</td><td>NA</td><td>NA</td><td>NA</td><td>NA</td><td>NA</td><td>Lund</td><td>NA</td><td>NA</td><td>NA</td><td>NA</td><td>NA</td><td>NA</td><td>NA</td><td>NA</td><td>8</td><td>TRUE</td></tr>\n",
       "\t<tr><th scope=row>56</th><td>18018x3460_43</td><td>99</td><td>18018x3460</td><td>43</td><td>28</td><td>2016-02-01</td><td>0</td><td>NA</td><td>NA</td><td>0</td><td>NA</td><td>NA</td><td>NA</td><td>0</td><td>NA</td><td>1</td><td>1</td><td>NA</td><td>NA</td><td>NA</td><td>NA</td><td>NA</td><td>NA</td><td>NA</td><td>NA</td><td>NA</td><td>NA</td><td>NA</td><td>NA</td><td>NA</td><td>NA</td><td>NA</td><td>NA</td><td>NA</td><td>NA</td><td>Lund</td><td>NA</td><td>NA</td><td>NA</td><td>NA</td><td>NA</td><td>NA</td><td>NA</td><td>NA</td><td>10</td><td>TRUE</td></tr>\n",
       "\t<tr><th scope=row>57</th><td>18018x3460_47</td><td>99</td><td>18018x3460</td><td>47</td><td>21</td><td>2016-02-03</td><td>0</td><td>NA</td><td>0</td><td>NA</td><td>NA</td><td>NA</td><td>NA</td><td>1</td><td>NA</td><td>NA</td><td>NA</td><td>NA</td><td>NA</td><td>NA</td><td>NA</td><td>NA</td><td>NA</td><td>NA</td><td>NA</td><td>NA</td><td>NA</td><td>NA</td><td>NA</td><td>NA</td><td>NA</td><td>NA</td><td>NA</td><td>NA</td><td>NA</td><td>Lund</td><td>NA</td><td>NA</td><td>NA</td><td>NA</td><td>NA</td><td>NA</td><td>NA</td><td>NA</td><td>7</td><td>TRUE</td></tr>\n",
       "\t<tr><th scope=row>58</th><td>18018x3460_48</td><td>99</td><td>18018x3460</td><td>48</td><td>21</td><td>2016-02-03</td><td>0</td><td>NA</td><td>0</td><td>NA</td><td>NA</td><td>NA</td><td>NA</td><td>0</td><td>1</td><td>1</td><td>1</td><td>4</td><td>NA</td><td>NA</td><td>NA</td><td>NA</td><td>NA</td><td>NA</td><td>NA</td><td>NA</td><td>NA</td><td>NA</td><td>NA</td><td>NA</td><td>NA</td><td>NA</td><td>NA</td><td>NA</td><td>NA</td><td>Lund</td><td>NA</td><td>NA</td><td>NA</td><td>NA</td><td>NA</td><td>NA</td><td>NA</td><td>NA</td><td>11</td><td>TRUE</td></tr>\n",
       "\t<tr><th scope=row>59</th><td>18018x3460_49</td><td>99</td><td>18018x3460</td><td>49</td><td>28</td><td>2016-02-01</td><td>0</td><td>NA</td><td>NA</td><td>0</td><td>NA</td><td>NA</td><td>NA</td><td>0</td><td>NA</td><td>1</td><td>NA</td><td>NA</td><td>NA</td><td>NA</td><td>NA</td><td>NA</td><td>NA</td><td>NA</td><td>NA</td><td>NA</td><td>NA</td><td>NA</td><td>NA</td><td>NA</td><td>NA</td><td>NA</td><td>NA</td><td>NA</td><td>NA</td><td>Lund</td><td>NA</td><td>NA</td><td>NA</td><td>NA</td><td>NA</td><td>NA</td><td>NA</td><td>NA</td><td>9</td><td>TRUE</td></tr>\n",
       "\t<tr><th scope=row>60</th><td>18018x3460_54</td><td>99</td><td>18018x3460</td><td>54</td><td>28</td><td>2016-02-01</td><td>0</td><td>NA</td><td>NA</td><td>0</td><td>NA</td><td>NA</td><td>NA</td><td>0</td><td>NA</td><td>NA</td><td>NA</td><td>NA</td><td>NA</td><td>NA</td><td>NA</td><td>NA</td><td>NA</td><td>NA</td><td>NA</td><td>NA</td><td>NA</td><td>NA</td><td>NA</td><td>NA</td><td>NA</td><td>NA</td><td>NA</td><td>NA</td><td>NA</td><td>Lund</td><td>NA</td><td>NA</td><td>NA</td><td>NA</td><td>NA</td><td>NA</td><td>NA</td><td>NA</td><td>7</td><td>TRUE</td></tr>\n",
       "\t<tr><th scope=row>63</th><td>3015x5306_19</td><td>107</td><td>3015x5306</td><td>19</td><td>21</td><td>2016-02-03</td><td>0</td><td>NA</td><td>0</td><td>NA</td><td>NA</td><td>NA</td><td>NA</td><td>0</td><td>0</td><td>1</td><td>NA</td><td>NA</td><td>NA</td><td>NA</td><td>NA</td><td>NA</td><td>NA</td><td>NA</td><td>NA</td><td>NA</td><td>NA</td><td>NA</td><td>NA</td><td>NA</td><td>NA</td><td>NA</td><td>NA</td><td>NA</td><td>NA</td><td>Lund</td><td>NA</td><td>NA</td><td>NA</td><td>NA</td><td>NA</td><td>NA</td><td>NA</td><td>NA</td><td>9</td><td>TRUE</td></tr>\n",
       "\t<tr><th scope=row>64</th><td>3015x5306_2</td><td>107</td><td>3015x5306</td><td>2</td><td>12</td><td>2016-01-08</td><td>0</td><td>NA</td><td>NA</td><td>0</td><td>NA</td><td>NA</td><td>0</td><td>NA</td><td>0</td><td>NA</td><td>NA</td><td>NA</td><td>NA</td><td>NA</td><td>NA</td><td>NA</td><td>NA</td><td>NA</td><td>NA</td><td>NA</td><td>NA</td><td>NA</td><td>NA</td><td>NA</td><td>NA</td><td>NA</td><td>NA</td><td>NA</td><td>NA</td><td>Lund</td><td>NA</td><td>NA</td><td>NA</td><td>NA</td><td>NA</td><td>NA</td><td>NA</td><td>NA</td><td>8</td><td>TRUE</td></tr>\n",
       "\t<tr><th scope=row>65</th><td>3015x5306_20</td><td>107</td><td>3015x5306</td><td>20</td><td>21</td><td>2016-02-03</td><td>0</td><td>NA</td><td>0</td><td>NA</td><td>NA</td><td>NA</td><td>NA</td><td>0</td><td>0</td><td>1</td><td>NA</td><td>NA</td><td>NA</td><td>NA</td><td>NA</td><td>NA</td><td>NA</td><td>NA</td><td>NA</td><td>NA</td><td>NA</td><td>NA</td><td>NA</td><td>NA</td><td>NA</td><td>NA</td><td>NA</td><td>NA</td><td>NA</td><td>Lund</td><td>NA</td><td>NA</td><td>NA</td><td>NA</td><td>NA</td><td>NA</td><td>NA</td><td>NA</td><td>9</td><td>TRUE</td></tr>\n",
       "\t<tr><th scope=row>66</th><td>3015x5306_21</td><td>107</td><td>3015x5306</td><td>21</td><td>28</td><td>2016-02-08</td><td>0</td><td>NA</td><td>NA</td><td>0</td><td>NA</td><td>NA</td><td>0</td><td>NA</td><td>0</td><td>0</td><td>4</td><td>NA</td><td>NA</td><td>NA</td><td>NA</td><td>NA</td><td>NA</td><td>NA</td><td>NA</td><td>NA</td><td>NA</td><td>NA</td><td>NA</td><td>NA</td><td>NA</td><td>NA</td><td>NA</td><td>NA</td><td>NA</td><td>Lund</td><td>NA</td><td>NA</td><td>NA</td><td>NA</td><td>NA</td><td>NA</td><td>NA</td><td>NA</td><td>10</td><td>TRUE</td></tr>\n",
       "\t<tr><th scope=row>67</th><td>3015x5306_22</td><td>107</td><td>3015x5306</td><td>22</td><td>28</td><td>2016-02-08</td><td>0</td><td>NA</td><td>NA</td><td>0</td><td>NA</td><td>NA</td><td>0</td><td>NA</td><td>0</td><td>0</td><td>4</td><td>NA</td><td>NA</td><td>NA</td><td>NA</td><td>NA</td><td>NA</td><td>NA</td><td>NA</td><td>NA</td><td>NA</td><td>NA</td><td>NA</td><td>NA</td><td>NA</td><td>NA</td><td>NA</td><td>NA</td><td>NA</td><td>Lund</td><td>NA</td><td>NA</td><td>NA</td><td>NA</td><td>NA</td><td>NA</td><td>NA</td><td>NA</td><td>10</td><td>TRUE</td></tr>\n",
       "\t<tr><th scope=row>68</th><td>3015x5306_28</td><td>107</td><td>3015x5306</td><td>28</td><td>28</td><td>2016-02-08</td><td>0</td><td>NA</td><td>NA</td><td>0</td><td>NA</td><td>NA</td><td>0</td><td>NA</td><td>0</td><td>0</td><td>0</td><td>0</td><td>0</td><td>0</td><td>0</td><td>NA</td><td>NA</td><td>0</td><td>NA</td><td>NA</td><td>0</td><td>NA</td><td>NA</td><td>NA</td><td>0</td><td>NA</td><td>NA</td><td>NA</td><td>NA</td><td>Lund</td><td>NA</td><td>NA</td><td>NA</td><td>NA</td><td>NA</td><td>NA</td><td>NA</td><td>NA</td><td>24</td><td>TRUE</td></tr>\n",
       "\t<tr><th scope=row>69</th><td>3015x5306_3</td><td>107</td><td>3015x5306</td><td>3</td><td>12</td><td>2016-01-08</td><td>0</td><td>NA</td><td>NA</td><td>0</td><td>NA</td><td>NA</td><td>0</td><td>NA</td><td>0</td><td>NA</td><td>NA</td><td>NA</td><td>NA</td><td>NA</td><td>NA</td><td>NA</td><td>NA</td><td>NA</td><td>NA</td><td>NA</td><td>NA</td><td>NA</td><td>NA</td><td>NA</td><td>NA</td><td>NA</td><td>NA</td><td>NA</td><td>NA</td><td>Lund</td><td>NA</td><td>NA</td><td>NA</td><td>NA</td><td>NA</td><td>NA</td><td>NA</td><td>NA</td><td>8</td><td>TRUE</td></tr>\n",
       "\t<tr><th scope=row>81</th><td>3015x5358_76</td><td>90</td><td>3015x5358</td><td>76</td><td>21</td><td>2015-11-23</td><td>0</td><td>NA</td><td>NA</td><td>0</td><td>NA</td><td>NA</td><td>0</td><td>NA</td><td>0</td><td>0</td><td>1</td><td>4</td><td>NA</td><td>NA</td><td>NA</td><td>NA</td><td>NA</td><td>NA</td><td>NA</td><td>NA</td><td>NA</td><td>NA</td><td>NA</td><td>NA</td><td>NA</td><td>NA</td><td>NA</td><td>NA</td><td>NA</td><td>Lund</td><td>NA</td><td>NA</td><td>NA</td><td>NA</td><td>NA</td><td>NA</td><td>NA</td><td>NA</td><td>11</td><td>TRUE</td></tr>\n",
       "\t<tr><th scope=row>82</th><td>3015x5358_93</td><td>90</td><td>3015x5358</td><td>93</td><td>28</td><td>2016-01-27</td><td>0</td><td>NA</td><td>NA</td><td>0</td><td>NA</td><td>NA</td><td>0</td><td>NA</td><td>NA</td><td>NA</td><td>NA</td><td>NA</td><td>NA</td><td>NA</td><td>NA</td><td>NA</td><td>NA</td><td>NA</td><td>NA</td><td>NA</td><td>NA</td><td>NA</td><td>NA</td><td>NA</td><td>NA</td><td>NA</td><td>NA</td><td>NA</td><td>NA</td><td>Lund</td><td>NA</td><td>NA</td><td>NA</td><td>NA</td><td>NA</td><td>NA</td><td>NA</td><td>NA</td><td>6</td><td>TRUE</td></tr>\n",
       "\t<tr><th scope=row>83</th><td>3015x5358_96</td><td>90</td><td>3015x5358</td><td>96</td><td>28</td><td>2016-01-27</td><td>0</td><td>NA</td><td>NA</td><td>0</td><td>NA</td><td>NA</td><td>0</td><td>NA</td><td>0</td><td>1</td><td>1</td><td>1</td><td>1</td><td>NA</td><td>NA</td><td>NA</td><td>NA</td><td>NA</td><td>NA</td><td>NA</td><td>NA</td><td>NA</td><td>NA</td><td>NA</td><td>NA</td><td>NA</td><td>NA</td><td>NA</td><td>NA</td><td>Lund</td><td>NA</td><td>NA</td><td>NA</td><td>NA</td><td>NA</td><td>NA</td><td>NA</td><td>NA</td><td>12</td><td>TRUE</td></tr>\n",
       "\t<tr><th scope=row>84</th><td>3015x5358_97</td><td>90</td><td>3015x5358</td><td>97</td><td>28</td><td>2016-01-27</td><td>0</td><td>NA</td><td>NA</td><td>0</td><td>NA</td><td>NA</td><td>0</td><td>NA</td><td>1</td><td>2</td><td>NA</td><td>NA</td><td>NA</td><td>NA</td><td>NA</td><td>NA</td><td>NA</td><td>NA</td><td>NA</td><td>NA</td><td>NA</td><td>NA</td><td>NA</td><td>NA</td><td>NA</td><td>NA</td><td>NA</td><td>NA</td><td>NA</td><td>Lund</td><td>NA</td><td>NA</td><td>NA</td><td>NA</td><td>NA</td><td>NA</td><td>NA</td><td>NA</td><td>9</td><td>TRUE</td></tr>\n",
       "\t<tr><th scope=row>89</th><td>3260x1566_64</td><td>100</td><td>3260x1566</td><td>64</td><td>12</td><td>2015-12-09</td><td>0</td><td>NA</td><td>0</td><td>NA</td><td>NA</td><td>0</td><td>NA</td><td>NA</td><td>1</td><td>NA</td><td>NA</td><td>NA</td><td>NA</td><td>NA</td><td>NA</td><td>NA</td><td>NA</td><td>NA</td><td>NA</td><td>NA</td><td>NA</td><td>NA</td><td>NA</td><td>NA</td><td>NA</td><td>NA</td><td>NA</td><td>NA</td><td>NA</td><td>Lund</td><td>NA</td><td>NA</td><td>NA</td><td>NA</td><td>NA</td><td>NA</td><td>NA</td><td>NA</td><td>8</td><td>TRUE</td></tr>\n",
       "\t<tr><th scope=row>94</th><td>3260x1566_75</td><td>100</td><td>3260x1566</td><td>75</td><td>28</td><td>2015-12-30</td><td>0</td><td>NA</td><td>NA</td><td>NA</td><td>NA</td><td>0</td><td>NA</td><td>0</td><td>1</td><td>1</td><td>NA</td><td>NA</td><td>NA</td><td>NA</td><td>NA</td><td>NA</td><td>NA</td><td>NA</td><td>NA</td><td>NA</td><td>NA</td><td>NA</td><td>NA</td><td>NA</td><td>NA</td><td>NA</td><td>NA</td><td>NA</td><td>NA</td><td>Lund</td><td>NA</td><td>NA</td><td>NA</td><td>NA</td><td>NA</td><td>NA</td><td>NA</td><td>NA</td><td>9</td><td>TRUE</td></tr>\n",
       "\t<tr><th scope=row>96</th><td>3260x1566_83</td><td>100</td><td>3260x1566</td><td>83</td><td>12</td><td>2015-12-09</td><td>0</td><td>NA</td><td>0</td><td>NA</td><td>NA</td><td>0</td><td>NA</td><td>NA</td><td>1</td><td>4</td><td>NA</td><td>NA</td><td>NA</td><td>NA</td><td>NA</td><td>NA</td><td>NA</td><td>NA</td><td>NA</td><td>NA</td><td>NA</td><td>NA</td><td>NA</td><td>NA</td><td>NA</td><td>NA</td><td>NA</td><td>NA</td><td>NA</td><td>Lund</td><td>NA</td><td>NA</td><td>NA</td><td>NA</td><td>NA</td><td>NA</td><td>NA</td><td>NA</td><td>9</td><td>TRUE</td></tr>\n",
       "\t<tr><th scope=row>110</th><td>5035x8054_10</td><td>101</td><td>5035x8054</td><td>10</td><td>28</td><td>2015-11-02</td><td>0</td><td>NA</td><td>NA</td><td>0</td><td>NA</td><td>NA</td><td>NA</td><td>0</td><td>1</td><td>1</td><td>1</td><td>2</td><td>NA</td><td>NA</td><td>NA</td><td>NA</td><td>NA</td><td>NA</td><td>NA</td><td>NA</td><td>NA</td><td>NA</td><td>NA</td><td>NA</td><td>NA</td><td>NA</td><td>NA</td><td>NA</td><td>NA</td><td>Lund</td><td>NA</td><td>NA</td><td>NA</td><td>NA</td><td>NA</td><td>NA</td><td>NA</td><td>NA</td><td>11</td><td>TRUE</td></tr>\n",
       "\t<tr><th scope=row>111</th><td>5035x8054_14</td><td>101</td><td>5035x8054</td><td>14</td><td>12</td><td>2015-10-28</td><td>0</td><td>NA</td><td>0</td><td>NA</td><td>NA</td><td>0</td><td>NA</td><td>NA</td><td>1</td><td>3</td><td>NA</td><td>NA</td><td>NA</td><td>NA</td><td>NA</td><td>NA</td><td>NA</td><td>NA</td><td>NA</td><td>NA</td><td>NA</td><td>NA</td><td>NA</td><td>NA</td><td>NA</td><td>NA</td><td>NA</td><td>NA</td><td>NA</td><td>Lund</td><td>NA</td><td>NA</td><td>NA</td><td>NA</td><td>NA</td><td>NA</td><td>NA</td><td>NA</td><td>9</td><td>TRUE</td></tr>\n",
       "\t<tr><th scope=row>112</th><td>5035x8054_15</td><td>101</td><td>5035x8054</td><td>15</td><td>28</td><td>2015-11-02</td><td>0</td><td>NA</td><td>NA</td><td>0</td><td>NA</td><td>NA</td><td>NA</td><td>0</td><td>1</td><td>1</td><td>1</td><td>1</td><td>NA</td><td>NA</td><td>NA</td><td>NA</td><td>NA</td><td>NA</td><td>NA</td><td>NA</td><td>NA</td><td>NA</td><td>NA</td><td>NA</td><td>NA</td><td>NA</td><td>NA</td><td>NA</td><td>NA</td><td>Lund</td><td>NA</td><td>NA</td><td>NA</td><td>NA</td><td>NA</td><td>NA</td><td>NA</td><td>NA</td><td>11</td><td>TRUE</td></tr>\n",
       "\t<tr><th scope=row>114</th><td>5035x8054_21</td><td>101</td><td>5035x8054</td><td>21</td><td>21</td><td>2015-11-09</td><td>0</td><td>NA</td><td>NA</td><td>0</td><td>NA</td><td>NA</td><td>NA</td><td>0</td><td>NA</td><td>NA</td><td>NA</td><td>NA</td><td>NA</td><td>NA</td><td>NA</td><td>NA</td><td>NA</td><td>NA</td><td>NA</td><td>NA</td><td>NA</td><td>NA</td><td>NA</td><td>NA</td><td>NA</td><td>NA</td><td>NA</td><td>NA</td><td>NA</td><td>Lund</td><td>NA</td><td>NA</td><td>NA</td><td>NA</td><td>NA</td><td>NA</td><td>NA</td><td>NA</td><td>7</td><td>TRUE</td></tr>\n",
       "\t<tr><th scope=row>115</th><td>5035x8054_26</td><td>101</td><td>5035x8054</td><td>26</td><td>21</td><td>2015-11-09</td><td>0</td><td>NA</td><td>NA</td><td>0</td><td>NA</td><td>NA</td><td>NA</td><td>0</td><td>1</td><td>NA</td><td>NA</td><td>NA</td><td>NA</td><td>NA</td><td>NA</td><td>NA</td><td>NA</td><td>NA</td><td>NA</td><td>NA</td><td>NA</td><td>NA</td><td>NA</td><td>NA</td><td>NA</td><td>NA</td><td>NA</td><td>NA</td><td>NA</td><td>Lund</td><td>NA</td><td>NA</td><td>NA</td><td>NA</td><td>NA</td><td>NA</td><td>NA</td><td>NA</td><td>8</td><td>TRUE</td></tr>\n",
       "\t<tr><th scope=row>116</th><td>5035x8054_27</td><td>101</td><td>5035x8054</td><td>27</td><td>21</td><td>2015-11-09</td><td>0</td><td>NA</td><td>NA</td><td>0</td><td>NA</td><td>NA</td><td>NA</td><td>0</td><td>1</td><td>1</td><td>1</td><td>NA</td><td>NA</td><td>NA</td><td>NA</td><td>NA</td><td>NA</td><td>NA</td><td>NA</td><td>NA</td><td>NA</td><td>NA</td><td>NA</td><td>NA</td><td>NA</td><td>NA</td><td>NA</td><td>NA</td><td>NA</td><td>Lund</td><td>NA</td><td>NA</td><td>NA</td><td>NA</td><td>NA</td><td>NA</td><td>NA</td><td>NA</td><td>10</td><td>TRUE</td></tr>\n",
       "\t<tr><th scope=row>118</th><td>5035x8054_4</td><td>101</td><td>5035x8054</td><td>4</td><td>28</td><td>2015-11-02</td><td>0</td><td>NA</td><td>NA</td><td>0</td><td>NA</td><td>NA</td><td>NA</td><td>0</td><td>0</td><td>1</td><td>1</td><td>1</td><td>NA</td><td>NA</td><td>NA</td><td>NA</td><td>NA</td><td>NA</td><td>NA</td><td>NA</td><td>NA</td><td>NA</td><td>NA</td><td>NA</td><td>NA</td><td>NA</td><td>NA</td><td>NA</td><td>NA</td><td>Lund</td><td>NA</td><td>NA</td><td>NA</td><td>NA</td><td>NA</td><td>NA</td><td>NA</td><td>NA</td><td>11</td><td>TRUE</td></tr>\n",
       "\t<tr><th scope=row>121</th><td>5306x16521_19</td><td>102</td><td>5306x16521</td><td>19</td><td>21</td><td>2015-11-09</td><td>0</td><td>NA</td><td>NA</td><td>0</td><td>NA</td><td>NA</td><td>NA</td><td>0</td><td>0</td><td>0</td><td>2</td><td>NA</td><td>NA</td><td>NA</td><td>NA</td><td>NA</td><td>NA</td><td>NA</td><td>NA</td><td>NA</td><td>NA</td><td>NA</td><td>NA</td><td>NA</td><td>NA</td><td>NA</td><td>NA</td><td>NA</td><td>NA</td><td>Lund</td><td>NA</td><td>NA</td><td>NA</td><td>NA</td><td>NA</td><td>NA</td><td>NA</td><td>NA</td><td>10</td><td>TRUE</td></tr>\n",
       "\t<tr><th scope=row>122</th><td>5306x16521_20</td><td>102</td><td>5306x16521</td><td>20</td><td>21</td><td>2015-11-09</td><td>0</td><td>NA</td><td>NA</td><td>0</td><td>NA</td><td>NA</td><td>NA</td><td>0</td><td>0</td><td>0</td><td>0</td><td>1</td><td>4</td><td>NA</td><td>NA</td><td>NA</td><td>NA</td><td>NA</td><td>NA</td><td>NA</td><td>NA</td><td>NA</td><td>NA</td><td>NA</td><td>NA</td><td>NA</td><td>NA</td><td>NA</td><td>NA</td><td>Lund</td><td>NA</td><td>NA</td><td>NA</td><td>NA</td><td>NA</td><td>NA</td><td>NA</td><td>NA</td><td>12</td><td>TRUE</td></tr>\n",
       "\t<tr><th scope=row>123</th><td>5306x16521_22</td><td>102</td><td>5306x16521</td><td>22</td><td>21</td><td>2015-11-09</td><td>0</td><td>NA</td><td>NA</td><td>0</td><td>NA</td><td>NA</td><td>NA</td><td>0</td><td>0</td><td>1</td><td>1</td><td>1</td><td>NA</td><td>NA</td><td>NA</td><td>NA</td><td>NA</td><td>NA</td><td>NA</td><td>NA</td><td>NA</td><td>NA</td><td>NA</td><td>NA</td><td>NA</td><td>NA</td><td>NA</td><td>NA</td><td>NA</td><td>Lund</td><td>NA</td><td>NA</td><td>NA</td><td>NA</td><td>NA</td><td>NA</td><td>NA</td><td>NA</td><td>11</td><td>TRUE</td></tr>\n",
       "\t<tr><th scope=row>129</th><td>5306x16521_55</td><td>102</td><td>5306x16521</td><td>55</td><td>28</td><td>2015-12-30</td><td>0</td><td>NA</td><td>NA</td><td>NA</td><td>NA</td><td>0</td><td>NA</td><td>0</td><td>0</td><td>0</td><td>1</td><td>NA</td><td>NA</td><td>NA</td><td>NA</td><td>NA</td><td>NA</td><td>NA</td><td>NA</td><td>NA</td><td>NA</td><td>NA</td><td>NA</td><td>NA</td><td>NA</td><td>NA</td><td>NA</td><td>NA</td><td>NA</td><td>Lund</td><td>NA</td><td>NA</td><td>NA</td><td>NA</td><td>NA</td><td>NA</td><td>NA</td><td>NA</td><td>10</td><td>TRUE</td></tr>\n",
       "\t<tr><th scope=row>147</th><td>8004x8052_43</td><td>94</td><td>8004x8052</td><td>43</td><td>28</td><td>2015-09-30</td><td>0</td><td>NA</td><td>NA</td><td>0</td><td>NA</td><td>NA</td><td>0</td><td>NA</td><td>0</td><td>NA</td><td>NA</td><td>NA</td><td>NA</td><td>NA</td><td>NA</td><td>NA</td><td>NA</td><td>NA</td><td>NA</td><td>NA</td><td>NA</td><td>NA</td><td>NA</td><td>NA</td><td>NA</td><td>NA</td><td>NA</td><td>NA</td><td>NA</td><td>Lund</td><td>NA</td><td>NA</td><td>NA</td><td>NA</td><td>NA</td><td>NA</td><td>NA</td><td>NA</td><td>8</td><td>TRUE</td></tr>\n",
       "\t<tr><th scope=row>150</th><td>8004x8052_63</td><td>94</td><td>8004x8052</td><td>63</td><td>21</td><td>2015-10-21</td><td>0</td><td>NA</td><td>NA</td><td>0</td><td>NA</td><td>NA</td><td>0</td><td>NA</td><td>0</td><td>0</td><td>0</td><td>0</td><td>0</td><td>0</td><td>0</td><td>NA</td><td>NA</td><td>NA</td><td>NA</td><td>NA</td><td>NA</td><td>NA</td><td>NA</td><td>NA</td><td>NA</td><td>NA</td><td>NA</td><td>NA</td><td>NA</td><td>Lund</td><td>NA</td><td>NA</td><td>NA</td><td>NA</td><td>NA</td><td>NA</td><td>NA</td><td>NA</td><td>14</td><td>TRUE</td></tr>\n",
       "\t<tr><th scope=row>152</th><td>8004x8052_71</td><td>94</td><td>8004x8052</td><td>71</td><td>21</td><td>2015-10-21</td><td>0</td><td>NA</td><td>NA</td><td>0</td><td>NA</td><td>NA</td><td>0</td><td>NA</td><td>0</td><td>0</td><td>NA</td><td>NA</td><td>NA</td><td>NA</td><td>NA</td><td>NA</td><td>NA</td><td>NA</td><td>NA</td><td>NA</td><td>NA</td><td>NA</td><td>NA</td><td>NA</td><td>NA</td><td>NA</td><td>NA</td><td>NA</td><td>NA</td><td>Lund</td><td>NA</td><td>NA</td><td>NA</td><td>NA</td><td>NA</td><td>NA</td><td>NA</td><td>NA</td><td>9</td><td>TRUE</td></tr>\n",
       "\t<tr><th scope=row>156</th><td>8004x8052_NA</td><td>94</td><td>8004x8052</td><td>NA</td><td>12</td><td>NA</td><td>NA</td><td>NA</td><td>NA</td><td>NA</td><td>NA</td><td>NA</td><td>NA</td><td>NA</td><td>NA</td><td>NA</td><td>NA</td><td>NA</td><td>NA</td><td>NA</td><td>NA</td><td>NA</td><td>NA</td><td>NA</td><td>NA</td><td>NA</td><td>NA</td><td>NA</td><td>NA</td><td>NA</td><td>NA</td><td>NA</td><td>NA</td><td>NA</td><td>NA</td><td>Lund</td><td>NA</td><td>NA</td><td>NA</td><td>NA</td><td>NA</td><td>NA</td><td>NA</td><td>NA</td><td>-Inf</td><td>TRUE</td></tr>\n",
       "\t<tr><th scope=row>190</th><td>8056x8033_167</td><td>61</td><td>8056x8033</td><td>167</td><td>28</td><td>2016-01-25</td><td>0</td><td>NA</td><td>0</td><td>NA</td><td>NA</td><td>0</td><td>NA</td><td>NA</td><td>0</td><td>1</td><td>1</td><td>1</td><td>1</td><td>1</td><td>NA</td><td>NA</td><td>NA</td><td>NA</td><td>NA</td><td>NA</td><td>NA</td><td>NA</td><td>NA</td><td>NA</td><td>NA</td><td>NA</td><td>NA</td><td>NA</td><td>NA</td><td>Lund</td><td>NA</td><td>NA</td><td>NA</td><td>NA</td><td>NA</td><td>NA</td><td>NA</td><td>NA</td><td>13</td><td>TRUE</td></tr>\n",
       "\t<tr><th scope=row>192</th><td>8056x8033_169</td><td>61</td><td>8056x8033</td><td>169</td><td>28</td><td>2016-01-25</td><td>0</td><td>NA</td><td>0</td><td>NA</td><td>NA</td><td>0</td><td>NA</td><td>NA</td><td>0</td><td>0</td><td>1</td><td>1</td><td>1</td><td>1</td><td>NA</td><td>NA</td><td>NA</td><td>NA</td><td>NA</td><td>NA</td><td>NA</td><td>NA</td><td>NA</td><td>NA</td><td>NA</td><td>NA</td><td>NA</td><td>NA</td><td>NA</td><td>Lund</td><td>NA</td><td>NA</td><td>NA</td><td>NA</td><td>NA</td><td>NA</td><td>NA</td><td>NA</td><td>13</td><td>TRUE</td></tr>\n",
       "\t<tr><th scope=row>193</th><td>8056x8033_45</td><td>61</td><td>8056x8033</td><td>45</td><td>12</td><td>2014-10-16</td><td>0</td><td>NA</td><td>NA</td><td>NA</td><td>0</td><td>NA</td><td>0</td><td>NA</td><td>0</td><td>0</td><td>NA</td><td>NA</td><td>NA</td><td>NA</td><td>NA</td><td>NA</td><td>NA</td><td>NA</td><td>NA</td><td>NA</td><td>NA</td><td>NA</td><td>NA</td><td>NA</td><td>NA</td><td>NA</td><td>NA</td><td>NA</td><td>NA</td><td>Lund</td><td>NA</td><td>NA</td><td>NA</td><td>NA</td><td>NA</td><td>NA</td><td>NA</td><td>NA</td><td>9</td><td>TRUE</td></tr>\n",
       "\t<tr><th scope=row>194</th><td>8056x8033_48</td><td>61</td><td>8056x8033</td><td>48</td><td>12</td><td>2014-10-16</td><td>0</td><td>NA</td><td>NA</td><td>NA</td><td>0</td><td>NA</td><td>0</td><td>NA</td><td>0</td><td>0</td><td>NA</td><td>NA</td><td>NA</td><td>NA</td><td>NA</td><td>NA</td><td>NA</td><td>NA</td><td>NA</td><td>NA</td><td>NA</td><td>NA</td><td>NA</td><td>NA</td><td>NA</td><td>NA</td><td>NA</td><td>NA</td><td>NA</td><td>Lund</td><td>NA</td><td>NA</td><td>NA</td><td>NA</td><td>NA</td><td>NA</td><td>NA</td><td>NA</td><td>9</td><td>TRUE</td></tr>\n",
       "\t<tr><th scope=row>195</th><td>8056x8033_51</td><td>61</td><td>8056x8033</td><td>51</td><td>21</td><td>2014-10-21</td><td>0</td><td>NA</td><td>NA</td><td>0</td><td>NA</td><td>NA</td><td>0</td><td>NA</td><td>NA</td><td>0</td><td>0</td><td>1</td><td>1</td><td>1</td><td>NA</td><td>NA</td><td>NA</td><td>NA</td><td>NA</td><td>NA</td><td>NA</td><td>NA</td><td>NA</td><td>NA</td><td>NA</td><td>NA</td><td>NA</td><td>NA</td><td>NA</td><td>Lund</td><td>NA</td><td>NA</td><td>NA</td><td>NA</td><td>NA</td><td>NA</td><td>NA</td><td>NA</td><td>13</td><td>TRUE</td></tr>\n",
       "\t<tr><th scope=row>197</th><td>8056x8033_57</td><td>61</td><td>8056x8033</td><td>57</td><td>21</td><td>2014-10-21</td><td>0</td><td>NA</td><td>NA</td><td>0</td><td>NA</td><td>NA</td><td>0</td><td>NA</td><td>NA</td><td>0</td><td>1</td><td>1</td><td>NA</td><td>NA</td><td>NA</td><td>NA</td><td>NA</td><td>NA</td><td>NA</td><td>NA</td><td>NA</td><td>NA</td><td>NA</td><td>NA</td><td>NA</td><td>NA</td><td>NA</td><td>NA</td><td>NA</td><td>Lund</td><td>NA</td><td>NA</td><td>NA</td><td>NA</td><td>NA</td><td>NA</td><td>NA</td><td>NA</td><td>11</td><td>TRUE</td></tr>\n",
       "\t<tr><th scope=row>198</th><td>8056x8033_58</td><td>61</td><td>8056x8033</td><td>58</td><td>12</td><td>2014-10-16</td><td>0</td><td>NA</td><td>NA</td><td>NA</td><td>0</td><td>NA</td><td>0</td><td>NA</td><td>0</td><td>0</td><td>NA</td><td>NA</td><td>NA</td><td>NA</td><td>NA</td><td>NA</td><td>NA</td><td>NA</td><td>NA</td><td>NA</td><td>NA</td><td>NA</td><td>NA</td><td>NA</td><td>NA</td><td>NA</td><td>NA</td><td>NA</td><td>NA</td><td>Lund</td><td>NA</td><td>NA</td><td>NA</td><td>NA</td><td>NA</td><td>NA</td><td>NA</td><td>NA</td><td>9</td><td>TRUE</td></tr>\n",
       "</tbody>\n",
       "</table>\n"
      ],
      "text/latex": [
       "\\begin{tabular}{r|llllllllllllllllllllllllllllllllllllllllllllll}\n",
       "  & ID & UW_Line & Mating & RIX_ID & Timepoint & Date_Infected & D0 & D1 & D2 & D3 & D4 & D5 & D6 & D7 & D8 & D9 & D10 & D11 & D12 & D13 & D14 & D15 & D16 & D17 & D18 & D19 & D20 & D21 & D22 & D23 & D24 & D25 & D26 & D27 & D28 & Lab & UWID & Data_Altered & Notes & Death_Date & Death_Euthanized & Death_FoundInCage & Died_of_Virus & Died_from_Anesthesia & putative_death_day & Flag_Death_Day\\\\\n",
       "\\hline\n",
       "\t1 & 15119x16521_39 & 96 & 15119x16521 & 39 & 21 & 2015-11-09 & 0 & NA & NA & 0 & NA & NA & NA & 0 & 0 & 1 & 1 & 1 & NA & NA & NA & NA & NA & NA & NA & NA & NA & NA & NA & NA & NA & NA & NA & NA & NA & Lund & NA & NA & NA & NA & NA & NA & NA & NA & 11 & TRUE\\\\\n",
       "\t2 & 15119x16521_40 & 96 & 15119x16521 & 40 & 21 & 2015-11-09 & 0 & NA & NA & 0 & NA & NA & NA & 0 & 1 & NA & NA & NA & NA & NA & NA & NA & NA & NA & NA & NA & NA & NA & NA & NA & NA & NA & NA & NA & NA & Lund & NA & NA & NA & NA & NA & NA & NA & NA & 8 & TRUE\\\\\n",
       "\t3 & 15119x16521_42 & 96 & 15119x16521 & 42 & 21 & 2015-11-09 & 0 & NA & NA & 0 & NA & NA & NA & 0 & 0 & 0 & 0 & 0 & 0 & 0 & 0 & NA & 0 & NA & 0 & NA & NA & NA & NA & NA & NA & NA & NA & NA & NA & Lund & NA & NA & NA & NA & NA & NA & NA & NA & 18 & TRUE\\\\\n",
       "\t6 & 15119x16521_49 & 96 & 15119x16521 & 49 & 28 & 2015-11-23 & 0 & NA & 0 & NA & NA & 0 & NA & NA & NA & 1 & 1 & NA & NA & NA & NA & NA & NA & NA & NA & NA & NA & NA & NA & NA & NA & NA & NA & NA & NA & Lund & NA & NA & NA & NA & NA & NA & NA & NA & 10 & TRUE\\\\\n",
       "\t7 & 15119x16521_50 & 96 & 15119x16521 & 50 & 28 & 2015-11-23 & 0 & NA & 0 & NA & NA & 0 & NA & NA & NA & 0 & 0 & 0 & 0 & 0 & 0 & NA & NA & NA & 0 & NA & NA & 0 & NA & NA & 0 & NA & NA & NA & NA & Lund & NA & NA & NA & NA & NA & NA & NA & NA & 24 & TRUE\\\\\n",
       "\t9 & 15119x16521_65 & 96 & 15119x16521 & 65 & 28 & 2015-11-23 & 0 & NA & 0 & NA & NA & 0 & NA & NA & NA & 0 & 0 & 0 & 0 & 0 & 0 & NA & NA & NA & 0 & NA & NA & 0 & NA & NA & 0 & NA & NA & NA & NA & Lund & NA & NA & NA & NA & NA & NA & NA & NA & 24 & TRUE\\\\\n",
       "\t15 & 16513x8027_35 & 106 & 16513x8027 & 35 & 12 & 2016-01-08 & 0 & NA & NA & NA & NA & NA & NA & NA & NA & NA & NA & NA & NA & NA & NA & NA & NA & NA & NA & NA & NA & NA & NA & NA & NA & NA & NA & NA & NA & Lund & NA & NA & NA & NA & NA & NA & NA & NA & 0 & TRUE\\\\\n",
       "\t50 & 18018x3460_13 & 99 & 18018x3460 & 13 & 12 & 2015-10-28 & 0 & NA & 0 & NA & NA & 0 & NA & NA & 1 & NA & NA & NA & NA & NA & NA & NA & NA & NA & NA & NA & NA & NA & NA & NA & NA & NA & NA & NA & NA & Lund & NA & NA & NA & NA & NA & NA & NA & NA & 8 & TRUE\\\\\n",
       "\t56 & 18018x3460_43 & 99 & 18018x3460 & 43 & 28 & 2016-02-01 & 0 & NA & NA & 0 & NA & NA & NA & 0 & NA & 1 & 1 & NA & NA & NA & NA & NA & NA & NA & NA & NA & NA & NA & NA & NA & NA & NA & NA & NA & NA & Lund & NA & NA & NA & NA & NA & NA & NA & NA & 10 & TRUE\\\\\n",
       "\t57 & 18018x3460_47 & 99 & 18018x3460 & 47 & 21 & 2016-02-03 & 0 & NA & 0 & NA & NA & NA & NA & 1 & NA & NA & NA & NA & NA & NA & NA & NA & NA & NA & NA & NA & NA & NA & NA & NA & NA & NA & NA & NA & NA & Lund & NA & NA & NA & NA & NA & NA & NA & NA & 7 & TRUE\\\\\n",
       "\t58 & 18018x3460_48 & 99 & 18018x3460 & 48 & 21 & 2016-02-03 & 0 & NA & 0 & NA & NA & NA & NA & 0 & 1 & 1 & 1 & 4 & NA & NA & NA & NA & NA & NA & NA & NA & NA & NA & NA & NA & NA & NA & NA & NA & NA & Lund & NA & NA & NA & NA & NA & NA & NA & NA & 11 & TRUE\\\\\n",
       "\t59 & 18018x3460_49 & 99 & 18018x3460 & 49 & 28 & 2016-02-01 & 0 & NA & NA & 0 & NA & NA & NA & 0 & NA & 1 & NA & NA & NA & NA & NA & NA & NA & NA & NA & NA & NA & NA & NA & NA & NA & NA & NA & NA & NA & Lund & NA & NA & NA & NA & NA & NA & NA & NA & 9 & TRUE\\\\\n",
       "\t60 & 18018x3460_54 & 99 & 18018x3460 & 54 & 28 & 2016-02-01 & 0 & NA & NA & 0 & NA & NA & NA & 0 & NA & NA & NA & NA & NA & NA & NA & NA & NA & NA & NA & NA & NA & NA & NA & NA & NA & NA & NA & NA & NA & Lund & NA & NA & NA & NA & NA & NA & NA & NA & 7 & TRUE\\\\\n",
       "\t63 & 3015x5306_19 & 107 & 3015x5306 & 19 & 21 & 2016-02-03 & 0 & NA & 0 & NA & NA & NA & NA & 0 & 0 & 1 & NA & NA & NA & NA & NA & NA & NA & NA & NA & NA & NA & NA & NA & NA & NA & NA & NA & NA & NA & Lund & NA & NA & NA & NA & NA & NA & NA & NA & 9 & TRUE\\\\\n",
       "\t64 & 3015x5306_2 & 107 & 3015x5306 & 2 & 12 & 2016-01-08 & 0 & NA & NA & 0 & NA & NA & 0 & NA & 0 & NA & NA & NA & NA & NA & NA & NA & NA & NA & NA & NA & NA & NA & NA & NA & NA & NA & NA & NA & NA & Lund & NA & NA & NA & NA & NA & NA & NA & NA & 8 & TRUE\\\\\n",
       "\t65 & 3015x5306_20 & 107 & 3015x5306 & 20 & 21 & 2016-02-03 & 0 & NA & 0 & NA & NA & NA & NA & 0 & 0 & 1 & NA & NA & NA & NA & NA & NA & NA & NA & NA & NA & NA & NA & NA & NA & NA & NA & NA & NA & NA & Lund & NA & NA & NA & NA & NA & NA & NA & NA & 9 & TRUE\\\\\n",
       "\t66 & 3015x5306_21 & 107 & 3015x5306 & 21 & 28 & 2016-02-08 & 0 & NA & NA & 0 & NA & NA & 0 & NA & 0 & 0 & 4 & NA & NA & NA & NA & NA & NA & NA & NA & NA & NA & NA & NA & NA & NA & NA & NA & NA & NA & Lund & NA & NA & NA & NA & NA & NA & NA & NA & 10 & TRUE\\\\\n",
       "\t67 & 3015x5306_22 & 107 & 3015x5306 & 22 & 28 & 2016-02-08 & 0 & NA & NA & 0 & NA & NA & 0 & NA & 0 & 0 & 4 & NA & NA & NA & NA & NA & NA & NA & NA & NA & NA & NA & NA & NA & NA & NA & NA & NA & NA & Lund & NA & NA & NA & NA & NA & NA & NA & NA & 10 & TRUE\\\\\n",
       "\t68 & 3015x5306_28 & 107 & 3015x5306 & 28 & 28 & 2016-02-08 & 0 & NA & NA & 0 & NA & NA & 0 & NA & 0 & 0 & 0 & 0 & 0 & 0 & 0 & NA & NA & 0 & NA & NA & 0 & NA & NA & NA & 0 & NA & NA & NA & NA & Lund & NA & NA & NA & NA & NA & NA & NA & NA & 24 & TRUE\\\\\n",
       "\t69 & 3015x5306_3 & 107 & 3015x5306 & 3 & 12 & 2016-01-08 & 0 & NA & NA & 0 & NA & NA & 0 & NA & 0 & NA & NA & NA & NA & NA & NA & NA & NA & NA & NA & NA & NA & NA & NA & NA & NA & NA & NA & NA & NA & Lund & NA & NA & NA & NA & NA & NA & NA & NA & 8 & TRUE\\\\\n",
       "\t81 & 3015x5358_76 & 90 & 3015x5358 & 76 & 21 & 2015-11-23 & 0 & NA & NA & 0 & NA & NA & 0 & NA & 0 & 0 & 1 & 4 & NA & NA & NA & NA & NA & NA & NA & NA & NA & NA & NA & NA & NA & NA & NA & NA & NA & Lund & NA & NA & NA & NA & NA & NA & NA & NA & 11 & TRUE\\\\\n",
       "\t82 & 3015x5358_93 & 90 & 3015x5358 & 93 & 28 & 2016-01-27 & 0 & NA & NA & 0 & NA & NA & 0 & NA & NA & NA & NA & NA & NA & NA & NA & NA & NA & NA & NA & NA & NA & NA & NA & NA & NA & NA & NA & NA & NA & Lund & NA & NA & NA & NA & NA & NA & NA & NA & 6 & TRUE\\\\\n",
       "\t83 & 3015x5358_96 & 90 & 3015x5358 & 96 & 28 & 2016-01-27 & 0 & NA & NA & 0 & NA & NA & 0 & NA & 0 & 1 & 1 & 1 & 1 & NA & NA & NA & NA & NA & NA & NA & NA & NA & NA & NA & NA & NA & NA & NA & NA & Lund & NA & NA & NA & NA & NA & NA & NA & NA & 12 & TRUE\\\\\n",
       "\t84 & 3015x5358_97 & 90 & 3015x5358 & 97 & 28 & 2016-01-27 & 0 & NA & NA & 0 & NA & NA & 0 & NA & 1 & 2 & NA & NA & NA & NA & NA & NA & NA & NA & NA & NA & NA & NA & NA & NA & NA & NA & NA & NA & NA & Lund & NA & NA & NA & NA & NA & NA & NA & NA & 9 & TRUE\\\\\n",
       "\t89 & 3260x1566_64 & 100 & 3260x1566 & 64 & 12 & 2015-12-09 & 0 & NA & 0 & NA & NA & 0 & NA & NA & 1 & NA & NA & NA & NA & NA & NA & NA & NA & NA & NA & NA & NA & NA & NA & NA & NA & NA & NA & NA & NA & Lund & NA & NA & NA & NA & NA & NA & NA & NA & 8 & TRUE\\\\\n",
       "\t94 & 3260x1566_75 & 100 & 3260x1566 & 75 & 28 & 2015-12-30 & 0 & NA & NA & NA & NA & 0 & NA & 0 & 1 & 1 & NA & NA & NA & NA & NA & NA & NA & NA & NA & NA & NA & NA & NA & NA & NA & NA & NA & NA & NA & Lund & NA & NA & NA & NA & NA & NA & NA & NA & 9 & TRUE\\\\\n",
       "\t96 & 3260x1566_83 & 100 & 3260x1566 & 83 & 12 & 2015-12-09 & 0 & NA & 0 & NA & NA & 0 & NA & NA & 1 & 4 & NA & NA & NA & NA & NA & NA & NA & NA & NA & NA & NA & NA & NA & NA & NA & NA & NA & NA & NA & Lund & NA & NA & NA & NA & NA & NA & NA & NA & 9 & TRUE\\\\\n",
       "\t110 & 5035x8054_10 & 101 & 5035x8054 & 10 & 28 & 2015-11-02 & 0 & NA & NA & 0 & NA & NA & NA & 0 & 1 & 1 & 1 & 2 & NA & NA & NA & NA & NA & NA & NA & NA & NA & NA & NA & NA & NA & NA & NA & NA & NA & Lund & NA & NA & NA & NA & NA & NA & NA & NA & 11 & TRUE\\\\\n",
       "\t111 & 5035x8054_14 & 101 & 5035x8054 & 14 & 12 & 2015-10-28 & 0 & NA & 0 & NA & NA & 0 & NA & NA & 1 & 3 & NA & NA & NA & NA & NA & NA & NA & NA & NA & NA & NA & NA & NA & NA & NA & NA & NA & NA & NA & Lund & NA & NA & NA & NA & NA & NA & NA & NA & 9 & TRUE\\\\\n",
       "\t112 & 5035x8054_15 & 101 & 5035x8054 & 15 & 28 & 2015-11-02 & 0 & NA & NA & 0 & NA & NA & NA & 0 & 1 & 1 & 1 & 1 & NA & NA & NA & NA & NA & NA & NA & NA & NA & NA & NA & NA & NA & NA & NA & NA & NA & Lund & NA & NA & NA & NA & NA & NA & NA & NA & 11 & TRUE\\\\\n",
       "\t114 & 5035x8054_21 & 101 & 5035x8054 & 21 & 21 & 2015-11-09 & 0 & NA & NA & 0 & NA & NA & NA & 0 & NA & NA & NA & NA & NA & NA & NA & NA & NA & NA & NA & NA & NA & NA & NA & NA & NA & NA & NA & NA & NA & Lund & NA & NA & NA & NA & NA & NA & NA & NA & 7 & TRUE\\\\\n",
       "\t115 & 5035x8054_26 & 101 & 5035x8054 & 26 & 21 & 2015-11-09 & 0 & NA & NA & 0 & NA & NA & NA & 0 & 1 & NA & NA & NA & NA & NA & NA & NA & NA & NA & NA & NA & NA & NA & NA & NA & NA & NA & NA & NA & NA & Lund & NA & NA & NA & NA & NA & NA & NA & NA & 8 & TRUE\\\\\n",
       "\t116 & 5035x8054_27 & 101 & 5035x8054 & 27 & 21 & 2015-11-09 & 0 & NA & NA & 0 & NA & NA & NA & 0 & 1 & 1 & 1 & NA & NA & NA & NA & NA & NA & NA & NA & NA & NA & NA & NA & NA & NA & NA & NA & NA & NA & Lund & NA & NA & NA & NA & NA & NA & NA & NA & 10 & TRUE\\\\\n",
       "\t118 & 5035x8054_4 & 101 & 5035x8054 & 4 & 28 & 2015-11-02 & 0 & NA & NA & 0 & NA & NA & NA & 0 & 0 & 1 & 1 & 1 & NA & NA & NA & NA & NA & NA & NA & NA & NA & NA & NA & NA & NA & NA & NA & NA & NA & Lund & NA & NA & NA & NA & NA & NA & NA & NA & 11 & TRUE\\\\\n",
       "\t121 & 5306x16521_19 & 102 & 5306x16521 & 19 & 21 & 2015-11-09 & 0 & NA & NA & 0 & NA & NA & NA & 0 & 0 & 0 & 2 & NA & NA & NA & NA & NA & NA & NA & NA & NA & NA & NA & NA & NA & NA & NA & NA & NA & NA & Lund & NA & NA & NA & NA & NA & NA & NA & NA & 10 & TRUE\\\\\n",
       "\t122 & 5306x16521_20 & 102 & 5306x16521 & 20 & 21 & 2015-11-09 & 0 & NA & NA & 0 & NA & NA & NA & 0 & 0 & 0 & 0 & 1 & 4 & NA & NA & NA & NA & NA & NA & NA & NA & NA & NA & NA & NA & NA & NA & NA & NA & Lund & NA & NA & NA & NA & NA & NA & NA & NA & 12 & TRUE\\\\\n",
       "\t123 & 5306x16521_22 & 102 & 5306x16521 & 22 & 21 & 2015-11-09 & 0 & NA & NA & 0 & NA & NA & NA & 0 & 0 & 1 & 1 & 1 & NA & NA & NA & NA & NA & NA & NA & NA & NA & NA & NA & NA & NA & NA & NA & NA & NA & Lund & NA & NA & NA & NA & NA & NA & NA & NA & 11 & TRUE\\\\\n",
       "\t129 & 5306x16521_55 & 102 & 5306x16521 & 55 & 28 & 2015-12-30 & 0 & NA & NA & NA & NA & 0 & NA & 0 & 0 & 0 & 1 & NA & NA & NA & NA & NA & NA & NA & NA & NA & NA & NA & NA & NA & NA & NA & NA & NA & NA & Lund & NA & NA & NA & NA & NA & NA & NA & NA & 10 & TRUE\\\\\n",
       "\t147 & 8004x8052_43 & 94 & 8004x8052 & 43 & 28 & 2015-09-30 & 0 & NA & NA & 0 & NA & NA & 0 & NA & 0 & NA & NA & NA & NA & NA & NA & NA & NA & NA & NA & NA & NA & NA & NA & NA & NA & NA & NA & NA & NA & Lund & NA & NA & NA & NA & NA & NA & NA & NA & 8 & TRUE\\\\\n",
       "\t150 & 8004x8052_63 & 94 & 8004x8052 & 63 & 21 & 2015-10-21 & 0 & NA & NA & 0 & NA & NA & 0 & NA & 0 & 0 & 0 & 0 & 0 & 0 & 0 & NA & NA & NA & NA & NA & NA & NA & NA & NA & NA & NA & NA & NA & NA & Lund & NA & NA & NA & NA & NA & NA & NA & NA & 14 & TRUE\\\\\n",
       "\t152 & 8004x8052_71 & 94 & 8004x8052 & 71 & 21 & 2015-10-21 & 0 & NA & NA & 0 & NA & NA & 0 & NA & 0 & 0 & NA & NA & NA & NA & NA & NA & NA & NA & NA & NA & NA & NA & NA & NA & NA & NA & NA & NA & NA & Lund & NA & NA & NA & NA & NA & NA & NA & NA & 9 & TRUE\\\\\n",
       "\t156 & 8004x8052_NA & 94 & 8004x8052 & NA & 12 & NA & NA & NA & NA & NA & NA & NA & NA & NA & NA & NA & NA & NA & NA & NA & NA & NA & NA & NA & NA & NA & NA & NA & NA & NA & NA & NA & NA & NA & NA & Lund & NA & NA & NA & NA & NA & NA & NA & NA & -Inf & TRUE\\\\\n",
       "\t190 & 8056x8033_167 & 61 & 8056x8033 & 167 & 28 & 2016-01-25 & 0 & NA & 0 & NA & NA & 0 & NA & NA & 0 & 1 & 1 & 1 & 1 & 1 & NA & NA & NA & NA & NA & NA & NA & NA & NA & NA & NA & NA & NA & NA & NA & Lund & NA & NA & NA & NA & NA & NA & NA & NA & 13 & TRUE\\\\\n",
       "\t192 & 8056x8033_169 & 61 & 8056x8033 & 169 & 28 & 2016-01-25 & 0 & NA & 0 & NA & NA & 0 & NA & NA & 0 & 0 & 1 & 1 & 1 & 1 & NA & NA & NA & NA & NA & NA & NA & NA & NA & NA & NA & NA & NA & NA & NA & Lund & NA & NA & NA & NA & NA & NA & NA & NA & 13 & TRUE\\\\\n",
       "\t193 & 8056x8033_45 & 61 & 8056x8033 & 45 & 12 & 2014-10-16 & 0 & NA & NA & NA & 0 & NA & 0 & NA & 0 & 0 & NA & NA & NA & NA & NA & NA & NA & NA & NA & NA & NA & NA & NA & NA & NA & NA & NA & NA & NA & Lund & NA & NA & NA & NA & NA & NA & NA & NA & 9 & TRUE\\\\\n",
       "\t194 & 8056x8033_48 & 61 & 8056x8033 & 48 & 12 & 2014-10-16 & 0 & NA & NA & NA & 0 & NA & 0 & NA & 0 & 0 & NA & NA & NA & NA & NA & NA & NA & NA & NA & NA & NA & NA & NA & NA & NA & NA & NA & NA & NA & Lund & NA & NA & NA & NA & NA & NA & NA & NA & 9 & TRUE\\\\\n",
       "\t195 & 8056x8033_51 & 61 & 8056x8033 & 51 & 21 & 2014-10-21 & 0 & NA & NA & 0 & NA & NA & 0 & NA & NA & 0 & 0 & 1 & 1 & 1 & NA & NA & NA & NA & NA & NA & NA & NA & NA & NA & NA & NA & NA & NA & NA & Lund & NA & NA & NA & NA & NA & NA & NA & NA & 13 & TRUE\\\\\n",
       "\t197 & 8056x8033_57 & 61 & 8056x8033 & 57 & 21 & 2014-10-21 & 0 & NA & NA & 0 & NA & NA & 0 & NA & NA & 0 & 1 & 1 & NA & NA & NA & NA & NA & NA & NA & NA & NA & NA & NA & NA & NA & NA & NA & NA & NA & Lund & NA & NA & NA & NA & NA & NA & NA & NA & 11 & TRUE\\\\\n",
       "\t198 & 8056x8033_58 & 61 & 8056x8033 & 58 & 12 & 2014-10-16 & 0 & NA & NA & NA & 0 & NA & 0 & NA & 0 & 0 & NA & NA & NA & NA & NA & NA & NA & NA & NA & NA & NA & NA & NA & NA & NA & NA & NA & NA & NA & Lund & NA & NA & NA & NA & NA & NA & NA & NA & 9 & TRUE\\\\\n",
       "\\end{tabular}\n"
      ],
      "text/plain": [
       "                ID UW_Line      Mating RIX_ID Timepoint Date_Infected D0 D1 D2\n",
       "1   15119x16521_39      96 15119x16521     39        21    2015-11-09  0 NA NA\n",
       "2   15119x16521_40      96 15119x16521     40        21    2015-11-09  0 NA NA\n",
       "3   15119x16521_42      96 15119x16521     42        21    2015-11-09  0 NA NA\n",
       "6   15119x16521_49      96 15119x16521     49        28    2015-11-23  0 NA  0\n",
       "7   15119x16521_50      96 15119x16521     50        28    2015-11-23  0 NA  0\n",
       "9   15119x16521_65      96 15119x16521     65        28    2015-11-23  0 NA  0\n",
       "15   16513x8027_35     106  16513x8027     35        12    2016-01-08  0 NA NA\n",
       "50   18018x3460_13      99  18018x3460     13        12    2015-10-28  0 NA  0\n",
       "56   18018x3460_43      99  18018x3460     43        28    2016-02-01  0 NA NA\n",
       "57   18018x3460_47      99  18018x3460     47        21    2016-02-03  0 NA  0\n",
       "58   18018x3460_48      99  18018x3460     48        21    2016-02-03  0 NA  0\n",
       "59   18018x3460_49      99  18018x3460     49        28    2016-02-01  0 NA NA\n",
       "60   18018x3460_54      99  18018x3460     54        28    2016-02-01  0 NA NA\n",
       "63    3015x5306_19     107   3015x5306     19        21    2016-02-03  0 NA  0\n",
       "64     3015x5306_2     107   3015x5306      2        12    2016-01-08  0 NA NA\n",
       "65    3015x5306_20     107   3015x5306     20        21    2016-02-03  0 NA  0\n",
       "66    3015x5306_21     107   3015x5306     21        28    2016-02-08  0 NA NA\n",
       "67    3015x5306_22     107   3015x5306     22        28    2016-02-08  0 NA NA\n",
       "68    3015x5306_28     107   3015x5306     28        28    2016-02-08  0 NA NA\n",
       "69     3015x5306_3     107   3015x5306      3        12    2016-01-08  0 NA NA\n",
       "81    3015x5358_76      90   3015x5358     76        21    2015-11-23  0 NA NA\n",
       "82    3015x5358_93      90   3015x5358     93        28    2016-01-27  0 NA NA\n",
       "83    3015x5358_96      90   3015x5358     96        28    2016-01-27  0 NA NA\n",
       "84    3015x5358_97      90   3015x5358     97        28    2016-01-27  0 NA NA\n",
       "89    3260x1566_64     100   3260x1566     64        12    2015-12-09  0 NA  0\n",
       "94    3260x1566_75     100   3260x1566     75        28    2015-12-30  0 NA NA\n",
       "96    3260x1566_83     100   3260x1566     83        12    2015-12-09  0 NA  0\n",
       "110   5035x8054_10     101   5035x8054     10        28    2015-11-02  0 NA NA\n",
       "111   5035x8054_14     101   5035x8054     14        12    2015-10-28  0 NA  0\n",
       "112   5035x8054_15     101   5035x8054     15        28    2015-11-02  0 NA NA\n",
       "114   5035x8054_21     101   5035x8054     21        21    2015-11-09  0 NA NA\n",
       "115   5035x8054_26     101   5035x8054     26        21    2015-11-09  0 NA NA\n",
       "116   5035x8054_27     101   5035x8054     27        21    2015-11-09  0 NA NA\n",
       "118    5035x8054_4     101   5035x8054      4        28    2015-11-02  0 NA NA\n",
       "121  5306x16521_19     102  5306x16521     19        21    2015-11-09  0 NA NA\n",
       "122  5306x16521_20     102  5306x16521     20        21    2015-11-09  0 NA NA\n",
       "123  5306x16521_22     102  5306x16521     22        21    2015-11-09  0 NA NA\n",
       "129  5306x16521_55     102  5306x16521     55        28    2015-12-30  0 NA NA\n",
       "147   8004x8052_43      94   8004x8052     43        28    2015-09-30  0 NA NA\n",
       "150   8004x8052_63      94   8004x8052     63        21    2015-10-21  0 NA NA\n",
       "152   8004x8052_71      94   8004x8052     71        21    2015-10-21  0 NA NA\n",
       "156   8004x8052_NA      94   8004x8052     NA        12          <NA> NA NA NA\n",
       "190  8056x8033_167      61   8056x8033    167        28    2016-01-25  0 NA  0\n",
       "192  8056x8033_169      61   8056x8033    169        28    2016-01-25  0 NA  0\n",
       "193   8056x8033_45      61   8056x8033     45        12    2014-10-16  0 NA NA\n",
       "194   8056x8033_48      61   8056x8033     48        12    2014-10-16  0 NA NA\n",
       "195   8056x8033_51      61   8056x8033     51        21    2014-10-21  0 NA NA\n",
       "197   8056x8033_57      61   8056x8033     57        21    2014-10-21  0 NA NA\n",
       "198   8056x8033_58      61   8056x8033     58        12    2014-10-16  0 NA NA\n",
       "    D3 D4 D5 D6 D7 D8 D9 D10 D11 D12 D13 D14 D15 D16 D17 D18 D19 D20 D21 D22\n",
       "1    0 NA NA NA  0  0  1   1   1  NA  NA  NA  NA  NA  NA  NA  NA  NA  NA  NA\n",
       "2    0 NA NA NA  0  1 NA  NA  NA  NA  NA  NA  NA  NA  NA  NA  NA  NA  NA  NA\n",
       "3    0 NA NA NA  0  0  0   0   0   0   0   0  NA   0  NA   0  NA  NA  NA  NA\n",
       "6   NA NA  0 NA NA NA  1   1  NA  NA  NA  NA  NA  NA  NA  NA  NA  NA  NA  NA\n",
       "7   NA NA  0 NA NA NA  0   0   0   0   0   0  NA  NA  NA   0  NA  NA   0  NA\n",
       "9   NA NA  0 NA NA NA  0   0   0   0   0   0  NA  NA  NA   0  NA  NA   0  NA\n",
       "15  NA NA NA NA NA NA NA  NA  NA  NA  NA  NA  NA  NA  NA  NA  NA  NA  NA  NA\n",
       "50  NA NA  0 NA NA  1 NA  NA  NA  NA  NA  NA  NA  NA  NA  NA  NA  NA  NA  NA\n",
       "56   0 NA NA NA  0 NA  1   1  NA  NA  NA  NA  NA  NA  NA  NA  NA  NA  NA  NA\n",
       "57  NA NA NA NA  1 NA NA  NA  NA  NA  NA  NA  NA  NA  NA  NA  NA  NA  NA  NA\n",
       "58  NA NA NA NA  0  1  1   1   4  NA  NA  NA  NA  NA  NA  NA  NA  NA  NA  NA\n",
       "59   0 NA NA NA  0 NA  1  NA  NA  NA  NA  NA  NA  NA  NA  NA  NA  NA  NA  NA\n",
       "60   0 NA NA NA  0 NA NA  NA  NA  NA  NA  NA  NA  NA  NA  NA  NA  NA  NA  NA\n",
       "63  NA NA NA NA  0  0  1  NA  NA  NA  NA  NA  NA  NA  NA  NA  NA  NA  NA  NA\n",
       "64   0 NA NA  0 NA  0 NA  NA  NA  NA  NA  NA  NA  NA  NA  NA  NA  NA  NA  NA\n",
       "65  NA NA NA NA  0  0  1  NA  NA  NA  NA  NA  NA  NA  NA  NA  NA  NA  NA  NA\n",
       "66   0 NA NA  0 NA  0  0   4  NA  NA  NA  NA  NA  NA  NA  NA  NA  NA  NA  NA\n",
       "67   0 NA NA  0 NA  0  0   4  NA  NA  NA  NA  NA  NA  NA  NA  NA  NA  NA  NA\n",
       "68   0 NA NA  0 NA  0  0   0   0   0   0   0  NA  NA   0  NA  NA   0  NA  NA\n",
       "69   0 NA NA  0 NA  0 NA  NA  NA  NA  NA  NA  NA  NA  NA  NA  NA  NA  NA  NA\n",
       "81   0 NA NA  0 NA  0  0   1   4  NA  NA  NA  NA  NA  NA  NA  NA  NA  NA  NA\n",
       "82   0 NA NA  0 NA NA NA  NA  NA  NA  NA  NA  NA  NA  NA  NA  NA  NA  NA  NA\n",
       "83   0 NA NA  0 NA  0  1   1   1   1  NA  NA  NA  NA  NA  NA  NA  NA  NA  NA\n",
       "84   0 NA NA  0 NA  1  2  NA  NA  NA  NA  NA  NA  NA  NA  NA  NA  NA  NA  NA\n",
       "89  NA NA  0 NA NA  1 NA  NA  NA  NA  NA  NA  NA  NA  NA  NA  NA  NA  NA  NA\n",
       "94  NA NA  0 NA  0  1  1  NA  NA  NA  NA  NA  NA  NA  NA  NA  NA  NA  NA  NA\n",
       "96  NA NA  0 NA NA  1  4  NA  NA  NA  NA  NA  NA  NA  NA  NA  NA  NA  NA  NA\n",
       "110  0 NA NA NA  0  1  1   1   2  NA  NA  NA  NA  NA  NA  NA  NA  NA  NA  NA\n",
       "111 NA NA  0 NA NA  1  3  NA  NA  NA  NA  NA  NA  NA  NA  NA  NA  NA  NA  NA\n",
       "112  0 NA NA NA  0  1  1   1   1  NA  NA  NA  NA  NA  NA  NA  NA  NA  NA  NA\n",
       "114  0 NA NA NA  0 NA NA  NA  NA  NA  NA  NA  NA  NA  NA  NA  NA  NA  NA  NA\n",
       "115  0 NA NA NA  0  1 NA  NA  NA  NA  NA  NA  NA  NA  NA  NA  NA  NA  NA  NA\n",
       "116  0 NA NA NA  0  1  1   1  NA  NA  NA  NA  NA  NA  NA  NA  NA  NA  NA  NA\n",
       "118  0 NA NA NA  0  0  1   1   1  NA  NA  NA  NA  NA  NA  NA  NA  NA  NA  NA\n",
       "121  0 NA NA NA  0  0  0   2  NA  NA  NA  NA  NA  NA  NA  NA  NA  NA  NA  NA\n",
       "122  0 NA NA NA  0  0  0   0   1   4  NA  NA  NA  NA  NA  NA  NA  NA  NA  NA\n",
       "123  0 NA NA NA  0  0  1   1   1  NA  NA  NA  NA  NA  NA  NA  NA  NA  NA  NA\n",
       "129 NA NA  0 NA  0  0  0   1  NA  NA  NA  NA  NA  NA  NA  NA  NA  NA  NA  NA\n",
       "147  0 NA NA  0 NA  0 NA  NA  NA  NA  NA  NA  NA  NA  NA  NA  NA  NA  NA  NA\n",
       "150  0 NA NA  0 NA  0  0   0   0   0   0   0  NA  NA  NA  NA  NA  NA  NA  NA\n",
       "152  0 NA NA  0 NA  0  0  NA  NA  NA  NA  NA  NA  NA  NA  NA  NA  NA  NA  NA\n",
       "156 NA NA NA NA NA NA NA  NA  NA  NA  NA  NA  NA  NA  NA  NA  NA  NA  NA  NA\n",
       "190 NA NA  0 NA NA  0  1   1   1   1   1  NA  NA  NA  NA  NA  NA  NA  NA  NA\n",
       "192 NA NA  0 NA NA  0  0   1   1   1   1  NA  NA  NA  NA  NA  NA  NA  NA  NA\n",
       "193 NA  0 NA  0 NA  0  0  NA  NA  NA  NA  NA  NA  NA  NA  NA  NA  NA  NA  NA\n",
       "194 NA  0 NA  0 NA  0  0  NA  NA  NA  NA  NA  NA  NA  NA  NA  NA  NA  NA  NA\n",
       "195  0 NA NA  0 NA NA  0   0   1   1   1  NA  NA  NA  NA  NA  NA  NA  NA  NA\n",
       "197  0 NA NA  0 NA NA  0   1   1  NA  NA  NA  NA  NA  NA  NA  NA  NA  NA  NA\n",
       "198 NA  0 NA  0 NA  0  0  NA  NA  NA  NA  NA  NA  NA  NA  NA  NA  NA  NA  NA\n",
       "    D23 D24 D25 D26 D27 D28  Lab UWID Data_Altered Notes Death_Date\n",
       "1    NA  NA  NA  NA  NA  NA Lund   NA           NA    NA       <NA>\n",
       "2    NA  NA  NA  NA  NA  NA Lund   NA           NA    NA       <NA>\n",
       "3    NA  NA  NA  NA  NA  NA Lund   NA           NA    NA       <NA>\n",
       "6    NA  NA  NA  NA  NA  NA Lund   NA           NA    NA       <NA>\n",
       "7    NA   0  NA  NA  NA  NA Lund   NA           NA    NA       <NA>\n",
       "9    NA   0  NA  NA  NA  NA Lund   NA           NA    NA       <NA>\n",
       "15   NA  NA  NA  NA  NA  NA Lund   NA           NA    NA       <NA>\n",
       "50   NA  NA  NA  NA  NA  NA Lund   NA           NA    NA       <NA>\n",
       "56   NA  NA  NA  NA  NA  NA Lund   NA           NA    NA       <NA>\n",
       "57   NA  NA  NA  NA  NA  NA Lund   NA           NA    NA       <NA>\n",
       "58   NA  NA  NA  NA  NA  NA Lund   NA           NA    NA       <NA>\n",
       "59   NA  NA  NA  NA  NA  NA Lund   NA           NA    NA       <NA>\n",
       "60   NA  NA  NA  NA  NA  NA Lund   NA           NA    NA       <NA>\n",
       "63   NA  NA  NA  NA  NA  NA Lund   NA           NA    NA       <NA>\n",
       "64   NA  NA  NA  NA  NA  NA Lund   NA           NA    NA       <NA>\n",
       "65   NA  NA  NA  NA  NA  NA Lund   NA           NA    NA       <NA>\n",
       "66   NA  NA  NA  NA  NA  NA Lund   NA           NA    NA       <NA>\n",
       "67   NA  NA  NA  NA  NA  NA Lund   NA           NA    NA       <NA>\n",
       "68   NA   0  NA  NA  NA  NA Lund   NA           NA    NA       <NA>\n",
       "69   NA  NA  NA  NA  NA  NA Lund   NA           NA    NA       <NA>\n",
       "81   NA  NA  NA  NA  NA  NA Lund   NA           NA    NA       <NA>\n",
       "82   NA  NA  NA  NA  NA  NA Lund   NA           NA    NA       <NA>\n",
       "83   NA  NA  NA  NA  NA  NA Lund   NA           NA    NA       <NA>\n",
       "84   NA  NA  NA  NA  NA  NA Lund   NA           NA    NA       <NA>\n",
       "89   NA  NA  NA  NA  NA  NA Lund   NA           NA    NA       <NA>\n",
       "94   NA  NA  NA  NA  NA  NA Lund   NA           NA    NA       <NA>\n",
       "96   NA  NA  NA  NA  NA  NA Lund   NA           NA    NA       <NA>\n",
       "110  NA  NA  NA  NA  NA  NA Lund   NA           NA    NA       <NA>\n",
       "111  NA  NA  NA  NA  NA  NA Lund   NA           NA    NA       <NA>\n",
       "112  NA  NA  NA  NA  NA  NA Lund   NA           NA    NA       <NA>\n",
       "114  NA  NA  NA  NA  NA  NA Lund   NA           NA    NA       <NA>\n",
       "115  NA  NA  NA  NA  NA  NA Lund   NA           NA    NA       <NA>\n",
       "116  NA  NA  NA  NA  NA  NA Lund   NA           NA    NA       <NA>\n",
       "118  NA  NA  NA  NA  NA  NA Lund   NA           NA    NA       <NA>\n",
       "121  NA  NA  NA  NA  NA  NA Lund   NA           NA    NA       <NA>\n",
       "122  NA  NA  NA  NA  NA  NA Lund   NA           NA    NA       <NA>\n",
       "123  NA  NA  NA  NA  NA  NA Lund   NA           NA    NA       <NA>\n",
       "129  NA  NA  NA  NA  NA  NA Lund   NA           NA    NA       <NA>\n",
       "147  NA  NA  NA  NA  NA  NA Lund   NA           NA    NA       <NA>\n",
       "150  NA  NA  NA  NA  NA  NA Lund   NA           NA    NA       <NA>\n",
       "152  NA  NA  NA  NA  NA  NA Lund   NA           NA    NA       <NA>\n",
       "156  NA  NA  NA  NA  NA  NA Lund   NA           NA    NA       <NA>\n",
       "190  NA  NA  NA  NA  NA  NA Lund   NA           NA    NA       <NA>\n",
       "192  NA  NA  NA  NA  NA  NA Lund   NA           NA    NA       <NA>\n",
       "193  NA  NA  NA  NA  NA  NA Lund   NA           NA    NA       <NA>\n",
       "194  NA  NA  NA  NA  NA  NA Lund   NA           NA    NA       <NA>\n",
       "195  NA  NA  NA  NA  NA  NA Lund   NA           NA    NA       <NA>\n",
       "197  NA  NA  NA  NA  NA  NA Lund   NA           NA    NA       <NA>\n",
       "198  NA  NA  NA  NA  NA  NA Lund   NA           NA    NA       <NA>\n",
       "    Death_Euthanized Death_FoundInCage Died_of_Virus Died_from_Anesthesia\n",
       "1                 NA                NA            NA                   NA\n",
       "2                 NA                NA            NA                   NA\n",
       "3                 NA                NA            NA                   NA\n",
       "6                 NA                NA            NA                   NA\n",
       "7                 NA                NA            NA                   NA\n",
       "9                 NA                NA            NA                   NA\n",
       "15                NA                NA            NA                   NA\n",
       "50                NA                NA            NA                   NA\n",
       "56                NA                NA            NA                   NA\n",
       "57                NA                NA            NA                   NA\n",
       "58                NA                NA            NA                   NA\n",
       "59                NA                NA            NA                   NA\n",
       "60                NA                NA            NA                   NA\n",
       "63                NA                NA            NA                   NA\n",
       "64                NA                NA            NA                   NA\n",
       "65                NA                NA            NA                   NA\n",
       "66                NA                NA            NA                   NA\n",
       "67                NA                NA            NA                   NA\n",
       "68                NA                NA            NA                   NA\n",
       "69                NA                NA            NA                   NA\n",
       "81                NA                NA            NA                   NA\n",
       "82                NA                NA            NA                   NA\n",
       "83                NA                NA            NA                   NA\n",
       "84                NA                NA            NA                   NA\n",
       "89                NA                NA            NA                   NA\n",
       "94                NA                NA            NA                   NA\n",
       "96                NA                NA            NA                   NA\n",
       "110               NA                NA            NA                   NA\n",
       "111               NA                NA            NA                   NA\n",
       "112               NA                NA            NA                   NA\n",
       "114               NA                NA            NA                   NA\n",
       "115               NA                NA            NA                   NA\n",
       "116               NA                NA            NA                   NA\n",
       "118               NA                NA            NA                   NA\n",
       "121               NA                NA            NA                   NA\n",
       "122               NA                NA            NA                   NA\n",
       "123               NA                NA            NA                   NA\n",
       "129               NA                NA            NA                   NA\n",
       "147               NA                NA            NA                   NA\n",
       "150               NA                NA            NA                   NA\n",
       "152               NA                NA            NA                   NA\n",
       "156               NA                NA            NA                   NA\n",
       "190               NA                NA            NA                   NA\n",
       "192               NA                NA            NA                   NA\n",
       "193               NA                NA            NA                   NA\n",
       "194               NA                NA            NA                   NA\n",
       "195               NA                NA            NA                   NA\n",
       "197               NA                NA            NA                   NA\n",
       "198               NA                NA            NA                   NA\n",
       "    putative_death_day Flag_Death_Day\n",
       "1                   11           TRUE\n",
       "2                    8           TRUE\n",
       "3                   18           TRUE\n",
       "6                   10           TRUE\n",
       "7                   24           TRUE\n",
       "9                   24           TRUE\n",
       "15                   0           TRUE\n",
       "50                   8           TRUE\n",
       "56                  10           TRUE\n",
       "57                   7           TRUE\n",
       "58                  11           TRUE\n",
       "59                   9           TRUE\n",
       "60                   7           TRUE\n",
       "63                   9           TRUE\n",
       "64                   8           TRUE\n",
       "65                   9           TRUE\n",
       "66                  10           TRUE\n",
       "67                  10           TRUE\n",
       "68                  24           TRUE\n",
       "69                   8           TRUE\n",
       "81                  11           TRUE\n",
       "82                   6           TRUE\n",
       "83                  12           TRUE\n",
       "84                   9           TRUE\n",
       "89                   8           TRUE\n",
       "94                   9           TRUE\n",
       "96                   9           TRUE\n",
       "110                 11           TRUE\n",
       "111                  9           TRUE\n",
       "112                 11           TRUE\n",
       "114                  7           TRUE\n",
       "115                  8           TRUE\n",
       "116                 10           TRUE\n",
       "118                 11           TRUE\n",
       "121                 10           TRUE\n",
       "122                 12           TRUE\n",
       "123                 11           TRUE\n",
       "129                 10           TRUE\n",
       "147                  8           TRUE\n",
       "150                 14           TRUE\n",
       "152                  9           TRUE\n",
       "156               -Inf           TRUE\n",
       "190                 13           TRUE\n",
       "192                 13           TRUE\n",
       "193                  9           TRUE\n",
       "194                  9           TRUE\n",
       "195                 13           TRUE\n",
       "197                 11           TRUE\n",
       "198                  9           TRUE"
      ]
     },
     "execution_count": 6,
     "metadata": {},
     "output_type": "execute_result"
    }
   ],
   "source": [
    "# Timepoint is >= 3 more than putative death day (day the weights are recorded up to), (internal check)\n",
    "new_cs_v2$Flag_Death_Day = NA\n",
    "\n",
    "new_cs_v2[which(new_cs_v2[,\"Timepoint\"] - new_cs_v2[,\"putative_death_day\"]>=3 & is.na(new_cs_v2[,\"Death_Euthanized\"]) & is.na(new_cs_v2[,\"Death_FoundInCage\"])),\"Flag_Death_Day\"] <- TRUE\n",
    "length(which(new_cs_v2[,\"Timepoint\"] - new_cs_v2[,\"putative_death_day\"]>=3 & is.na(new_cs_v2[,\"Death_Euthanized\"]) & is.na(new_cs_v2[,\"Death_FoundInCage\"]))) # no flags, set to false\n",
    "new_cs_v2[which(new_cs_v2[,\"Timepoint\"] - new_cs_v2[,\"putative_death_day\"]>=3 & is.na(new_cs_v2[,\"Death_Euthanized\"]) & is.na(new_cs_v2[,\"Death_FoundInCage\"])),]\n",
    "new_cs_v2[-which(new_cs_v2[,\"Timepoint\"] - new_cs_v2[,\"putative_death_day\"]>=3 & is.na(new_cs_v2[,\"Death_Euthanized\"]) & is.na(new_cs_v2[,\"Death_FoundInCage\"])),\"Flag_Death_Day\"] <- FALSE"
   ]
  },
  {
   "cell_type": "markdown",
   "metadata": {},
   "source": [
    "# 6. Add Flag_weight_date "
   ]
  },
  {
   "cell_type": "code",
   "execution_count": 9,
   "metadata": {
    "collapsed": true
   },
   "outputs": [],
   "source": [
    "# death day > timepoint, (internal check)\n",
    "new_cs_v2$Death_Date_greater_timepoint = NA\n",
    "\n",
    "if(length(which(new_cs_v2[,\"Death_Euthanized\"] > new_cs_v2[,\"Timepoint\"] | new_cs_v2[,\"Death_FoundInCage\"] > new_cs_v2[,\"Timepoint\"] | new_cs_v2[,\"Died_of_Virus\"] > new_cs_v2[,\"Timepoint\"] | new_cs_v2[,\"Died_from_Anesthesia\"] > new_cs_v2[,\"Timepoint\"])) == 0){\n",
    "  new_cs_v2$Death_Date_greater_timepoint = FALSE\n",
    "}else{\n",
    "  new_cs_v2[which(new_cs_v2[,\"Death_Euthanized\"] > new_cs_v2[,\"Timepoint\"] | new_cs_v2[,\"Death_FoundInCage\"] > new_cs_v2[,\"Timepoint\"] | new_cs_v2[,\"Died_of_Virus\"] > new_cs_v2[,\"Timepoint\"] | new_cs_v2[,\"Died_from_Anesthesia\"] > new_cs_v2[,\"Timepoint\"]),\"Death_Date_greater_timepoint\"] <- TRUE\n",
    "  \n",
    "  new_cs_v2[-which(new_cs_v2[,\"Death_Euthanized\"] > new_cs_v2[,\"Timepoint\"] | new_cs_v2[,\"Death_FoundInCage\"] > new_cs_v2[,\"Timepoint\"] | new_cs_v2[,\"Died_of_Virus\"] > new_cs_v2[,\"Timepoint\"] | new_cs_v2[,\"Died_from_Anesthesia\"] > new_cs_v2[,\"Timepoint\"]),\"Death_Date_greater_timepoint\"] <- FALSE\n",
    "}"
   ]
  },
  {
   "cell_type": "markdown",
   "metadata": {},
   "source": [
    "# 7. Alter data clinical score = 0 to NA past death day"
   ]
  },
  {
   "cell_type": "code",
   "execution_count": 10,
   "metadata": {
    "collapsed": false
   },
   "outputs": [
    {
     "name": "stdout",
     "output_type": "stream",
     "text": [
      "[1] 1\n"
     ]
    }
   ],
   "source": [
    "# Set clinical score = NA for days past death date\n",
    "# Based on died early column (where it's not equal to putative death day), sets clinical score to NA for days past died early column\n",
    "if(length(which(new_cs_v2[,\"putative_death_day\"] != new_cs_v2[,\"Death_Euthanized\"]))>0){\n",
    "  for(i in 1:length(which(new_cs_v2[,\"putative_death_day\"] != new_cs_v2[,\"Death_Euthanized\"]))){\n",
    "    print(i)\n",
    "    new_cs_v2[which(new_cs_v2[,\"putative_death_day\"] != new_cs_v2[,\"Death_Euthanized\"])[i],\"Data_Altered\"] <- \"Yes\"\n",
    "    new_cs_v2[which(new_cs_v2[,\"putative_death_day\"] != new_cs_v2[,\"Death_Euthanized\"])[i],\"Notes\"] <- \"CS past death day set to NA\"\n",
    "    cols = new_cs_v2[which(new_cs_v2[,\"putative_death_day\"] != new_cs_v2[,\"Death_Euthanized\"])[i],\"Death_Euthanized\"] < as.numeric(as.character(gsub(\"D\",\"\",days)))\n",
    "    new_cs_v2[which(new_cs_v2[,\"putative_death_day\"] != new_cs_v2[,\"Death_Euthanized\"])[i],days][cols] <- NA\n",
    "  }\n",
    "}\n",
    "\n",
    "if(length(which(new_cs_v2[,\"putative_death_day\"] != new_cs_v2[,\"Death_FoundInCage\"]))>0){\n",
    "  for(i in 1:length(which(new_cs_v2[,\"putative_death_day\"] != new_cs_v2[,\"Death_FoundInCage\"]))){\n",
    "    print(i)\n",
    "    new_cs_v2[which(new_cs_v2[,\"putative_death_day\"] != new_cs_v2[,\"Death_FoundInCage\"])[i],\"Data_Altered\"] <- \"Yes\"\n",
    "    new_cs_v2[which(new_cs_v2[,\"putative_death_day\"] != new_cs_v2[,\"Death_FoundInCage\"])[i],\"Notes\"] <- \"CS past death day set to NA\"\n",
    "    cols = new_cs_v2[which(new_cs_v2[,\"putative_death_day\"] != new_cs_v2[,\"Death_FoundInCage\"])[i],\"Death_FoundInCage\"] < as.numeric(as.character(gsub(\"D\",\"\",days)))\n",
    "    new_cs_v2[which(new_cs_v2[,\"putative_death_day\"] != new_cs_v2[,\"Death_FoundInCage\"])[i],days][cols] <- NA\n",
    "  }\n",
    "}\n",
    "\n",
    "if(length(which(new_cs_v2[,\"putative_death_day\"] != new_cs_v2[,\"Died_from_Anesthesia\"]))>0){\n",
    "  for(i in 1:length(which(new_cs_v2[,\"putative_death_day\"] != new_cs_v2[,\"Died_from_Anesthesia\"]))){\n",
    "    print(i)\n",
    "    new_cs_v2[which(new_cs_v2[,\"putative_death_day\"] != new_cs_v2[,\"Died_from_Anesthesia\"])[i],\"Data_Altered\"] <- \"Yes\"\n",
    "    new_cs_v2[which(new_cs_v2[,\"putative_death_day\"] != new_cs_v2[,\"Died_from_Anesthesia\"])[i],\"Notes\"] <- \"CS past death day set to NA\"\n",
    "    cols = new_cs_v2[which(new_cs_v2[,\"putative_death_day\"] != new_cs_v2[,\"Died_from_Anesthesia\"])[i],\"Died_from_Anesthesia\"] < as.numeric(as.character(gsub(\"D\",\"\",days)))\n",
    "    new_cs_v2[which(new_cs_v2[,\"putative_death_day\"] != new_cs_v2[,\"Died_from_Anesthesia\"])[i],days][cols] <- NA\n",
    "  }\n",
    "}\n",
    "\n",
    "if(length(which(new_cs_v2[,\"putative_death_day\"] != new_cs_v2[,\"Died_of_Virus\"]))>0){\n",
    "  for(i in 1:length(which(new_cs_v2[,\"putative_death_day\"] != new_cs_v2[,\"Died_of_Virus\"]))){\n",
    "    print(i)\n",
    "    new_cs_v2[which(new_cs_v2[,\"putative_death_day\"] != new_cs_v2[,\"Died_of_Virus\"])[i],\"Data_Altered\"] <- \"Yes\"\n",
    "    new_cs_v2[which(new_cs_v2[,\"putative_death_day\"] != new_cs_v2[,\"Died_of_Virus\"])[i],\"Notes\"] <- \"CS past death day set to NA\"\n",
    "    cols = new_cs_v2[which(new_cs_v2[,\"putative_death_day\"] != new_cs_v2[,\"Died_of_Virus\"])[i],\"Died_of_Virus\"] < as.numeric(as.character(gsub(\"D\",\"\",days)))\n",
    "    new_cs_v2[which(new_cs_v2[,\"putative_death_day\"] != new_cs_v2[,\"Died_of_Virus\"])[i],days][cols] <- NA\n",
    "  }\n",
    "}\n",
    "\n",
    "# annotate death date\n",
    "new_cs_v2[,\"Death_Date\"] <- as.Date(new_cs_v2[,\"Death_Date\"])\n",
    "new_cs_v2[which(is.na(new_cs_v2[,\"Death_Date\"]) & new_cs_v2[,\"Flag_Death_Day\"] == FALSE),\"Death_Date\"] <- as.Date(as.character(new_cs_v2[which(is.na(new_cs_v2[,\"Death_Date\"]) & new_cs_v2[,\"Flag_Death_Day\"] == FALSE),\"Date_Infected\"] + new_cs_v2[which(is.na(new_cs_v2[,\"Death_Date\"]) & new_cs_v2[,\"Flag_Death_Day\"] == FALSE),\"Timepoint\"]),format=\"%Y-%m-%d\")\n",
    "\n",
    "new_cs_v2[which(is.na(new_cs_v2[,\"Death_Date\"]) & new_cs_v2[,\"Flag_Death_Day\"] == TRUE),\"Death_Date\"] <- as.Date(as.character(new_cs_v2[which(is.na(new_cs_v2[,\"Death_Date\"]) & new_cs_v2[,\"Flag_Death_Day\"] == TRUE),\"Date_Infected\"] + new_cs_v2[which(is.na(new_cs_v2[,\"Death_Date\"]) & new_cs_v2[,\"Flag_Death_Day\"] == TRUE),\"putative_death_day\"]),format=\"%Y-%m-%d\")"
   ]
  },
  {
   "cell_type": "markdown",
   "metadata": {},
   "source": [
    "# 8. Order columns according to the data dictionary"
   ]
  },
  {
   "cell_type": "code",
   "execution_count": 13,
   "metadata": {
    "collapsed": true
   },
   "outputs": [],
   "source": [
    "mycols <- rep(\"NULL\", 4)\n",
    "mycols[1] <- NA\n",
    "\n",
    "read.xls(xls=\"WNV_Data_Dictionary.xlsx\", sheet=\"Clinical Score Data\", colClasses=mycols) -> data_dict\n",
    "\n",
    "# internal cols\n",
    "internal_cols = c(\"putative_death_day\",\"Flag_Death_Day\", \"Death_Date_greater_timepoint\")\n",
    "internal_cols_v2 = which(names(new_cs_v2) %in% internal_cols)\n",
    "\n",
    "# order columns by data dictionary and add internal column at the end\n",
    "new_cs_v2[,c(as.vector(unlist(sapply(data_dict[,1],function(x)which(x==names(new_cs_v2))))),internal_cols_v2)] -> new_cs_v3"
   ]
  },
  {
   "cell_type": "markdown",
   "metadata": {},
   "source": [
    "# 9. \"array_exists\" column added to indicate availability of gene expression data"
   ]
  },
  {
   "cell_type": "code",
   "execution_count": 14,
   "metadata": {
    "collapsed": true
   },
   "outputs": [],
   "source": [
    "# append array annotation\n",
    "read.table(file=\"all_expression_ids.txt\") -> exp_id\n",
    "\n",
    "new_cs_v3$array_exists = NA\n",
    "new_cs_v3[as.vector(unlist(sapply(exp_id[,1],function(x)which(x==new_cs_v3[,1])))),\"array_exists\"] <- \"Yes\"\n",
    "new_cs_v3[-as.vector(unlist(sapply(exp_id[,1],function(x)which(x==new_cs_v3[,1])))),\"array_exists\"] <- \"No\""
   ]
  },
  {
   "cell_type": "markdown",
   "metadata": {},
   "source": [
    "# 10. Update Data: Add flags_checked column"
   ]
  },
  {
   "cell_type": "code",
   "execution_count": 15,
   "metadata": {
    "collapsed": false
   },
   "outputs": [
    {
     "data": {
      "text/html": [
       "TRUE"
      ],
      "text/latex": [
       "TRUE"
      ],
      "text/markdown": [
       "TRUE"
      ],
      "text/plain": [
       "[1] TRUE"
      ]
     },
     "execution_count": 15,
     "metadata": {},
     "output_type": "execute_result"
    }
   ],
   "source": [
    "# read in full version\n",
    "read.xls(xls=\"Lund_Scores_22-Mar-2016_final.xlsx\", sheet=1,stringsAsFactors=F) -> cs_full\n",
    "\n",
    "# remove any lines from full that are in updated data\n",
    "remove_lines = intersect(cs_full[,\"UW_Line\"], new_cs_v3[,\"UW_Line\"])\n",
    "\n",
    "# no updated lines\n",
    "length(remove_lines) == 0\n",
    "cs_full$flags_checked = TRUE\n",
    "new_cs_v3$flags_checked = FALSE\n",
    "\n",
    "# clean dates\n",
    "cs_full[,\"Death_Date\"] <- as.Date(cs_full[,\"Death_Date\"])\n",
    "cs_full[,\"Date_Infected\"] <- as.Date(cs_full[,\"Date_Infected\"])\n",
    "new_cs_v3[,\"Death_Date\"] <- as.Date(new_cs_v3[,\"Death_Date\"])\n",
    "new_cs_v3[,\"Date_Infected\"] <- as.Date(new_cs_v3[,\"Date_Infected\"])\n",
    "\n",
    "# merge with full version, virus gets annotated here, fill in any NA from weight sheets or considered WNV if 'm' is not appended to timepoint\n",
    "merge(cs_full, new_cs_v3, by=intersect(names(cs_full),names(new_cs_v3)),all=T) -> cs_full_v2\n",
    "cs_full_v2[which(cs_full_v2[,\"flags_checked\"]),c(\"putative_death_day\")] <- cs_full_v2[which(cs_full_v2[,\"flags_checked\"]),c(\"Timepoint\")]\n",
    "cs_full_v2[which(cs_full_v2[,\"flags_checked\"]),c(\"Flag_Death_Day\")] <- FALSE\n",
    "cs_full_v2[which(cs_full_v2[,\"flags_checked\"]),c(\"Death_Date_greater_timepoint\")] <- FALSE\n",
    "\n",
    "# re-order\n",
    "cs_full_v2[,c(as.vector(unlist(sapply(data_dict[,1],function(x)which(x==names(cs_full_v2))))),internal_cols_v2)] -> cs_full_v3"
   ]
  },
  {
   "cell_type": "markdown",
   "metadata": {},
   "source": [
    "# 11. Make specific alterations listed in the Readme. "
   ]
  },
  {
   "cell_type": "code",
   "execution_count": null,
   "metadata": {
    "collapsed": true
   },
   "outputs": [],
   "source": [
    "# Make any manual corrections needed"
   ]
  },
  {
   "cell_type": "markdown",
   "metadata": {},
   "source": [
    "# Example Plot"
   ]
  },
  {
   "cell_type": "code",
   "execution_count": 17,
   "metadata": {
    "collapsed": false
   },
   "outputs": [
    {
     "data": {
      "image/png": "[encoded data removed]",
      "text/plain": [
       "Plot with title “Clinical Score - WNV”"
      ]
     },
     "metadata": {
      "image/svg+xml": {
       "isolated": true
      }
     },
     "output_type": "display_data"
    }
   ],
   "source": [
    "cs_time_plot = function(uw_lines, cs_cols=clinical_scores, mocks=FALSE, col=NULL,...) {\n",
    "  y_cs = aggregate(cs_full_v2[, cs_cols], list(cs_full_v2$UW_Line, cs_full_v2$Virus), max, na.rm=T)\n",
    "  colnames(y_cs) = c('line','virus',cs_cols)\n",
    "  n_cols = floor(length(uw_lines)/3) + ceiling((length(uw_lines)%%3)/3)\n",
    "  xvals = c(0:28)\n",
    "  \n",
    "  if (mocks) {\n",
    "    #col = col[which(uw_lines %in% y_cs$line[y_cs$line %in% uw_lines & y_cs$virus=='Mock'])]\n",
    "    par(mfrow=c(2,1))\n",
    "    matplot(xvals, t(y_cs[y_cs[,1] %in% uw_lines & y_cs$virus=='Mock',cs_cols]), type=\"l\", pch=19, ylim=c(-1,6.5), ylab=\"Max Clinical Score\", xlab=\"Day\", main=\"Clinical Score - Mocks\", lty=1, lwd=4, col=col,...)\n",
    "    matplot(xvals, t(y_cs[y_cs[,1] %in% uw_lines & y_cs$virus=='Mock',cs_cols]), type=\"p\", pch=19, ylim=c(-1,6.5), ylab=\"Max Clinical Score\", xlab=\"Day\", main=\"Clinical Score - Mocks\", add=T, col=col)\n",
    "    abline(h=0, col='black')\n",
    "    legend('topleft', legend=y_cs$line[y_cs$line %in% uw_lines & y_cs$virus=='Mock'], lty=1, lwd=10, ncol=n_cols, col=col)\n",
    "    \n",
    "    matplot(xvals, t(y_cs[y_cs[,1] %in% uw_lines & y_cs$virus=='WNV',cs_cols]), type=\"l\", pch=19, ylim=c(-1,6.5), ylab=\"Max Clinical Score\", xlab=\"Day\", main=\"Clinical Score - WNV\", lty=1, lwd=4, col=col,...)\n",
    "    matplot(xvals, t(y_cs[y_cs[,1] %in% uw_lines & y_cs$virus=='WNV',cs_cols]), type=\"p\", pch=19, ylim=c(-1,6.5), ylab=\"Max Clinical Score\", xlab=\"Day\", main=\"Clinical Score - WNV\", add=T, col=col,...)\n",
    "    abline(h=0, col='black')\n",
    "    legend('topleft', legend=y_cs$line[y_cs$line %in% uw_lines & y_cs$virus=='WNV'], lty=1, lwd=10, ncol=n_cols, col=col)\n",
    "  } else {\n",
    "    matplot(xvals, t(y_cs[y_cs[,1] %in% uw_lines & y_cs$virus=='WNV',cs_cols]), type=\"l\", pch=19, ylim=c(-1,6.5), ylab=\"Max Clinical Score\", xlab=\"Day\", main=\"Clinical Score - WNV\", lty=1, lwd=4, col=col,...)\n",
    "    matplot(xvals, t(y_cs[y_cs[,1] %in% uw_lines & y_cs$virus=='WNV',cs_cols]), type=\"p\", pch=19, ylim=c(-1,6.5), ylab=\"Max Clinical Score\", xlab=\"Day\", main=\"Clinical Score - WNV\", add=T, col=col,...)\n",
    "    abline(h=0, col='black')\n",
    "    legend('topleft', legend=y_cs$line[y_cs$line %in% uw_lines & y_cs$virus=='WNV'], lty=1, lwd=10, ncol=n_cols, col=col)\n",
    "  }\n",
    "}\n",
    "\n",
    "suppressWarnings(cs_time_plot(uw_lines=c(\"30\",\"49\",\"21\",\"28\"), cs_cols=days, mocks=T,col=sample(colors(),4)))"
   ]
  },
  {
   "cell_type": "code",
   "execution_count": null,
   "metadata": {
    "collapsed": true
   },
   "outputs": [],
   "source": []
  }
 ],
 "metadata": {
  "kernelspec": {
   "display_name": "R",
   "language": "R",
   "name": "ir"
  },
  "language_info": {
   "codemirror_mode": "r",
   "file_extension": ".r",
   "mimetype": "text/x-r-source",
   "name": "R",
   "pygments_lexer": "r",
   "version": "3.2.2"
  }
 },
 "nbformat": 4,
 "nbformat_minor": 0
}
