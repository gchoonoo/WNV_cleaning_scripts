{
 "cells": [
  {
   "cell_type": "markdown",
   "metadata": {},
   "source": [
    "# Systems Immunogenetics Project\n",
    "\n",
    "## WNV Cleaning Steps\n",
    "\n",
    "### McWeeney Lab, Oregon Health & Science University\n",
    "\n",
    "** Authors: Gabrielle Choonoo (choonoo@ohsu.edu) and Michael Mooney (mooneymi@ohsu.edu) **\n",
    "\n",
    "## Introduction\n",
    "\n",
    "This is the step-by-step process for annotating phenotypes based on clinical score and weight data.\n",
    "\n",
    "Required Files:\n",
    "* WNV Data: Processed Weight and clinical score\n",
    "* This notebook (phenotypes.ipynb): [[Download here]](https://raw.githubusercontent.com/gchoonoo/WNV_cleaning_scripts/master/phenotypes.ipynb)\n",
    "\n",
    "Required R packages:\n",
    "- `gdata`\n",
    "- `R.utils`\n",
    "\n",
    "**Note: this notebook can also be downloaded as an R script (only the code blocks seen below will be included): [[Download R script here]](https://raw.githubusercontent.com/gchoonoo/WNV_cleaning_scripts/master/phenotypes.r)\n",
    "\n",
    "** All code is available on GitHub: [https://github.com/gchoonoo/WNV_cleaning_scripts](https://github.com/gchoonoo/WNV_cleaning_scripts) **"
   ]
  },
  {
   "cell_type": "markdown",
   "metadata": {},
   "source": [
    "# Read in latest data release"
   ]
  },
  {
   "cell_type": "code",
   "execution_count": 1,
   "metadata": {
    "collapsed": false
   },
   "outputs": [
    {
     "name": "stderr",
     "output_type": "stream",
     "text": [
      "gdata: read.xls support for 'XLS' (Excel 97-2004) files ENABLED.\n",
      "\n",
      "gdata: read.xls support for 'XLSX' (Excel 2007+) files ENABLED.\n",
      "\n",
      "Attaching package: ‘gdata’\n",
      "\n",
      "The following object is masked from ‘package:stats’:\n",
      "\n",
      "    nobs\n",
      "\n",
      "The following object is masked from ‘package:utils’:\n",
      "\n",
      "    object.size\n",
      "\n",
      "Loading required package: R.oo\n",
      "Loading required package: R.methodsS3\n",
      "R.methodsS3 v1.7.1 (2016-02-15) successfully loaded. See ?R.methodsS3 for help.\n",
      "R.oo v1.20.0 (2016-02-17) successfully loaded. See ?R.oo for help.\n",
      "\n",
      "Attaching package: ‘R.oo’\n",
      "\n",
      "The following objects are masked from ‘package:gdata’:\n",
      "\n",
      "    ll, trim\n",
      "\n",
      "The following objects are masked from ‘package:methods’:\n",
      "\n",
      "    getClasses, getMethods\n",
      "\n",
      "The following objects are masked from ‘package:base’:\n",
      "\n",
      "    attach, detach, gc, load, save\n",
      "\n",
      "R.utils v2.3.0 (2016-04-13) successfully loaded. See ?R.utils for help.\n",
      "\n",
      "Attaching package: ‘R.utils’\n",
      "\n",
      "The following objects are masked from ‘package:gdata’:\n",
      "\n",
      "    env, resample\n",
      "\n",
      "The following object is masked from ‘package:utils’:\n",
      "\n",
      "    timestamp\n",
      "\n",
      "The following objects are masked from ‘package:base’:\n",
      "\n",
      "    cat, commandArgs, getOption, inherits, isOpen, parse, warnings\n",
      "\n"
     ]
    }
   ],
   "source": [
    "library(gdata)\n",
    "library(R.utils)\n",
    "\n",
    "read.xls(xls=\"./Lund_Weight_22-Mar-2016_final.xlsx\", sheet=1) -> lund_weight\n",
    "read.xls(xls=\"./Lund_Scores_22-Mar-2016_final.xlsx\", sheet=1) -> lund_score\n",
    "read.xls(xls=\"./Gale_Weight_22-Mar-2016_final.xlsx\", sheet=1) -> gale_weight\n",
    "read.xls(xls=\"./Gale_Scores_22-Mar-2016_final.xlsx\", sheet=1) -> gale_score"
   ]
  },
  {
   "cell_type": "markdown",
   "metadata": {},
   "source": [
    "# Merge Lund Weight and CS Data"
   ]
  },
  {
   "cell_type": "code",
   "execution_count": 2,
   "metadata": {
    "collapsed": true
   },
   "outputs": [],
   "source": [
    "## Fix CS column names\n",
    "days = c(\"D0\", \"D1\", \"D2\", \"D3\", \"D4\", \"D5\", \"D6\", \"D7\", \"D8\", \"D9\", \"D10\", \"D11\", \"D12\", \"D13\", \"D14\", \"D15\", \"D16\", \"D17\", \"D18\", \"D19\", \"D20\", \"D21\", \"D22\", \"D23\", \"D24\", \"D25\", \"D26\", \"D27\", \"D28\")\n",
    "colnames(lund_score)[colnames(lund_score) %in% days] = paste(colnames(lund_score)[colnames(lund_score) %in% days], \"cs\", sep=\"_\")\n",
    "\n",
    "cs_days = paste(days,\"cs\",sep=\"_\")\n",
    "\n",
    "lund_score[,c(\"ID\",\"Mating\",\"RIX_ID\",\"UW_Line\",\"Virus\",\"Date_Infected\",\"Death_Date\",\"Timepoint\",\"Lab\",cs_days)] -> lund_score_subset\n",
    "\n",
    "lund_weight[,c(\"ID\",\"Mating\",\"RIX_ID\",\"UW_Line\",\"Virus\",\"Date_Infected\",\"Death_Date\",\"Timepoint\",\"Lab\",days,paste0(days,\"_Percentage\"))] -> lund_weight_subset\n",
    "\n",
    "merge_cols = intersect(names(lund_weight_subset), names(lund_score_subset))\n",
    "\n",
    "all_lund_weight_cs = merge(lund_weight_subset, lund_score_subset, by=merge_cols, all=T)"
   ]
  },
  {
   "cell_type": "markdown",
   "metadata": {},
   "source": [
    "# Merge Gale Weight and CS Data"
   ]
  },
  {
   "cell_type": "code",
   "execution_count": 3,
   "metadata": {
    "collapsed": true
   },
   "outputs": [],
   "source": [
    "## Fix CS column names\n",
    "colnames(gale_score)[colnames(gale_score) %in% days] = paste(colnames(gale_score)[colnames(gale_score) %in% days], \"cs\", sep=\"_\")\n",
    "\n",
    "gale_score[,c(\"ID\",\"Mating\",\"RIX_ID\",\"UW_Line\",\"Virus\",\"Date_Infected\",\"Death_Date\",\"Timepoint\",\"Lab\",cs_days)] -> gale_score_subset\n",
    "\n",
    "gale_weight[,c(\"ID\",\"Mating\",\"RIX_ID\",\"UW_Line\",\"Virus\",\"Date_Infected\",\"Death_Date\",\"Timepoint\",\"Lab\",days,paste0(days,\"_Percentage\"))] -> gale_weight_subset\n",
    "\n",
    "all_gale_weight_cs = merge(gale_weight_subset, gale_score_subset, by=merge_cols, all=T)\n",
    "\n",
    "### Merge both labs\n",
    "all_weight_cs = rbind(all_lund_weight_cs, all_gale_weight_cs)"
   ]
  },
  {
   "cell_type": "markdown",
   "metadata": {},
   "source": [
    "# Calculate Phenotype criteria (max clinical score, average weight loss)"
   ]
  },
  {
   "cell_type": "markdown",
   "metadata": {},
   "source": [
    "## Calculate Max Clinical Scores"
   ]
  },
  {
   "cell_type": "code",
   "execution_count": 4,
   "metadata": {
    "collapsed": false
   },
   "outputs": [],
   "source": [
    "cs_days7 = c(\"D0_cs\",\"D1_cs\",\"D2_cs\", \"D3_cs\", \"D4_cs\", \"D5_cs\", \"D6_cs\",\"D7_cs\")\n",
    "cs_days8_14 = c(\"D8_cs\", \"D9_cs\", \"D10_cs\", \"D11_cs\",\"D12_cs\",\"D13_cs\",\"D14_cs\")\n",
    "cs_days15_28 = c(\"D15_cs\", \"D16_cs\", \"D17_cs\", \"D18_cs\", \"D19_cs\", \"D20_cs\",\"D21_cs\", \"D22_cs\", \"D23_cs\", \"D24_cs\", \"D25_cs\", \"D26_cs\", \"D27_cs\", \"D28_cs\")\n",
    "\n",
    "all_weight_cs$max_cs = suppressWarnings(apply(all_weight_cs[,cs_days], 1, max, na.rm=T))\n",
    "all_weight_cs$max_cs_d7 = suppressWarnings(apply(all_weight_cs[,cs_days7], 1, max, na.rm=T))\n",
    "all_weight_cs$max_cs_d8_d14 = suppressWarnings(apply(all_weight_cs[,cs_days8_14], 1, max, na.rm=T))\n",
    "all_weight_cs$max_cs_d15_d28 = suppressWarnings(apply(all_weight_cs[,cs_days15_28], 1, max, na.rm=T))\n",
    "\n",
    "all_weight_cs$max_cs[is.infinite(all_weight_cs$max_cs)] = NA\n",
    "all_weight_cs$max_cs_d7[is.infinite(all_weight_cs$max_cs_d7)] = NA\n",
    "all_weight_cs$max_cs_d8_d14[is.infinite(all_weight_cs$max_cs_d8_d14)] = NA\n",
    "all_weight_cs$max_cs_d15_d28[is.infinite(all_weight_cs$max_cs_d15_d28)] = NA\n",
    "\n",
    "per_day_weight_change = function(w, start_day=1) {\n",
    "  #print(w)\n",
    "  max_day = max(which(!is.na(w)))\n",
    "  day_span = max_day+start_day-1\n",
    "  if (!is.infinite(max_day) & day_span > 1) {\n",
    "    return(w[max_day]/(day_span-1))\n",
    "  } else {\n",
    "    return(NA)\n",
    "  }\n",
    "}\n",
    "\n",
    "days7 = c(\"D0\", \"D1\", \"D2\", \"D3\", \"D4\", \"D5\", \"D6\", \"D7\")\n",
    "days8_14 = c(\"D8\", \"D9\", \"D10\", \"D11\", \"D12\", \"D13\", \"D14\")\n",
    "days15_28 = c(\"D15\", \"D16\", \"D17\", \"D18\", \"D19\", \"D20\", \"D21\", \"D22\", \"D23\", \"D24\", \"D25\", \"D26\", \"D27\", \"D28\")\n",
    "\n",
    "days_percent = paste0(days[-1],\"_Percentage\")\n",
    "days7_percent = paste0(days7[-1],\"_Percentage\")\n",
    "days8_14_percent = paste0(days8_14,\"_Percentage\")\n",
    "days15_28_percent = paste0(days15_28,\"_Percentage\")\n",
    "\n",
    "all_weight_cs$avg_w_change = suppressWarnings(apply(all_weight_cs[,days_percent], 1, per_day_weight_change))\n",
    "all_weight_cs$avg_w_change_d7 = suppressWarnings(apply(all_weight_cs[,days7_percent], 1, per_day_weight_change))\n",
    "all_weight_cs$avg_w_change_d8_d14 = suppressWarnings(apply(all_weight_cs[,days8_14_percent], 1, per_day_weight_change, start_day=8))\n",
    "all_weight_cs$avg_w_change_d15_d28 = suppressWarnings(apply(all_weight_cs[,days15_28_percent], 1, per_day_weight_change, start_day=15))\n",
    "\n",
    "all_weight_cs$max_w_change = suppressWarnings(apply(all_weight_cs[,days_percent], 1, min, na.rm=T))\n",
    "all_weight_cs$max_w_change_d7 = suppressWarnings(apply(all_weight_cs[,days7_percent], 1, min, na.rm=T))\n",
    "all_weight_cs$max_w_change_d8_d14 = suppressWarnings(apply(all_weight_cs[,days8_14_percent], 1, min, na.rm=T))\n",
    "all_weight_cs$max_w_change_d15_d28 = suppressWarnings(apply(all_weight_cs[,days15_28_percent], 1, min, na.rm=T))\n",
    "\n",
    "all_weight_cs$max_w_change[is.infinite(all_weight_cs$max_w_change)] = NA\n",
    "all_weight_cs$max_w_change_d7[is.infinite(all_weight_cs$max_w_change_d7)] = NA\n",
    "all_weight_cs$max_w_change_d8_d14[is.infinite(all_weight_cs$max_w_change_d8_d14)] = NA\n",
    "all_weight_cs$max_w_change_d15_d28[is.infinite(all_weight_cs$max_w_change_d15_d28)] = NA\n"
   ]
  },
  {
   "cell_type": "markdown",
   "metadata": {},
   "source": [
    "## Aggregate average weight loss by Line and Virus"
   ]
  },
  {
   "cell_type": "code",
   "execution_count": 5,
   "metadata": {
    "collapsed": true
   },
   "outputs": [],
   "source": [
    "## Before D8\n",
    "all_weight_cs$d7_w_change_gt5percent_mock = NA\n",
    "agg_w_change = aggregate(all_weight_cs$avg_w_change_d7, by=list(all_weight_cs$UW_Line, all_weight_cs$Virus), mean, na.rm=T)\n",
    "colnames(agg_w_change) = c('line', 'virus', 'w_change')\n",
    "\n",
    "lines = unique(agg_w_change$line)\n",
    "for (l in lines) {\n",
    "  mock_change = agg_w_change[agg_w_change$line==l & agg_w_change$virus=='Mock', 'w_change']\n",
    "  wnv_change = agg_w_change[agg_w_change$line==l & agg_w_change$virus=='WNV', 'w_change']\n",
    "  if (length(mock_change) > 0 & length(wnv_change) > 0) { \n",
    "    if (!is.na(mock_change) & !is.na(wnv_change)) {\n",
    "      delta = wnv_change-mock_change\n",
    "      #print(l)\n",
    "      #print(delta)\n",
    "      if (delta < -5) {\n",
    "        all_weight_cs$d7_w_change_gt5percent_mock[all_weight_cs$UW_Line==l] = TRUE\n",
    "      } else {\n",
    "        all_weight_cs$d7_w_change_gt5percent_mock[all_weight_cs$UW_Line==l] = FALSE\n",
    "      }\n",
    "    }\n",
    "  }\n",
    "}\n",
    "\n",
    "## D8 - D14\n",
    "all_weight_cs$d8_d14_w_change_gt5percent_mock = NA\n",
    "agg_w_change = aggregate(all_weight_cs$avg_w_change_d8_d14, by=list(all_weight_cs$UW_Line, all_weight_cs$Virus), mean, na.rm=T)\n",
    "colnames(agg_w_change) = c('line', 'virus', 'w_change')\n",
    "\n",
    "lines = unique(agg_w_change$line)\n",
    "for (l in lines) {\n",
    "  mock_change = agg_w_change[agg_w_change$line==l & agg_w_change$virus=='Mock', 'w_change']\n",
    "  wnv_change = agg_w_change[agg_w_change$line==l & agg_w_change$virus=='WNV', 'w_change']\n",
    "  if (length(mock_change) > 0 & length(wnv_change) > 0) { \n",
    "    if (!is.na(mock_change) & !is.na(wnv_change)) {\n",
    "      delta = wnv_change-mock_change\n",
    "      #print(l)\n",
    "      #print(delta)\n",
    "      if (delta < -5) {\n",
    "        all_weight_cs$d8_d14_w_change_gt5percent_mock[all_weight_cs$UW_Line==l] = TRUE\n",
    "      } else {\n",
    "        all_weight_cs$d8_d14_w_change_gt5percent_mock[all_weight_cs$UW_Line==l] = FALSE\n",
    "      }\n",
    "    }\n",
    "  }\n",
    "}\n",
    "\n",
    "## After D14\n",
    "all_weight_cs$d15_d28_w_change_gt5percent_mock = NA\n",
    "agg_w_change = aggregate(all_weight_cs$avg_w_change_d15_d28, by=list(all_weight_cs$UW_Line, all_weight_cs$Virus), mean, na.rm=T)\n",
    "colnames(agg_w_change) = c('line', 'virus', 'w_change')\n",
    "\n",
    "lines = unique(agg_w_change$line)\n",
    "for (l in lines) {\n",
    "  mock_change = agg_w_change[agg_w_change$line==l & agg_w_change$virus=='Mock', 'w_change']\n",
    "  wnv_change = agg_w_change[agg_w_change$line==l & agg_w_change$virus=='WNV', 'w_change']\n",
    "  if (length(mock_change) > 0 & length(wnv_change) > 0) { \n",
    "    if (!is.na(mock_change) & !is.na(wnv_change)) {\n",
    "      delta = wnv_change-mock_change\n",
    "      #print(l)\n",
    "      #print(delta)\n",
    "      if (delta < -5) {\n",
    "        all_weight_cs$d15_d28_w_change_gt5percent_mock[all_weight_cs$UW_Line==l] = TRUE\n",
    "      } else {\n",
    "        all_weight_cs$d15_d28_w_change_gt5percent_mock[all_weight_cs$UW_Line==l] = FALSE\n",
    "      }\n",
    "    }\n",
    "  }\n",
    "}\n"
   ]
  },
  {
   "cell_type": "markdown",
   "metadata": {},
   "source": [
    "## Aggregate max weight loss by Line and Virus"
   ]
  },
  {
   "cell_type": "code",
   "execution_count": 6,
   "metadata": {
    "collapsed": true
   },
   "outputs": [],
   "source": [
    "## Before D8\n",
    "all_weight_cs$d7_max_w_change_gt5percent_mock = NA\n",
    "agg_w_change = aggregate(all_weight_cs$max_w_change_d7, by=list(all_weight_cs$UW_Line, all_weight_cs$Virus), mean, na.rm=T)\n",
    "colnames(agg_w_change) = c('line', 'virus', 'w_change')\n",
    "\n",
    "lines = unique(agg_w_change$line)\n",
    "for (l in lines) {\n",
    "  mock_change = agg_w_change[agg_w_change$line==l & agg_w_change$virus=='Mock', 'w_change']\n",
    "  wnv_change = agg_w_change[agg_w_change$line==l & agg_w_change$virus=='WNV', 'w_change']\n",
    "  if (length(mock_change) > 0 & length(wnv_change) > 0) { \n",
    "    if (!is.na(mock_change) & !is.na(wnv_change)) {\n",
    "      delta = wnv_change-mock_change\n",
    "      #print(l)\n",
    "      #print(delta)\n",
    "      if (delta < -5) {\n",
    "        all_weight_cs$d7_max_w_change_gt5percent_mock[all_weight_cs$UW_Line==l] = TRUE\n",
    "      } else {\n",
    "        all_weight_cs$d7_max_w_change_gt5percent_mock[all_weight_cs$UW_Line==l] = FALSE\n",
    "      }\n",
    "    }\n",
    "  }\n",
    "}\n",
    "\n",
    "## D8 - D14\n",
    "all_weight_cs$d8_d14_max_w_change_gt5percent_mock = NA\n",
    "agg_w_change = aggregate(all_weight_cs$max_w_change_d8_d14, by=list(all_weight_cs$UW_Line, all_weight_cs$Virus), mean, na.rm=T)\n",
    "colnames(agg_w_change) = c('line', 'virus', 'w_change')\n",
    "\n",
    "lines = unique(agg_w_change$line)\n",
    "for (l in lines) {\n",
    "  mock_change = agg_w_change[agg_w_change$line==l & agg_w_change$virus=='Mock', 'w_change']\n",
    "  wnv_change = agg_w_change[agg_w_change$line==l & agg_w_change$virus=='WNV', 'w_change']\n",
    "  if (length(mock_change) > 0 & length(wnv_change) > 0) { \n",
    "    if (!is.na(mock_change) & !is.na(wnv_change)) {\n",
    "      delta = wnv_change-mock_change\n",
    "      #print(l)\n",
    "      #print(delta)\n",
    "      if (delta < -5) {\n",
    "        all_weight_cs$d8_d14_max_w_change_gt5percent_mock[all_weight_cs$UW_Line==l] = TRUE\n",
    "      } else {\n",
    "        all_weight_cs$d8_d14_max_w_change_gt5percent_mock[all_weight_cs$UW_Line==l] = FALSE\n",
    "      }\n",
    "    }\n",
    "  }\n",
    "}\n",
    "\n",
    "## After D14\n",
    "all_weight_cs$d15_d28_max_w_change_gt5percent_mock = NA\n",
    "agg_w_change = aggregate(all_weight_cs$max_w_change_d15_d28, by=list(all_weight_cs$UW_Line, all_weight_cs$Virus), mean, na.rm=T)\n",
    "colnames(agg_w_change) = c('line', 'virus', 'w_change')\n",
    "\n",
    "lines = unique(agg_w_change$line)\n",
    "for (l in lines) {\n",
    "  mock_change = agg_w_change[agg_w_change$line==l & agg_w_change$virus=='Mock', 'w_change']\n",
    "  wnv_change = agg_w_change[agg_w_change$line==l & agg_w_change$virus=='WNV', 'w_change']\n",
    "  if (length(mock_change) > 0 & length(wnv_change) > 0) { \n",
    "    if (!is.na(mock_change) & !is.na(wnv_change)) {\n",
    "      delta = wnv_change-mock_change\n",
    "      #print(l)\n",
    "      #print(delta)\n",
    "      if (delta < -5) {\n",
    "        all_weight_cs$d15_d28_max_w_change_gt5percent_mock[all_weight_cs$UW_Line==l] = TRUE\n",
    "      } else {\n",
    "        all_weight_cs$d15_d28_max_w_change_gt5percent_mock[all_weight_cs$UW_Line==l] = FALSE\n",
    "      }\n",
    "    }\n",
    "  }\n",
    "}\n"
   ]
  },
  {
   "cell_type": "markdown",
   "metadata": {},
   "source": [
    "## Aggregate max CS by Line"
   ]
  },
  {
   "cell_type": "code",
   "execution_count": 7,
   "metadata": {
    "collapsed": true
   },
   "outputs": [],
   "source": [
    "## Before D8\n",
    "all_weight_cs$d7_max_cs_gt1 = NA\n",
    "agg_max_cs = suppressWarnings(aggregate(all_weight_cs$max_cs_d7[all_weight_cs$Virus=='WNV'], by=list(all_weight_cs$UW_Line[all_weight_cs$Virus=='WNV']), max, na.rm=T))\n",
    "colnames(agg_max_cs) = c('line', 'max_cs')\n",
    "\n",
    "lines = unique(agg_max_cs$line)\n",
    "for (l in lines) {\n",
    "  max_cs = agg_max_cs[agg_max_cs$line==l, 'max_cs']\n",
    "  if (length(max_cs) > 0) { \n",
    "    if (!is.na(max_cs)) {\n",
    "      if (max_cs > 1) {\n",
    "        all_weight_cs$d7_max_cs_gt1[all_weight_cs$UW_Line==l] = TRUE\n",
    "      } else {\n",
    "        all_weight_cs$d7_max_cs_gt1[all_weight_cs$UW_Line==l] = FALSE\n",
    "      }\n",
    "    }\n",
    "  }\n",
    "}\n",
    "\n",
    "## Between D8 and D14\n",
    "all_weight_cs$d8_d14_max_cs_gt1 = NA\n",
    "agg_max_cs = suppressWarnings(aggregate(all_weight_cs$max_cs_d8_d14[all_weight_cs$Virus=='WNV'], by=list(all_weight_cs$UW_Line[all_weight_cs$Virus=='WNV']), max, na.rm=T))\n",
    "colnames(agg_max_cs) = c('line', 'max_cs')\n",
    "\n",
    "lines = unique(agg_max_cs$line)\n",
    "for (l in lines) {\n",
    "  max_cs = agg_max_cs[agg_max_cs$line==l, 'max_cs']\n",
    "  if (length(max_cs) > 0) { \n",
    "    if (!is.na(max_cs)) {\n",
    "      if (max_cs > 1) {\n",
    "        all_weight_cs$d8_d14_max_cs_gt1[all_weight_cs$UW_Line==l] = TRUE\n",
    "      } else {\n",
    "        all_weight_cs$d8_d14_max_cs_gt1[all_weight_cs$UW_Line==l] = FALSE\n",
    "      }\n",
    "    }\n",
    "  }\n",
    "}\n",
    "\n",
    "## After D14\n",
    "all_weight_cs$d15_d28_max_cs_gt1 = NA\n",
    "agg_max_cs = suppressWarnings(aggregate(all_weight_cs$max_cs_d15_d28[all_weight_cs$Virus=='WNV'], by=list(all_weight_cs$UW_Line[all_weight_cs$Virus=='WNV']), max, na.rm=T))\n",
    "colnames(agg_max_cs) = c('line', 'max_cs')\n",
    "\n",
    "lines = unique(agg_max_cs$line)\n",
    "for (l in lines) {\n",
    "  max_cs = agg_max_cs[agg_max_cs$line==l, 'max_cs']\n",
    "  if (length(max_cs) > 0) { \n",
    "    if (!is.na(max_cs)) {\n",
    "      if (max_cs > 1) {\n",
    "        all_weight_cs$d15_d28_max_cs_gt1[all_weight_cs$UW_Line==l] = TRUE\n",
    "      } else {\n",
    "        all_weight_cs$d15_d28_max_cs_gt1[all_weight_cs$UW_Line==l] = FALSE\n",
    "      }\n",
    "    }\n",
    "  }\n",
    "}\n"
   ]
  },
  {
   "cell_type": "markdown",
   "metadata": {},
   "source": [
    "# Annotate phenotypes based on criteria"
   ]
  },
  {
   "cell_type": "code",
   "execution_count": 8,
   "metadata": {
    "collapsed": false
   },
   "outputs": [
    {
     "name": "stdout",
     "output_type": "stream",
     "text": [
      "$`no disease`\n",
      " [1]   2   4   7  11  12  14  15  16  17  18  21  22  25  26  31  35  37  42  43\n",
      "[20]  44  45  57  58  62  63  64  71  73  74  77  79  85  86  88  89  91  92  98\n",
      "[39]  99 104 105\n",
      "\n",
      "$`early susceptibility`\n",
      "[1] 68 90\n",
      "\n",
      "$`normal disease`\n",
      " [1]   3  19  20  23  27  28  29  40  46  49  52  53  55  61  65  66  70  72  80\n",
      "[20]  93  94  95  96  97 100 101 102 103\n",
      "\n",
      "$`extended disease`\n",
      " [1]  8  9 10 13 24 30 32 33 34 36 38 39 41 47 48 50 54 56 59 60 67 69 75 76 78\n",
      "[26] 81 82 83 84 87\n",
      "\n"
     ]
    }
   ],
   "source": [
    "all_weight_cs$phenotype = NA\n",
    "all_weight_cs$phenotype[is.na(all_weight_cs$d7_max_cs_gt1) & is.na(all_weight_cs$d8_d14_max_cs_gt1) & is.na(all_weight_cs$d15_d28_max_cs_gt1) & is.na(all_weight_cs$d7_max_w_change_gt5percent_mock) & is.na(all_weight_cs$d8_d14_max_w_change_gt5percent_mock) & is.na(all_weight_cs$d15_d28_max_w_change_gt5percent_mock)] = 'unknown'\n",
    "all_weight_cs$phenotype[any(!all_weight_cs$d7_max_cs_gt1 & !all_weight_cs$d8_d14_max_cs_gt1 & !all_weight_cs$d15_d28_max_cs_gt1 & !all_weight_cs$d7_max_w_change_gt5percent_mock & !all_weight_cs$d8_d14_max_w_change_gt5percent_mock & !all_weight_cs$d15_d28_max_w_change_gt5percent_mock) & !any(all_weight_cs$d7_max_cs_gt1 & all_weight_cs$d8_d14_max_cs_gt1 & all_weight_cs$d15_d28_max_cs_gt1 & all_weight_cs$d7_max_w_change_gt5percent_mock & all_weight_cs$d8_d14_max_w_change_gt5percent_mock & all_weight_cs$d15_d28_max_w_change_gt5percent_mock)] = 'no disease'\n",
    "all_weight_cs$phenotype[all_weight_cs$d7_max_cs_gt1 | all_weight_cs$d7_max_w_change_gt5percent_mock] = 'early susceptibility'\n",
    "all_weight_cs$phenotype[(!all_weight_cs$d7_max_cs_gt1 | is.na(all_weight_cs$d7_max_cs_gt1)) & (!all_weight_cs$d7_max_w_change_gt5percent_mock | is.na(all_weight_cs$d7_max_w_change_gt5percent_mock)) & (all_weight_cs$d8_d14_max_cs_gt1 | all_weight_cs$d8_d14_max_w_change_gt5percent_mock) & (!all_weight_cs$d15_d28_max_cs_gt1 | is.na(all_weight_cs$d15_d28_max_cs_gt1)) & (!all_weight_cs$d15_d28_max_w_change_gt5percent_mock | is.na(all_weight_cs$d15_d28_max_w_change_gt5percent_mock))] = 'normal disease'\n",
    "all_weight_cs$phenotype[(all_weight_cs$d15_d28_max_cs_gt1 | all_weight_cs$d15_d28_max_w_change_gt5percent_mock) & (!all_weight_cs$d7_max_cs_gt1 | is.na(all_weight_cs$d7_max_cs_gt1)) & (!all_weight_cs$d7_max_w_change_gt5percent_mock | is.na(all_weight_cs$d7_max_w_change_gt5percent_mock))] = 'extended disease'\n",
    "\n",
    "# Change line 4 back to no disease, score is outlier\n",
    "all_weight_cs[which(all_weight_cs[,\"UW_Line\"] == '4'),\"phenotype\"] <- \"no disease\"\n",
    "\n",
    "# Save phenotype list\n",
    "pheno_list = list(\"no disease\" = sort(unique(all_weight_cs$UW_Line[all_weight_cs$phenotype=='no disease'])),'early susceptibility'=sort(unique(all_weight_cs$UW_Line[all_weight_cs$phenotype=='early susceptibility'])),'normal disease'=sort(unique(all_weight_cs$UW_Line[all_weight_cs$phenotype=='normal disease'])),'extended disease'=sort(unique(all_weight_cs$UW_Line[all_weight_cs$phenotype=='extended disease'])))\n",
    "\n",
    "print(pheno_list)"
   ]
  },
  {
   "cell_type": "code",
   "execution_count": null,
   "metadata": {
    "collapsed": true
   },
   "outputs": [],
   "source": []
  }
 ],
 "metadata": {
  "kernelspec": {
   "display_name": "R",
   "language": "R",
   "name": "ir"
  },
  "language_info": {
   "codemirror_mode": "r",
   "file_extension": ".r",
   "mimetype": "text/x-r-source",
   "name": "R",
   "pygments_lexer": "r",
   "version": "3.2.2"
  }
 },
 "nbformat": 4,
 "nbformat_minor": 0
}
