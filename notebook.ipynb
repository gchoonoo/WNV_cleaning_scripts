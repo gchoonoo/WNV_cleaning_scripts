{
 "cells": [
  {
   "cell_type": "markdown",
   "metadata": {},
   "source": [
    "# Systems Immunogenetics Project\n",
    "\n",
    "## WNV Cleaning Steps\n",
    "\n",
    "### McWeeney Lab, Oregon Health & Science University\n",
    "\n",
    "** Authors: Gabrielle Choonoo (choonoo@ohsu.edu) and Michael Mooney (mooneymi@ohsu.edu) **\n",
    "\n",
    "## Introduction\n",
    "\n",
    "This is the step-by-step process for cleaning the WNV data (weight, clinical score, qpcr, and phenotypes).\n",
    "\n",
    "Required Files:\n",
    "* WNV Data\n",
    "* This notebook (notebook.ipynb): [[Download here]](https://raw.githubusercontent.com/gchoonoo/Buxco_notebook/master/notebook.ipynb)\n",
    "\n",
    "Required R packages:\n",
    "- `gdata`\n",
    "\n",
    "**Note: this notebook can also be downloaded as an R script (only the code blocks seen below will be included): [[Download R script here]](https://raw.githubusercontent.com/gchoonoo/Buxco_notebook/master/clean_data.r)\n",
    "\n",
    "** All code is available on GitHub: [https://github.com/gchoonoo/WNV_cleaning_scripts](https://github.com/gchoonoo/WNV_cleaning_scripts) **"
   ]
  },
  {
   "cell_type": "markdown",
   "metadata": {},
   "source": [
    "# Weight sheets: Read in Data"
   ]
  },
  {
   "cell_type": "code",
   "execution_count": null,
   "metadata": {
    "collapsed": true
   },
   "outputs": [],
   "source": [
    "library(gdata)\n",
    "\n",
    "# Gale: Read in weight sheet\n",
    "# Lund: Read in all weight sheets and combine\n",
    "# Lund Data Example:\n",
    "read.xls(xls=\"102 weights 3_21_16.xlsx\", sheet=1, skip=2,colClasses=c(\"NULL\",rep(NA,37)), stringsAsFactors=F) -> line_102\n",
    "read.xls(xls=\"101 weights 3_21_16.xlsx\", sheet=1, skip=2,colClasses=c(\"NULL\",rep(NA,37)), stringsAsFactors=F) -> line_101\n",
    "read.xls(xls=\"096 weights 3_21_16.xlsx\", sheet=1, skip=2,colClasses=c(\"NULL\",rep(NA,37)), stringsAsFactors=F) -> line_96\n",
    "read.xls(xls=\"108 weights 3_21_16.xlsx\", sheet=1, skip=2,colClasses=c(\"NULL\",rep(NA,37)), stringsAsFactors=F) -> line_108\n",
    "read.xls(xls=\"107 weights 3_21_16.xlsx\", sheet=1, skip=2,colClasses=c(\"NULL\",rep(NA,37)), stringsAsFactors=F) -> line_107\n",
    "read.xls(xls=\"100 weights 3_21_16.xlsx\", sheet=1, skip=2,colClasses=c(\"NULL\",rep(NA,37)), stringsAsFactors=F) -> line_100\n",
    "read.xls(xls=\"099 weights 3_21_16.xlsx\", sheet=1, skip=2,colClasses=c(\"NULL\",rep(NA,37)), stringsAsFactors=F) -> line_99\n",
    "read.xls(xls=\"106 weights 3_15_16.xlsx\", sheet=1, skip=2,colClasses=c(\"NULL\",rep(NA,37)), stringsAsFactors=F) -> line_106\n",
    "read.xls(xls=\"105 weights 3_15_16.xlsx\", sheet=1, skip=2,colClasses=c(\"NULL\",rep(NA,37)), stringsAsFactors=F) -> line_105\n",
    "read.xls(xls=\"061 weights 3_15_16.xlsx\", sheet=1, skip=2,colClasses=c(\"NULL\",rep(NA,37)), stringsAsFactors=F) -> line_61\n",
    "read.xls(xls=\"090 weights 3_15_16.xlsx\", sheet=1, skip=2,colClasses=c(\"NULL\",rep(NA,37)), stringsAsFactors=F) -> line_90\n",
    "read.xls(xls=\"089 weights 3_15_16.xlsx\", sheet=1, skip=2,colClasses=c(\"NULL\",rep(NA,37)), stringsAsFactors=F) -> line_89\n",
    "read.xls(xls=\"045 weights 11_5_15.xlsx\", sheet=1, skip=2,colClasses=c(\"NULL\",rep(NA,37)), stringsAsFactors=F) -> line_45\n",
    "\n",
    "# Clean days\n",
    "days = gsub(\"d\",\"D\",gsub(\"\\\\.\",\"\",names(line_102)[9:37]))\n",
    "\n",
    "# Formatting function: removes percentages in second half of each file\n",
    "format_data = function(data){\n",
    "  \n",
    "  names(data) <- c(\"UW_Line\",\"ID\",\"Mating\",\"RIX_ID\",\"Timepoint\",\"Date_Infected\",\"Death_Euthanized\",\"Death_FoundInCage\",days)\n",
    "  \n",
    "  data[1:which(data[,1] == \"% of initial weight\")-1,] -> data\n",
    "  \n",
    "  return(data)\n",
    "}\n",
    "\n",
    "# Format all data\n",
    "format_data(line_102) -> lund1\n",
    "format_data(line_101) -> lund2\n",
    "format_data(line_96) -> lund3\n",
    "format_data(line_108) -> lund4\n",
    "format_data(line_107) -> lund5\n",
    "format_data(line_100) -> lund6\n",
    "format_data(line_99) -> lund7\n",
    "format_data(line_106) -> lund8\n",
    "format_data(line_105) -> lund9\n",
    "format_data(line_61) -> lund10\n",
    "format_data(line_90) -> lund11\n",
    "format_data(line_89) -> lund12\n",
    "format_data(line_45) -> lund13\n",
    "\n",
    "# Combine Data\n",
    "rbind(lund1, lund2, lund3, lund4, lund5, lund6, lund7, lund8, lund9, lund10, lund11, lund12, lund13) -> new_lund_line\n",
    "\n",
    "# Cleaning steps as outlined by Readme\n",
    "\n",
    "# Cleaning Blanks to NA function\n",
    "clean_na = function(data_set){\n",
    "  \n",
    "  for (i in 1:dim(data_set)[2]){\n",
    "    print(i)\n",
    "    if(sum(na.omit(data_set[,i] == \"\") > 0)){\n",
    "      \n",
    "      data_set[which( data_set[,i] == \"\"),i] <- NA\n",
    "    }\n",
    "    \n",
    "  }\n",
    "  return(data_set)\n",
    "}\n",
    "\n",
    "clean_na(new_lund_line) -> new_lund_line"
   ]
  },
  {
   "cell_type": "markdown",
   "metadata": {},
   "source": [
    "# 1. Clean mating: \"X\" changed to \"x\""
   ]
  },
  {
   "cell_type": "code",
   "execution_count": null,
   "metadata": {
    "collapsed": true
   },
   "outputs": [],
   "source": [
    "new_lund_line[,\"Mating\"] <- gsub(\"X\",\"x\",new_lund_line[,\"Mating\"])\n",
    "\n",
    "# Check if all matings have unique uw line, if not returns lines that has duplicated mating\n",
    "unique(new_lund_line[,\"UW_Line\"])[sapply(1:length(unique(new_lund_line[,\"UW_Line\"])), function(xx)length(unique(new_lund_line[as.vector(unlist(sapply(unique(new_lund_line[,\"UW_Line\"])[xx],function(x)which(x==new_lund_line[,\"UW_Line\"])))),\"Mating\"]))) > 1]\n",
    "\n",
    "# Clean mating if necessary: see Gale and Lund specific cleaning steps in Read me"
   ]
  },
  {
   "cell_type": "markdown",
   "metadata": {},
   "source": [
    "# 2. Clean ID with new mating: Mating + RIX_ID"
   ]
  },
  {
   "cell_type": "code",
   "execution_count": null,
   "metadata": {
    "collapsed": true
   },
   "outputs": [],
   "source": [
    "new_lund_line[,\"ID\"] <- paste(new_lund_line[,\"Mating\"],new_lund_line[,\"RIX_ID\"],sep=\"_\")"
   ]
  },
  {
   "cell_type": "markdown",
   "metadata": {},
   "source": [
    "# 3. Add/remove columns and edit column names"
   ]
  },
  {
   "cell_type": "code",
   "execution_count": null,
   "metadata": {
    "collapsed": true
   },
   "outputs": [],
   "source": [
    "# 3. Add/remove columns and edit column names: Add Lab, Data_Altered\n",
    "  # Gale: Add Death_FoundInCage column\n",
    "  # Change column name \"Died_of_virus_at_day\" to \"Died_of_Virus\" \n",
    "  # Change column name \"Animal_was_euthansized_at_day\" to \"Death_Euthanized\"\n",
    "  # Change column name \"Died_from_anesthesia\" to \"Died_from_Anesthesia\"\n",
    "  # Remove columns: CV1, CV2, Interesting_Phenotype (empty)\n",
    "# Lund: Add UWID, Cohort, Sex, Died_of_Virus, Died_from_Anesthesia, and Notes columns\n",
    "new_lund_line$Lab = \"Lund\" \n",
    "new_lund_line$UWID = NA\n",
    "new_lund_line$Cohort = NA\n",
    "new_lund_line$Sex = NA\n",
    "new_lund_line$Died_of_Virus = NA\n",
    "new_lund_line$Died_from_Anesthesia = NA\n",
    "new_lund_line$Data_Altered = NA\n",
    "new_lund_line$Notes = NA"
   ]
  },
  {
   "cell_type": "markdown",
   "metadata": {},
   "source": [
    "# 4. Check the Virus column is annotated and clean timepoint"
   ]
  },
  {
   "cell_type": "code",
   "execution_count": null,
   "metadata": {
    "collapsed": true
   },
   "outputs": [],
   "source": [
    "unique(new_lund_line$Virus)\n",
    "\n",
    "# add virus column\n",
    "new_lund_line$Virus = NA\n",
    "new_lund_line[grep(\"m\",new_lund_line[,\"Timepoint\"]),\"Virus\"] <- \"Mock\"\n",
    "new_lund_line[-grep(\"m\",new_lund_line[,\"Timepoint\"]),\"Virus\"] <- \"WNV\"\n",
    "\n",
    "# clean timepoint\n",
    "new_lund_line[,\"Timepoint\"] <- as.numeric(as.character(gsub(\"d\",\"\",gsub(\"m\",\"\",new_lund_line[,\"Timepoint\"]))))"
   ]
  },
  {
   "cell_type": "markdown",
   "metadata": {},
   "source": [
    "# 5. Check for any duplicated or NA rows"
   ]
  },
  {
   "cell_type": "code",
   "execution_count": null,
   "metadata": {
    "collapsed": true
   },
   "outputs": [],
   "source": [
    "days = c(\"D0\",\"D1\",\"D2\",\"D3\",\"D4\",\"D5\",\"D6\",\"D7\",\"D8\",\"D9\",\"D10\",\"D11\",\"D12\",\"D13\",\"D14\",\"D15\",\"D16\",\"D17\",\"D18\",\"D19\",\"D20\",\"D21\",\"D22\",\"D23\",\"D24\",\"D25\",\"D26\",\"D27\",\"D28\")\n",
    "na_now = sapply(1:dim(new_lund_line)[1],function(x)sum(is.na(new_lund_line[x,days])) == length(new_lund_line[x,days]))\n",
    "\n",
    "sum(na_now)\n",
    "\n",
    "new_lund_line[na_now,] # Flag if no died early notes"
   ]
  },
  {
   "cell_type": "markdown",
   "metadata": {},
   "source": [
    "# 6. Annotate Death_Date based on date of infection to timepoint or died early notes, annotate putative death day"
   ]
  },
  {
   "cell_type": "code",
   "execution_count": null,
   "metadata": {
    "collapsed": true
   },
   "outputs": [],
   "source": [
    "# Lund: Change Death_Euthanized and Death_FoundInCage to day instead of date\n",
    "new_lund_line[,\"Death_Euthanized\"] <- as.Date(new_lund_line[,\"Death_Euthanized\"], format=\"%m/%d/%y\")\n",
    "new_lund_line[,\"Death_FoundInCage\"] <- as.Date(new_lund_line[,\"Death_FoundInCage\"], format=\"%m/%d/%y\")\n",
    "new_lund_line[,\"Date_Infected\"] <- as.Date(new_lund_line[,\"Date_Infected\"], format=\"%m/%d/%y\")\n",
    "new_lund_line[,\"Death_FoundInCage\"] <- as.vector(difftime(new_lund_line[,\"Death_FoundInCage\"],new_lund_line[,\"Date_Infected\"],units=\"days\"))\n",
    "new_lund_line[,\"Death_Euthanized\"] <- as.vector(difftime(new_lund_line[,\"Death_Euthanized\"],new_lund_line[,\"Date_Infected\"],units=\"days\"))\n",
    "\n",
    "# Annotate death date\n",
    "new_lund_line$Death_Date = NA\n",
    "new_lund_line[which(is.na(new_lund_line[,\"Date_Infected\"])),\"UW_Line\"]\n",
    "new_lund_line[which(!is.na(new_lund_line[,\"Death_Euthanized\"])),\"Death_Date\"] <- as.character(new_lund_line[which(!is.na(new_lund_line[,\"Death_Euthanized\"])),\"Date_Infected\"]+new_lund_line[which(!is.na(new_lund_line[,\"Death_Euthanized\"])),\"Death_Euthanized\"])\n",
    "new_lund_line[which(!is.na(new_lund_line[,\"Death_FoundInCage\"])),\"Death_Date\"] <- as.character(new_lund_line[which(!is.na(new_lund_line[,\"Death_FoundInCage\"])),\"Date_Infected\"]+new_lund_line[which(!is.na(new_lund_line[,\"Death_FoundInCage\"])),\"Death_FoundInCage\"])\n",
    "new_lund_line[which(is.na(new_lund_line[,\"Death_FoundInCage\"]) & is.na(new_lund_line[,\"Death_Euthanized\"])),\"Death_Date\"] <- as.character(new_lund_line[which(is.na(new_lund_line[,\"Death_FoundInCage\"]) & is.na(new_lund_line[,\"Death_Euthanized\"])),\"Date_Infected\"]+new_lund_line[which(is.na(new_lund_line[,\"Death_FoundInCage\"]) & is.na(new_lund_line[,\"Death_Euthanized\"])),\"Timepoint\"])\n",
    "\n",
    "# annotate putative death day\n",
    "new_lund_line$putative_death_day <- sapply(1:dim(new_lund_line)[1],function(x)max(as.numeric(as.character(gsub(\"D\",\"\",names(new_lund_line[x,days][which(!is.na(new_lund_line[x,days]))]))))))\n",
    "\n",
    "# Check if any still NA, annotate death date as date of infection to timepoint if the difference between the timepoint and putative death day is <= 3, otherwise this is flagged below\n",
    "new_lund_line[which(is.na(new_lund_line[,\"Death_Date\"])),]"
   ]
  },
  {
   "cell_type": "markdown",
   "metadata": {},
   "source": [
    "# 7. Calculate weight change percentages, add D0_Percentage column and set to baseline 0"
   ]
  },
  {
   "cell_type": "code",
   "execution_count": null,
   "metadata": {
    "collapsed": true
   },
   "outputs": [],
   "source": [
    "# add weight percentage columns\n",
    "ncol(new_lund_line) -> ncols\n",
    "new_lund_line[,(ncols+1):(ncols+29)] <- NA\n",
    "names(new_lund_line)[(ncols+1):(ncols+29)] <- paste(days, \"Percentage\",sep=\"_\")\n",
    "\n",
    "# Make sure D0_Percentage column exists and is set to baseline = 0\n",
    "new_lund_line[,\"D0_Percentage\"] <- 0\n",
    "\n",
    "# change weights to numeric\n",
    "for(i in days){\n",
    "  print(i)\n",
    "  new_lund_line[,i] <- as.numeric(as.character(new_lund_line[,i]))\n",
    "}\n",
    "\n",
    "# calculate percentages\n",
    "for(i in days[-1]){\n",
    "  print(i)\n",
    "  d2_p = sapply(1:dim(new_lund_line)[1],function(x){\n",
    "    print(x)\n",
    "    (diff(c(new_lund_line[x,\"D0\"], new_lund_line[x,i]))/new_lund_line[x,\"D0\"])*100\n",
    "  })\n",
    "  \n",
    "  new_lund_line[,paste0(i,\"_Percentage\")] <- d2_p\n",
    "}"
   ]
  },
  {
   "cell_type": "markdown",
   "metadata": {},
   "source": [
    "# 8. Add Flag_Weight_Drop column "
   ]
  },
  {
   "cell_type": "code",
   "execution_count": null,
   "metadata": {
    "collapsed": true
   },
   "outputs": [],
   "source": [
    "# Flag = True if animals lost more than 20% body weight\n",
    "days_percent = paste0(days,\"_Percentage\")\n",
    "\n",
    "flag_weight_drop = sapply(1:dim(new_lund_line)[1],function(x)sum(new_lund_line[x,days_percent] <= -20, na.rm=T) > 0)\n",
    "\n",
    "new_lund_line$Flag_Weight_Drop = flag_weight_drop"
   ]
  },
  {
   "cell_type": "markdown",
   "metadata": {},
   "source": [
    "# 9. Add Flag_Identical_Weights "
   ]
  },
  {
   "cell_type": "code",
   "execution_count": null,
   "metadata": {
    "collapsed": true
   },
   "outputs": [],
   "source": [
    "# Flag = True if identical weights on consecutive measurements\n",
    "identical_weights = sapply(1:dim(new_lund_line)[1],function(x)sum(diff(na.omit(as.numeric(as.character(new_lund_line[x,days_percent])))) == 0) > 0)\n",
    "\n",
    "new_lund_line$Flag_Identical_Weights = identical_weights"
   ]
  },
  {
   "cell_type": "markdown",
   "metadata": {},
   "source": [
    "# 10. Add Flag_Per_Day_Weight_Change "
   ]
  },
  {
   "cell_type": "code",
   "execution_count": null,
   "metadata": {
    "collapsed": true
   },
   "outputs": [],
   "source": [
    "# Flag = True if weight change > 10% on consecutive measurements\n",
    "weight_change_flag = sapply(1:dim(new_lund_line)[1],function(x)sum(abs(diff(na.omit(as.numeric(as.character(new_lund_line[x,days_percent]))))) >= 10) > 0)\n",
    "\n",
    "new_lund_line$Flag_Per_Day_Weight_Change = weight_change_flag"
   ]
  },
  {
   "cell_type": "markdown",
   "metadata": {},
   "source": [
    "# 11. Add Flag_weight_day "
   ]
  },
  {
   "cell_type": "code",
   "execution_count": null,
   "metadata": {
    "collapsed": true
   },
   "outputs": [],
   "source": [
    "# Flag = True where Timepoint is >= 3 more than putative death day (day the weights are recorded up to) (internal check)\n",
    "new_lund_line$Flag_Death_Day = NA\n",
    "\n",
    "if(length(which(new_lund_line[,\"Timepoint\"] - new_lund_line[,\"putative_death_day\"]>=3 & is.na(new_lund_line[,\"Death_Euthanized\"]) & is.na(new_lund_line[,\"Death_FoundInCage\"]))) == 0){\n",
    "  new_lund_line$Flag_Death_Day = FALSE\n",
    "}else{\n",
    "  new_lund_line[which(new_lund_line[,\"Timepoint\"] - new_lund_line[,\"putative_death_day\"]>=3 & is.na(new_lund_line[,\"Death_Euthanized\"]) & is.na(new_lund_line[,\"Death_FoundInCage\"])),\"Flag_Death_Day\"] <- TRUE\n",
    "  \n",
    "  new_lund_line[-which(new_lund_line[,\"Timepoint\"] - new_lund_line[,\"putative_death_day\"]>=3 & is.na(new_lund_line[,\"Death_Euthanized\"]) & is.na(new_lund_line[,\"Death_FoundInCage\"])),\"Flag_Death_Day\"] <- FALSE\n",
    "}"
   ]
  },
  {
   "cell_type": "markdown",
   "metadata": {},
   "source": [
    "# 12. Add Flag_weight_date "
   ]
  },
  {
   "cell_type": "code",
   "execution_count": null,
   "metadata": {
    "collapsed": true
   },
   "outputs": [],
   "source": [
    "# Flag = True where death day > timepoint (internal check)\n",
    "new_lund_line$Death_Date_greater_timepoint = NA\n",
    "\n",
    "if(length(which(new_lund_line[,\"Death_Euthanized\"] > new_lund_line[,\"Timepoint\"] | new_lund_line[,\"Death_FoundInCage\"] > new_lund_line[,\"Timepoint\"] | new_lund_line[,\"Died_of_Virus\"] > new_lund_line[,\"Timepoint\"] | new_lund_line[,\"Died_from_Anesthesia\"] > new_lund_line[,\"Timepoint\"])) >0){\n",
    "  \n",
    "  new_lund_line[which(new_lund_line[,\"Death_Euthanized\"] > new_lund_line[,\"Timepoint\"] | new_lund_line[,\"Death_FoundInCage\"] > new_lund_line[,\"Timepoint\"] | new_lund_line[,\"Died_of_Virus\"] > new_lund_line[,\"Timepoint\"] | new_lund_line[,\"Died_from_Anesthesia\"] > new_lund_line[,\"Timepoint\"]),\"Death_Date_greater_timepoint\"] <- TRUE\n",
    "  \n",
    "  new_lund_line[-which(new_lund_line[,\"Death_Euthanized\"] > new_lund_line[,\"Timepoint\"] | new_lund_line[,\"Death_FoundInCage\"] > new_lund_line[,\"Timepoint\"] | new_lund_line[,\"Died_of_Virus\"] > new_lund_line[,\"Timepoint\"] | new_lund_line[,\"Died_from_Anesthesia\"] > new_lund_line[,\"Timepoint\"]),\"Death_Date_greater_timepoint\"] <- FALSE\n",
    "  \n",
    "}else{\n",
    "  new_lund_line$Death_Date_greater_timepoint = FALSE\n",
    "}"
   ]
  },
  {
   "cell_type": "markdown",
   "metadata": {},
   "source": [
    "# 13. Order columns according to the data dictionary"
   ]
  },
  {
   "cell_type": "code",
   "execution_count": null,
   "metadata": {
    "collapsed": true
   },
   "outputs": [],
   "source": [
    "# Read in data dictionary\n",
    "mycols <- rep(\"NULL\", 4)\n",
    "mycols[1] <- NA\n",
    "\n",
    "read.xls(xls=\"WNV_Data_Dictionary.xlsx\", sheet=\"Weight Data\", colClasses=mycols, stringsAsFactors=F) -> data_dict\n",
    "\n",
    "# internal cols\n",
    "internal_cols = c(\"putative_death_day\",\"Flag_Death_Day\", \"Death_Date_greater_timepoint\")\n",
    "internal_cols_v2 = which(names(new_lund_line) %in% internal_cols)\n",
    "\n",
    "# order columns by data dictionary and add internal column at the end\n",
    "new_lund_line[,c(as.vector(unlist(sapply(data_dict[,1],function(x)which(x==names(new_lund_line))))),internal_cols_v2)] -> new_lund_line_v2"
   ]
  },
  {
   "cell_type": "markdown",
   "metadata": {},
   "source": [
    "# 14. Annotate array_exists column"
   ]
  },
  {
   "cell_type": "code",
   "execution_count": null,
   "metadata": {
    "collapsed": true
   },
   "outputs": [],
   "source": [
    "\n",
    "read.table(file=\"all_expression_ids.txt\") -> exp_id\n",
    "\n",
    "new_lund_line_v2$array_exists = NA\n",
    "\n",
    "if(length(as.vector(unlist(sapply(as.character(exp_id[,1]),function(x)which(x==as.character(new_lund_line_v2[,1])))))) >0){\n",
    "  new_lund_line_v2[as.vector(unlist(sapply(as.character(exp_id[,1]),function(x)which(x==as.character(new_lund_line_v2[,1]))))),\"array_exists\"] <- \"Yes\"\n",
    "  \n",
    "  new_lund_line_v2[-as.vector(unlist(sapply(as.character(exp_id[,1]),function(x)which(x==as.character(new_lund_line_v2[,1]))))),\"array_exists\"] <- \"No\"\n",
    "}else{\n",
    "  new_lund_line_v2$array_exists = \"No\"\n",
    "}\n",
    "                                            \n",
    "# Lund: Remove beginning 0 in UW_Line\n",
    "new_lund_line_v2[which(substring(new_lund_line_v2[,\"UW_Line\"],1,1) == \"0\"),\"UW_Line\"] <- substring(new_lund_line_v2[which(substring(new_lund_line_v2[,\"UW_Line\"],1,1) == \"0\"),\"UW_Line\"],2,nchar(new_lund_line_v2[which(substring(new_lund_line_v2[,\"UW_Line\"],1,1) == \"0\"),\"UW_Line\"]))\n"
   ]
  },
  {
   "cell_type": "markdown",
   "metadata": {},
   "source": [
    "# 15. Make specific alterations listed in the Readme. "
   ]
  },
  {
   "cell_type": "code",
   "execution_count": null,
   "metadata": {
    "collapsed": true
   },
   "outputs": [],
   "source": [
    "# Most of these are already saved in the old versions of the data, which is updated in the next step.\n",
    "\n",
    "# Note if you change weights, need to also re-calculate weight percentages. Record these changes in Data_Altered and Notes column\n",
    "new_lund_line_v2[which(new_lund_line_v2[,\"UW_Line\"] == 61 & new_lund_line_v2[,\"Virus\"] == \"Mock\" & new_lund_line_v2[,\"Timepoint\"] == 28),\"Notes\"] <- \"Not receiving, line complete\"\n",
    "new_lund_line_v2[which(new_lund_line_v2[,\"UW_Line\"] == 89 & new_lund_line_v2[,\"Timepoint\"] > 12 & new_lund_line_v2[,\"Virus\"] == \"WNV\"),\"Notes\"] <- \"Jumpy, no weight\"\n",
    "new_lund_line_v2[which(new_lund_line_v2[,\"UW_Line\"] == 90 & new_lund_line_v2[,\"RIX_ID\"] ==76),\"Death_Euthanized\"] <- \"11\"\n",
    "new_lund_line_v2[which(new_lund_line_v2[,\"UW_Line\"] == 90 & new_lund_line_v2[,\"RIX_ID\"] ==76),\"Notes\"] <- \"Changed death euthanized to 11\"\n",
    "new_lund_line_v2[which(new_lund_line_v2[,\"UW_Line\"] == 90 & new_lund_line_v2[,\"RIX_ID\"] ==76),\"Data_Altered\"] <- \"Yes\"\n",
    "new_lund_line_v2[which(new_lund_line_v2[,\"UW_Line\"] == 90 & new_lund_line_v2[,\"RIX_ID\"] ==76),\"Death_Date\"] <- new_lund_line_v2[which(new_lund_line_v2[,\"UW_Line\"] == 90 & new_lund_line_v2[,\"RIX_ID\"] ==76),\"Date_Infected\"]+11\n",
    "new_lund_line_v2[which(new_lund_line_v2[,\"UW_Line\"] == 100 & (new_lund_line_v2[,\"RIX_ID\"] ==82 | new_lund_line_v2[,\"RIX_ID\"] ==83)),\"Death_Euthanized\"] <- c(10,9)\n",
    "new_lund_line_v2[which(new_lund_line_v2[,\"UW_Line\"] == 100 & (new_lund_line_v2[,\"RIX_ID\"] ==82 | new_lund_line_v2[,\"RIX_ID\"] ==83)),\"Data_Altered\"] <- \"Yes\"\n",
    "new_lund_line_v2[which(new_lund_line_v2[,\"UW_Line\"] == 100 & (new_lund_line_v2[,\"RIX_ID\"] ==82 | new_lund_line_v2[,\"RIX_ID\"] ==83)),\"Notes\"] <- \"Changed Death euthanized to one day less\"\n",
    "new_lund_line_v2[which(new_lund_line_v2[,\"UW_Line\"] == 100 & (new_lund_line_v2[,\"RIX_ID\"] ==82 | new_lund_line_v2[,\"RIX_ID\"] ==83)),\"Death_Date\"] <- new_lund_line_v2[which(new_lund_line_v2[,\"UW_Line\"] == 100 & (new_lund_line_v2[,\"RIX_ID\"] ==82 | new_lund_line_v2[,\"RIX_ID\"] ==83)),\"Date_Infected\"]+c(10,9)\n",
    "new_lund_line_v2[which(new_lund_line_v2[,\"UW_Line\"] == 102 & (new_lund_line_v2[,\"RIX_ID\"] ==62 | new_lund_line_v2[,\"RIX_ID\"] ==64)),\"D7\"] <- c(35.24,35.30)\n",
    "new_lund_line_v2[which(new_lund_line_v2[,\"UW_Line\"] == 102 & (new_lund_line_v2[,\"RIX_ID\"] ==62 | new_lund_line_v2[,\"RIX_ID\"] ==64)),\"Notes\"] <- \"changed 25.xx to 35.xx\"\n",
    "new_lund_line_v2[which(new_lund_line_v2[,\"UW_Line\"] == 102 & (new_lund_line_v2[,\"RIX_ID\"] ==62 | new_lund_line_v2[,\"RIX_ID\"] ==64)),\"Data_Altered\"] <- \"Yes\"\n",
    "\n",
    "# calculate percentages\n",
    "for(i in days[-1]){\n",
    "  print(i)\n",
    "  d2_p = sapply(1:dim(new_lund_line_v2)[1],function(x){\n",
    "    print(x)\n",
    "    (diff(c(new_lund_line_v2[x,\"D0\"], new_lund_line_v2[x,i]))/new_lund_line_v2[x,\"D0\"])*100\n",
    "  })\n",
    "  \n",
    "  new_lund_line_v2[,paste0(i,\"_Percentage\")] <- d2_p\n",
    "}"
   ]
  },
  {
   "cell_type": "markdown",
   "metadata": {},
   "source": [
    "# 16. Update Data: Add flags_checked column"
   ]
  },
  {
   "cell_type": "code",
   "execution_count": null,
   "metadata": {
    "collapsed": true
   },
   "outputs": [],
   "source": [
    "# Gale: Cumulative data, make sure old lines are the same. Set flag for old ID's that they have already been verified\n",
    "# Lund: Need to read in old data and update any overlapping lines and add the new lines. Set flag for old ID's that have already been verified\n",
    "# read in full data\n",
    "read.xls(xls=\"Lund_Weight_22-Mar-2016_final.xlsx\", sheet=1, stringsAsFactors=F) -> lund_weight_full\n",
    "\n",
    "# remove any lines from full that are in updated data\n",
    "remove_lines = intersect(new_lund_line_v2[,\"UW_Line\"], lund_weight_full[,\"UW_Line\"])\n",
    "\n",
    "# update line 45\n",
    "length(remove_lines) == 0\n",
    "\n",
    "lund_weight_full[-which(lund_weight_full[,\"UW_Line\"] == 45),] -> lund_weight_full\n",
    "\n",
    "lund_weight_full$flags_checked = TRUE\n",
    "\n",
    "new_lund_line_v2$flags_checked = FALSE\n",
    "\n",
    "# clean date format\n",
    "lund_weight_full[,\"Death_Date\"] <- as.character(lund_weight_full[,\"Death_Date\"])\n",
    "lund_weight_full[,\"Date_Infected\"] <- as.Date(lund_weight_full[,\"Date_Infected\"],format=\"%Y-%m-%d\")\n",
    "\n",
    "new_lund_line_v2[,\"Death_Date\"] <- as.character(new_lund_line_v2[,\"Death_Date\"])\n",
    "new_lund_line_v2[,\"Date_Infected\"] <- as.Date(as.character(new_lund_line_v2[,\"Date_Infected\"]),format=\"%Y-%m-%d\")\n",
    "\n",
    "# Merge new data and old data\n",
    "merge(lund_weight_full, new_lund_line_v2, by=intersect(names(new_lund_line_v2),names(lund_weight_full)), all=T) -> lund_weight_full_v2\n",
    "\n",
    "# update flags checked\n",
    "lund_weight_full_v2[which(lund_weight_full_v2[,\"Data_Altered\"] == \"Yes\"),\"flags_checked\"] <- TRUE\n",
    "lund_weight_full_v2[which(lund_weight_full_v2[,\"Notes\"] == \"Not receiving, line complete\"),\"flags_checked\"] <- TRUE\n",
    "lund_weight_full_v2[which(lund_weight_full_v2[,\"flags_checked\"]),c(\"putative_death_day\")] <- lund_weight_full_v2[which(lund_weight_full_v2[,\"flags_checked\"]),c(\"Timepoint\")]\n",
    "lund_weight_full_v2[which(lund_weight_full_v2[,\"flags_checked\"]),c(\"Flag_Death_Day\")] <- FALSE\n",
    "lund_weight_full_v2[which(lund_weight_full_v2[,\"flags_checked\"]),c(\"Death_Date_greater_timepoint\")] <- FALSE\n",
    "\n",
    "# Save cleaned file\n",
    "write.table(file=\"./Lund_Weight_cleaned.txt\", x=lund_weight_full_v2, sep=\"\\t\", quote=F, row.names=F, na=\"\")"
   ]
  }
 ],
 "metadata": {
  "kernelspec": {
   "display_name": "R",
   "language": "R",
   "name": "ir"
  },
  "language_info": {
   "codemirror_mode": "r",
   "file_extension": ".r",
   "mimetype": "text/x-r-source",
   "name": "R",
   "pygments_lexer": "r",
   "version": "3.2.2"
  }
 },
 "nbformat": 4,
 "nbformat_minor": 0
}
