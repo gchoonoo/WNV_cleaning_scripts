{
 "cells": [
  {
   "cell_type": "markdown",
   "metadata": {},
   "source": [
    "# Systems Immunogenetics Project\n",
    "\n",
    "## WNV Cleaning Steps\n",
    "\n",
    "### McWeeney Lab, Oregon Health & Science University\n",
    "\n",
    "** Authors: Gabrielle Choonoo (choonoo@ohsu.edu) and Michael Mooney (mooneymi@ohsu.edu) **\n",
    "\n",
    "## Introduction\n",
    "\n",
    "This is the step-by-step process for cleaning the WNV data for qPCR data (ByLine and ByMouse).\n",
    "\n",
    "Required Files:\n",
    "* WNV Data: qPCR ByLine and ByMouse\n",
    "* WNV Data Dictionary\n",
    "* This notebook (qPCR.ipynb): [[Download here]](https://raw.githubusercontent.com/gchoonoo/WNV_cleaning_scripts/master/Clinical_Score.ipynb)\n",
    "\n",
    "Required R packages:\n",
    "- `gdata`\n",
    "- `RColorBrewer`\n",
    "\n",
    "**Note: this notebook can also be downloaded as an R script (only the code blocks seen below will be included): [[Download R script here]](https://raw.githubusercontent.com/gchoonoo/WNV_cleaning_scripts/master/clean_score.r)\n",
    "\n",
    "** All code is available on GitHub: [https://github.com/gchoonoo/WNV_cleaning_scripts](https://github.com/gchoonoo/WNV_cleaning_scripts) **"
   ]
  },
  {
   "cell_type": "markdown",
   "metadata": {},
   "source": [
    "# Read in data"
   ]
  },
  {
   "cell_type": "code",
   "execution_count": 1,
   "metadata": {
    "collapsed": false
   },
   "outputs": [
    {
     "name": "stderr",
     "output_type": "stream",
     "text": [
      "gdata: read.xls support for 'XLS' (Excel 97-2004) files ENABLED.\n",
      "\n",
      "gdata: read.xls support for 'XLSX' (Excel 2007+) files ENABLED.\n",
      "\n",
      "Attaching package: ‘gdata’\n",
      "\n",
      "The following object is masked from ‘package:stats’:\n",
      "\n",
      "    nobs\n",
      "\n",
      "The following object is masked from ‘package:utils’:\n",
      "\n",
      "    object.size\n",
      "\n"
     ]
    },
    {
     "data": {
      "text/html": [
       "0"
      ],
      "text/latex": [
       "0"
      ],
      "text/markdown": [
       "0"
      ],
      "text/plain": [
       "[1] 0"
      ]
     },
     "execution_count": 1,
     "metadata": {},
     "output_type": "execute_result"
    },
    {
     "name": "stdout",
     "output_type": "stream",
     "text": [
      "[1] \"All lines have unique mating\"\n"
     ]
    }
   ],
   "source": [
    "library(gdata)\n",
    "library(RColorBrewer)\n",
    "\n",
    "# clean NA function\n",
    "clean_na = function(data_set){\n",
    "  \n",
    "  for (i in 1:dim(data_set)[2]){\n",
    "    #print(i)    \n",
    "    if(sum(na.omit(data_set[,i] == \"\")) > 0){\n",
    "      data_set[which(data_set[,i] == \"\"),i] <- NA\n",
    "    }\n",
    "    \n",
    "  }\n",
    "  return(data_set)\n",
    "}\n",
    "\n",
    "# Read in data (byLine)\n",
    "read.xls(xls=\"./qpcr/Gale_qPCR_byLine_1_14_16.xlsx\", sheet=1) -> qpcr_data\n",
    "\n",
    "# Check if any duplicates\n",
    "sum(duplicated(qpcr_data))\n",
    "\n",
    "# Check if lines have unique mating, note if clean mating, need to remove duplicates\n",
    "if(length(unique(qpcr_data[,\"UW_Line\"])[sapply(1:length(unique(qpcr_data[,\"UW_Line\"])), function(xx)length(unique(qpcr_data[as.vector(unlist(sapply(unique(qpcr_data[,\"UW_Line\"])[xx],function(x)which(x==qpcr_data[,\"UW_Line\"])))),\"Mating\"]))) > 1])==0){\n",
    "  print(\"All lines have unique mating\")\n",
    "}else{\n",
    "  print(c(\"Check line\", unique(qpcr_data[,\"UW_Line\"])[sapply(1:length(unique(qpcr_data[,\"UW_Line\"])), function(xx)length(unique(qpcr_data[as.vector(unlist(sapply(unique(qpcr_data[,\"UW_Line\"])[xx],function(x)which(x==qpcr_data[,\"UW_Line\"])))),\"Mating\"]))) > 1]))\n",
    "}"
   ]
  },
  {
   "cell_type": "markdown",
   "metadata": {},
   "source": [
    "# 1. Add Data_Altered and Notes columns"
   ]
  },
  {
   "cell_type": "code",
   "execution_count": 2,
   "metadata": {
    "collapsed": true
   },
   "outputs": [],
   "source": [
    "qpcr_data$Data_Altered = NA\n",
    "qpcr_data$Notes = NA"
   ]
  },
  {
   "cell_type": "markdown",
   "metadata": {},
   "source": [
    "# 2. Add Virus column from timepoints"
   ]
  },
  {
   "cell_type": "code",
   "execution_count": 3,
   "metadata": {
    "collapsed": true
   },
   "outputs": [],
   "source": [
    "qpcr_data$Virus = NA\n",
    "qpcr_data[grep(\"M\",qpcr_data[,\"Timepoint\"]),\"Virus\"] <- \"Mock\"\n",
    "qpcr_data[-grep(\"M\",qpcr_data[,\"Timepoint\"]),\"Virus\"] <- \"WNV\""
   ]
  },
  {
   "cell_type": "markdown",
   "metadata": {},
   "source": [
    "# 3. Remove 'M' from Time points and convert to numeric values"
   ]
  },
  {
   "cell_type": "code",
   "execution_count": 4,
   "metadata": {
    "collapsed": false
   },
   "outputs": [
    {
     "data": {
      "text/html": [
       "TRUE"
      ],
      "text/latex": [
       "TRUE"
      ],
      "text/markdown": [
       "TRUE"
      ],
      "text/plain": [
       "[1] TRUE"
      ]
     },
     "execution_count": 4,
     "metadata": {},
     "output_type": "execute_result"
    }
   ],
   "source": [
    "qpcr_data[,\"Timepoint\"] <- as.numeric(as.character(gsub(\"M\",\"\",qpcr_data[,\"Timepoint\"])))\n",
    "\n",
    "# Check experiment name\n",
    "sum(names(summary(qpcr_data[,\"Experiment\"])) == c(\"IFIT1\",\"IFITM1\", \"IFNb1\", \"IL12b\", \"WNV\")) == 5"
   ]
  },
  {
   "cell_type": "markdown",
   "metadata": {},
   "source": [
    "# 4. Add Group column: UW Line, Timepoint, Virus, Tissue, Experiment separated by \"_\""
   ]
  },
  {
   "cell_type": "code",
   "execution_count": 5,
   "metadata": {
    "collapsed": true
   },
   "outputs": [],
   "source": [
    "qpcr_data$Group <- paste(qpcr_data[,\"UW_Line\"],qpcr_data[,\"Timepoint\"],qpcr_data[,\"Virus\"],qpcr_data[,\"Tissue\"],qpcr_data[,\"Experiment\"], sep=\"_\")"
   ]
  },
  {
   "cell_type": "markdown",
   "metadata": {},
   "source": [
    "# 5. Add Lab column"
   ]
  },
  {
   "cell_type": "code",
   "execution_count": 6,
   "metadata": {
    "collapsed": true
   },
   "outputs": [],
   "source": [
    "qpcr_data$Lab = \"Gale\""
   ]
  },
  {
   "cell_type": "markdown",
   "metadata": {},
   "source": [
    "# 6. Process ByMouse Data File"
   ]
  },
  {
   "cell_type": "code",
   "execution_count": 9,
   "metadata": {
    "collapsed": false
   },
   "outputs": [
    {
     "data": {
      "text/html": [
       "0"
      ],
      "text/latex": [
       "0"
      ],
      "text/markdown": [
       "0"
      ],
      "text/plain": [
       "[1] 0"
      ]
     },
     "execution_count": 9,
     "metadata": {},
     "output_type": "execute_result"
    }
   ],
   "source": [
    "# read in by mouse file\n",
    "read.xls(xls=\"./qpcr/Gale_qPCR_byMouse_1_14_16.xlsx\", sheet=1) -> qpcr_data_mouse\n",
    "\n",
    "# check if any CT < 15, none in this case\n",
    "length(which(qpcr_data_mouse[,\"Ct\"] < 15))"
   ]
  },
  {
   "cell_type": "markdown",
   "metadata": {},
   "source": [
    "* a. Remove 'M' from Time points and convert to numeric values"
   ]
  },
  {
   "cell_type": "code",
   "execution_count": 10,
   "metadata": {
    "collapsed": true
   },
   "outputs": [],
   "source": [
    "qpcr_data_mouse[,\"Timepoint\"] <- as.numeric(as.character(gsub(\"M\",\"\",qpcr_data_mouse[,\"Timepoint\"])))"
   ]
  },
  {
   "cell_type": "markdown",
   "metadata": {},
   "source": [
    "* b. Change \"Condition\" column name to \"Virus\""
   ]
  },
  {
   "cell_type": "code",
   "execution_count": 11,
   "metadata": {
    "collapsed": false
   },
   "outputs": [
    {
     "data": {
      "text/html": [
       "TRUE"
      ],
      "text/latex": [
       "TRUE"
      ],
      "text/markdown": [
       "TRUE"
      ],
      "text/plain": [
       "[1] TRUE"
      ]
     },
     "execution_count": 11,
     "metadata": {},
     "output_type": "execute_result"
    },
    {
     "name": "stdout",
     "output_type": "stream",
     "text": [
      "[1] \"All lines have unique mating\"\n"
     ]
    }
   ],
   "source": [
    "names(qpcr_data_mouse)[which(names(qpcr_data_mouse) == \"Condition\")] <- \"Virus\"\n",
    "\n",
    "# check experiment names\n",
    "sum(names(summary(qpcr_data_mouse[,\"Experiment\"])) == c(\"IFIT1\",\"IFITM1\", \"IFNb1\", \"IL12b\", \"WNV\")) == 5\n",
    "\n",
    "# check if any lines have 2 different matings, none in this case\n",
    "if(length(unique(qpcr_data_mouse[,\"UW_Line\"])[sapply(1:length(unique(qpcr_data_mouse[,\"UW_Line\"])), function(xx)length(unique(qpcr_data_mouse[as.vector(unlist(sapply(unique(qpcr_data_mouse[,\"UW_Line\"])[xx],function(x)which(x==qpcr_data_mouse[,\"UW_Line\"])))),\"Mating\"]))) > 1])==0){\n",
    "  print(\"All lines have unique mating\")\n",
    "}else{\n",
    "  print(c(\"Check line\", unique(qpcr_data_mouse[,\"UW_Line\"])[sapply(1:length(unique(qpcr_data_mouse[,\"UW_Line\"])), function(xx)length(unique(qpcr_data_mouse[as.vector(unlist(sapply(unique(qpcr_data_mouse[,\"UW_Line\"])[xx],function(x)which(x==qpcr_data_mouse[,\"UW_Line\"])))),\"Mating\"]))) > 1]))\n",
    "}"
   ]
  },
  {
   "cell_type": "markdown",
   "metadata": {},
   "source": [
    "* c. Add Group: UW Line, Timepoint, Virus, Tissue, Experiment separated by \"_\""
   ]
  },
  {
   "cell_type": "code",
   "execution_count": 12,
   "metadata": {
    "collapsed": true
   },
   "outputs": [],
   "source": [
    "qpcr_data_mouse$Group <- paste(qpcr_data_mouse[,\"UW_Line\"],qpcr_data_mouse[,\"Timepoint\"], qpcr_data_mouse[,\"Virus\"],qpcr_data_mouse[,\"Tissue\"],qpcr_data_mouse[,\"Experiment\"], sep=\"_\")"
   ]
  },
  {
   "cell_type": "markdown",
   "metadata": {},
   "source": [
    "* d. Add Data_Altered and Notes columns"
   ]
  },
  {
   "cell_type": "code",
   "execution_count": 13,
   "metadata": {
    "collapsed": true
   },
   "outputs": [],
   "source": [
    "qpcr_data_mouse$Data_Altered = NA\n",
    "qpcr_data_mouse$Notes = NA\n",
    "qpcr_data_mouse$Lab = \"Gale\""
   ]
  },
  {
   "cell_type": "markdown",
   "metadata": {},
   "source": [
    "* e. Calculate dct mean, N, dct sd, baseline.dct, ddct mean, fc mean and check these are correct in the ByLine Data File"
   ]
  },
  {
   "cell_type": "code",
   "execution_count": 14,
   "metadata": {
    "collapsed": false
   },
   "outputs": [
    {
     "name": "stdout",
     "output_type": "stream",
     "text": [
      "[1] \"All dct mean correct\"\n",
      "[1] \"All N correct\"\n",
      "[1] \"All dct sd correct\"\n",
      "[1] \"All baseline dct correct\"\n",
      "[1] \"All dct mean correct\"\n",
      "[1] \"All fc mean correct\"\n"
     ]
    }
   ],
   "source": [
    "# dct mean\n",
    "dct_mean = aggregate(formula=qpcr_data_mouse[,\"dCt\"]~qpcr_data_mouse[,\"Group\"], data=qpcr_data_mouse, FUN=mean)\n",
    "names(dct_mean) <- c(\"Group\",\"dCt.mean.V2\")\n",
    "dct_mean[order(dct_mean[,1]),] -> dct_mean_order\n",
    "\n",
    "byline_dct_mean = unique(qpcr_data[,c(\"Group\",\"dCt.mean\")])\n",
    "byline_dct_mean[order(byline_dct_mean[,1]),] -> byline_dct_mean_order\n",
    "\n",
    "check_dct_mean = sapply(1:dim(dct_mean_order)[1],function(x)isTRUE(all.equal(dct_mean_order[x,2],byline_dct_mean_order[x,2])))\n",
    "\n",
    "if(sum(check_dct_mean) == nrow(dct_mean_order)){\n",
    "  print(\"All dct mean correct\")\n",
    "}else{\n",
    "  print(\"Need to clean dct mean\")\n",
    "}\n",
    "\n",
    "# check n\n",
    "data.frame(summary(as.factor(qpcr_data_mouse[,\"Group\"]),maxsum=8000)) -> bymouse_n\n",
    "names(bymouse_n) <- c(\"N\")\n",
    "\n",
    "bymouse_n[,2] <- row.names(bymouse_n)\n",
    "names(bymouse_n)[2] <- \"Group\"\n",
    "\n",
    "bymouse_n[order(bymouse_n[,\"Group\"]),] -> bymouse_n_v2\n",
    "\n",
    "qpcr_data[,c(\"Group\",\"N\")] -> byline_n\n",
    "byline_n[order(byline_n[,\"Group\"]),] -> byline_n_v2\n",
    "\n",
    "if(sum(bymouse_n_v2[,1] == byline_n_v2[,2]) == nrow(bymouse_n_v2)){\n",
    "  print(\"All N correct\")\n",
    "}else{\n",
    "  print(\"Need to clean N\")\n",
    "}\n",
    "\n",
    "# check dct sd\n",
    "dct_sd = aggregate(formula=qpcr_data_mouse[,\"dCt\"]~qpcr_data_mouse[,\"Group\"], data=qpcr_data_mouse, FUN=sd)\n",
    "names(dct_sd) <- c(\"Group\",\"dCt.sd.V2\")\n",
    "dct_sd[order(dct_sd[,1]),] -> dct_sd_order\n",
    "\n",
    "byline_dct_sd = qpcr_data[,c(\"Group\",\"dCt.sd\")]\n",
    "byline_dct_sd[order(byline_dct_sd[,1]),] -> byline_dct_sd_order\n",
    "\n",
    "check_dct_sd = sapply(1:dim(dct_sd_order)[1],function(x)isTRUE(all.equal(dct_sd_order[x,2],byline_dct_sd_order[x,2])))\n",
    "\n",
    "if(sum(check_dct_sd) == nrow(dct_sd_order)){\n",
    "  print(\"All dct sd correct\")\n",
    "}else{\n",
    "  print(\"Need to clean dct sd\")\n",
    "}\n",
    "\n",
    "# check baseline. dct\n",
    "\n",
    "# add group g to annotate baseline\n",
    "qpcr_data$Group_g <- paste(qpcr_data[,\"UW_Line\"],qpcr_data[,\"Tissue\"], qpcr_data[,\"Experiment\"],sep=\"_\")\n",
    "\n",
    "qpcr_data$baseline.dCt.V2 = NA\n",
    "\n",
    "# calculate baseline, baseline is 12 for this data\n",
    "baseline = 12\n",
    "\n",
    "for(i in unique(qpcr_data[,\"Group_g\"])){\n",
    "  qpcr_data[which(qpcr_data[,\"Group_g\"] == i),\"baseline.dCt.V2\"] <- qpcr_data[which(qpcr_data[,\"Group_g\"] == i & qpcr_data[,\"Virus\"] == \"Mock\" & qpcr_data[,\"Timepoint\"] == baseline),\"dCt.mean\"]\n",
    "}\n",
    "\n",
    "# check all baseline correct\n",
    "if(sum(qpcr_data[,\"baseline.dCt\"] == qpcr_data[,\"baseline.dCt.V2\"]) == nrow(qpcr_data)){\n",
    "  print(\"All baseline dct correct\")\n",
    "}else{\n",
    "  print(\"Need to clean baseline dct\")\n",
    "}\n",
    "\n",
    "# calculate ddct mean to check \n",
    "qpcr_data$ddCt.mean.V2 <- as.numeric(as.character(qpcr_data[,\"dCt.mean\"])) - as.numeric(as.character(qpcr_data[,\"baseline.dCt\"]))\n",
    "\n",
    "check_ddct_mean = sapply(1:dim(qpcr_data)[1],function(x)isTRUE(all.equal(qpcr_data[x,\"ddCt.mean\"], qpcr_data[x,\"ddCt.mean.V2\"], tolerance=5.5e-8)))\n",
    "\n",
    "# all ddct mean correct\n",
    "if(sum(check_ddct_mean) == dim(qpcr_data)[1]){\n",
    "  print(\"All dct mean correct\")\n",
    "}else{\n",
    "  print(\"Need to clean dct mean\")\n",
    "}\n",
    "\n",
    "# check fc mean correct\n",
    "qpcr_data$fc.mean.V2 <- 2^-qpcr_data[,\"ddCt.mean\"]\n",
    "\n",
    "check_fc_mean = sapply(1:dim(qpcr_data)[1],function(x)isTRUE(all.equal(qpcr_data[x,\"fc.mean\"], qpcr_data[x,\"fc.mean.V2\"])))\n",
    "\n",
    "if(sum(check_fc_mean) == dim(qpcr_data)[1]){\n",
    "  print(\"All fc mean correct\")\n",
    "}else{\n",
    "  print(\"Need to clean fc mean\")\n",
    "}\n"
   ]
  },
  {
   "cell_type": "markdown",
   "metadata": {},
   "source": [
    "# 7. Remove ddCt.sd and fc.sd columns"
   ]
  },
  {
   "cell_type": "code",
   "execution_count": 15,
   "metadata": {
    "collapsed": true
   },
   "outputs": [],
   "source": [
    "# take out V2's if calculated correctly, and ddct.sd, fc.sd since not using\n",
    "remove_cols = c(\"ddCt.sd\", \"fc.sd\", \"baseline.dCt.V2\", \"ddCt.mean.V2\", \"fc.mean.V2\")\n",
    "\n",
    "qpcr_data[,-as.vector(unlist(sapply(remove_cols,function(x)which(x==names(qpcr_data)))))] -> qpcr_data_v2"
   ]
  },
  {
   "cell_type": "markdown",
   "metadata": {},
   "source": [
    "# 8. Add baseline.dCt.sd column (this is the dCt.sd value for the baseline animal)"
   ]
  },
  {
   "cell_type": "code",
   "execution_count": 16,
   "metadata": {
    "collapsed": true
   },
   "outputs": [],
   "source": [
    "qpcr_data_v2$baseline.dCt.sd = NA\n",
    "\n",
    "# compute baseline sd, use baseline = 12 saved above\n",
    "for(i in unique(qpcr_data_v2[,\"Group_g\"])){\n",
    "  qpcr_data_v2[which(qpcr_data_v2[,\"Group_g\"] == i),\"baseline.dCt.sd\"] <- qpcr_data_v2[which(qpcr_data_v2[,\"Group_g\"] == i & qpcr_data_v2[,\"Virus\"] == \"Mock\" & qpcr_data_v2[,\"Timepoint\"] == baseline),\"dCt.sd\"]\n",
    "}"
   ]
  },
  {
   "cell_type": "markdown",
   "metadata": {},
   "source": [
    "# 9. Add ddCt.se = sqrt(dCt.sd^2/N1 + baseline.dCt.sd^2/N2)"
   ]
  },
  {
   "cell_type": "code",
   "execution_count": 19,
   "metadata": {
    "collapsed": false
   },
   "outputs": [
    {
     "data": {
      "text/html": [
       "TRUE"
      ],
      "text/latex": [
       "TRUE"
      ],
      "text/markdown": [
       "TRUE"
      ],
      "text/plain": [
       "[1] TRUE"
      ]
     },
     "execution_count": 19,
     "metadata": {},
     "output_type": "execute_result"
    },
    {
     "data": {
      "text/html": [
       "TRUE"
      ],
      "text/latex": [
       "TRUE"
      ],
      "text/markdown": [
       "TRUE"
      ],
      "text/plain": [
       "[1] TRUE"
      ]
     },
     "execution_count": 19,
     "metadata": {},
     "output_type": "execute_result"
    },
    {
     "data": {
      "text/html": [
       "TRUE"
      ],
      "text/latex": [
       "TRUE"
      ],
      "text/markdown": [
       "TRUE"
      ],
      "text/plain": [
       "[1] TRUE"
      ]
     },
     "execution_count": 19,
     "metadata": {},
     "output_type": "execute_result"
    },
    {
     "data": {
      "text/html": [
       "TRUE"
      ],
      "text/latex": [
       "TRUE"
      ],
      "text/markdown": [
       "TRUE"
      ],
      "text/plain": [
       "[1] TRUE"
      ]
     },
     "execution_count": 19,
     "metadata": {},
     "output_type": "execute_result"
    },
    {
     "data": {
      "text/html": [
       "TRUE"
      ],
      "text/latex": [
       "TRUE"
      ],
      "text/markdown": [
       "TRUE"
      ],
      "text/plain": [
       "[1] TRUE"
      ]
     },
     "execution_count": 19,
     "metadata": {},
     "output_type": "execute_result"
    },
    {
     "data": {
      "text/html": [
       "TRUE"
      ],
      "text/latex": [
       "TRUE"
      ],
      "text/markdown": [
       "TRUE"
      ],
      "text/plain": [
       "[1] TRUE"
      ]
     },
     "execution_count": 19,
     "metadata": {},
     "output_type": "execute_result"
    }
   ],
   "source": [
    "ddCt.se = sapply(1:dim(qpcr_data_v2)[1],function(x){\n",
    "  sqrt(\n",
    "    (qpcr_data_v2[x,\"dCt.sd\"]^2/qpcr_data_v2[x,\"N\"])+                                                                  (qpcr_data_v2[x,\"baseline.dCt.sd\"]^2/qpcr_data_v2[which(qpcr_data_v2[,\"Group_g\"] == qpcr_data_v2[x,\"Group_g\"] & qpcr_data_v2[,\"Virus\"] == \"Mock\" & qpcr_data_v2[,\"Timepoint\"] == baseline),\"N\"])\n",
    "  )\n",
    "})\n",
    "\n",
    "qpcr_data_v2$ddCt.se <- ddCt.se\n",
    "\n",
    "# order by group\n",
    "qpcr_data_v2[order(qpcr_data_v2[,\"Group\"]),] -> qpcr_data_v3_final\n",
    "\n",
    "# double check all calculations are correct\n",
    "\n",
    "# dct mean\n",
    "isTRUE(all.equal(dct_mean[,2],qpcr_data_v3_final[,\"dCt.mean\"]))\n",
    "\n",
    "# N\n",
    "isTRUE(all.equal(bymouse_n[,\"N\"],qpcr_data_v3_final[,\"N\"]))\n",
    "\n",
    "# dct sd\n",
    "isTRUE(all.equal(dct_sd[,2],qpcr_data_v3_final[,\"dCt.sd\"]))\n",
    "\n",
    "# baseline\n",
    "isTRUE(all.equal(qpcr_data[order(qpcr_data[,\"Group\"]),\"baseline.dCt.V2\"],qpcr_data_v3_final[,\"baseline.dCt\"]))\n",
    "\n",
    "# ddctmean\n",
    "isTRUE(all.equal(qpcr_data[order(qpcr_data[,\"Group\"]),\"ddCt.mean.V2\"],qpcr_data_v3_final[,\"ddCt.mean\"]))\n",
    "\n",
    "# fc mean\n",
    "isTRUE(all.equal(qpcr_data[order(qpcr_data[,\"Group\"]),\"fc.mean.V2\"],qpcr_data_v3_final[,\"fc.mean\"]))\n",
    "\n",
    "# baseline sd, computed using corrected dct sd's at timepoint 12\n",
    "\n",
    "# ddct se, computed using correct dct sd and baseline sd\n",
    "\n",
    "# remove group g\n",
    "qpcr_data_v3_final[,!(names(qpcr_data_v3_final) %in% \"Group_g\")] -> qpcr_data_final_format\n"
   ]
  },
  {
   "cell_type": "markdown",
   "metadata": {},
   "source": [
    "# 10. Order columns according to the data dictionary"
   ]
  },
  {
   "cell_type": "code",
   "execution_count": 20,
   "metadata": {
    "collapsed": false
   },
   "outputs": [
    {
     "data": {
      "text/html": [
       "<ol class=list-inline>\n",
       "\t<li>TRUE</li>\n",
       "\t<li>TRUE</li>\n",
       "\t<li>TRUE</li>\n",
       "\t<li>TRUE</li>\n",
       "\t<li>TRUE</li>\n",
       "\t<li>TRUE</li>\n",
       "</ol>\n"
      ],
      "text/latex": [
       "\\begin{enumerate*}\n",
       "\\item TRUE\n",
       "\\item TRUE\n",
       "\\item TRUE\n",
       "\\item TRUE\n",
       "\\item TRUE\n",
       "\\item TRUE\n",
       "\\end{enumerate*}\n"
      ],
      "text/markdown": [
       "1. TRUE\n",
       "2. TRUE\n",
       "3. TRUE\n",
       "4. TRUE\n",
       "5. TRUE\n",
       "6. TRUE\n",
       "\n",
       "\n"
      ],
      "text/plain": [
       "[1] TRUE TRUE TRUE TRUE TRUE TRUE"
      ]
     },
     "execution_count": 20,
     "metadata": {},
     "output_type": "execute_result"
    }
   ],
   "source": [
    "# read in first column of qpcr by line\n",
    "mycols <- rep(\"NULL\", 4)\n",
    "mycols[1] <- NA\n",
    "\n",
    "read.xls(xls=\"WNV_Data_Dictionary.xlsx\", sheet=\"qPCR Data - By Line\", colClasses=mycols) -> data_dict\n",
    "\n",
    "qpcr_data_final_format[,as.vector(unlist(sapply(data_dict[,1],function(x)which(x==names(qpcr_data_final_format)))))] -> qpcr_data_final_format_order\n",
    "\n",
    "# read in first column of qpcr by mouse\n",
    "mycols <- rep(\"NULL\", 4)\n",
    "mycols[1] <- NA\n",
    "\n",
    "read.xls(xls=\"WNV_Data_Dictionary.xlsx\", sheet=\"qPCR Data - By Mouse\", colClasses=mycols) -> data_dict_mouse\n",
    "\n",
    "qpcr_data_mouse[,as.vector(unlist(sapply(data_dict_mouse[,1],function(x)which(x==names(qpcr_data_mouse)))))] -> qpcr_data_mouse_order\n",
    "\n",
    "# check both byline and bymouse have the same UW lines\n",
    "names(summary(as.factor(qpcr_data_mouse_order[,\"UW_Line\"]))) == names(summary(as.factor(qpcr_data_final_format_order[,\"UW_Line\"])))"
   ]
  },
  {
   "cell_type": "markdown",
   "metadata": {},
   "source": [
    "# 11. Update Data"
   ]
  },
  {
   "cell_type": "code",
   "execution_count": 21,
   "metadata": {
    "collapsed": true
   },
   "outputs": [],
   "source": [
    "# Read in previous version of byline data\n",
    "read.xls(xls=\"./Gale_qPCR_byLine_23-Mar-2016_final.xlsx\", sheet=1) -> qpcr_line\n",
    "\n",
    "# combine old and new data\n",
    "rbind(qpcr_line, qpcr_data_final_format_order) -> qpcr_byline_updated\n",
    "\n",
    "# clean NA\n",
    "clean_na(qpcr_byline_updated) -> qpcr_byline_updated_cleaned\n",
    "\n",
    "# Remove duplicates\n",
    "if(sum(duplicated(qpcr_byline_updated_cleaned)) != 0){\n",
    "  qpcr_byline_updated_cleaned[!duplicated(qpcr_byline_updated_cleaned),] -> qpcr_byline_updated_cleaned\n",
    "}\n",
    "\n",
    "# Read in previous version of bymouse data\n",
    "read.xls(xls=\"./Gale_qPCR_byMouse_23-Mar-2016_final.xlsx\", sheet=1) -> qpcr_bymouse\n",
    "\n",
    "# combine old and new data\n",
    "rbind(qpcr_bymouse, qpcr_data_mouse_order) -> qpcr_bymouse_updated\n",
    "\n",
    "# clean NA\n",
    "clean_na(qpcr_bymouse_updated) -> qpcr_bymouse_updated_cleaned\n",
    "\n",
    "# Remove duplicates\n",
    "if(sum(duplicated(qpcr_bymouse_updated_cleaned)) != 0){\n",
    "  qpcr_byline_updated_cleaned[!duplicated(qpcr_bymouse_updated_cleaned),] -> qpcr_bymouse_updated_cleaned\n",
    "}"
   ]
  },
  {
   "cell_type": "markdown",
   "metadata": {},
   "source": [
    "# 9. Make specific alterations listed in the Readme. "
   ]
  },
  {
   "cell_type": "markdown",
   "metadata": {},
   "source": [
    "# Example plot"
   ]
  },
  {
   "cell_type": "code",
   "execution_count": 22,
   "metadata": {
    "collapsed": false
   },
   "outputs": [
    {
     "data": {
      "image/png": "[encoded data removed]",
      "text/plain": [
       "Plot with title “UW Line 10 - Brain”"
      ]
     },
     "metadata": {
      "image/svg+xml": {
       "isolated": true
      }
     },
     "output_type": "display_data"
    }
   ],
   "source": [
    "# Error bar function\n",
    "error.bar = function(x, y, upper, lower=upper, arrow.length=0.05, ...) {\n",
    "  if(length(x) != length(y) | length(y) !=length(lower) | length(lower) != length(upper)) {\n",
    "    print('x')\n",
    "    print(length(x))\n",
    "    print('y')\n",
    "    print(length(y))\n",
    "    print('upper')\n",
    "    print(length(upper))\n",
    "    stop(\"vectors must be same length\")\n",
    "  }\n",
    "  arrows(x, y+upper, x, y-lower, angle=90, code=3, length=arrow.length, ...)\n",
    "}\n",
    "\n",
    "# Format data for plotting\n",
    "qpcr_barplot_data = function(qpcr_byline_updated_cleaned, baseline=12, line, tissue, line_colors=NULL) {\n",
    "  tp = as.character(sort(as.numeric(unique(qpcr_byline_updated_cleaned$Timepoint[qpcr_byline_updated_cleaned$UW_Line==line & tolower(qpcr_byline_updated_cleaned$Tissue)==tolower(tissue) & qpcr_byline_updated_cleaned$Virus=='WNV']))))\n",
    "  if (length(tp) == 0) {\n",
    "    return(NULL)\n",
    "  }\n",
    "  mock_tp = as.character(sort(as.numeric(unique(qpcr_byline_updated_cleaned$Timepoint[qpcr_byline_updated_cleaned$UW_Line==line & tolower(qpcr_byline_updated_cleaned$Tissue)==tolower(tissue) & qpcr_byline_updated_cleaned$Virus=='Mock']))))\n",
    "  mock_tp = mock_tp[!mock_tp %in% baseline]\n",
    "  \n",
    "  exp_names = sort(tolower(unique(qpcr_byline_updated_cleaned$Experiment[qpcr_byline_updated_cleaned$UW_Line==line & tolower(qpcr_byline_updated_cleaned$Tissue)==tolower(tissue) & qpcr_byline_updated_cleaned$Virus=='WNV'])))\n",
    "  if ('wnv' %in% exp_names) {\n",
    "    if (length(exp_names) > 1) {\n",
    "      exp_names = exp_names[c(length(exp_names), c(1:(length(exp_names)-1)))]\n",
    "    }\n",
    "  }\n",
    "  \n",
    "  mock_line_mat = matrix(ncol=0, nrow=length(mock_tp))\n",
    "  mock_se_mat = matrix(ncol=0, nrow=length(mock_tp))\n",
    "  line_mat = matrix(ncol=0, nrow=length(tp))\n",
    "  se_mat = matrix(ncol=0, nrow=length(tp))\n",
    "  \n",
    "  ## Mock data\n",
    "  if (length(mock_tp) > 0) {\n",
    "    for (exp in exp_names) {\n",
    "      exp_dat = c()\n",
    "      exp_se = c()\n",
    "      for (t in mock_tp) {\n",
    "        tp_dat = qpcr_byline_updated_cleaned$fc.mean[with(qpcr_byline_updated_cleaned, UW_Line==line & tolower(Tissue)==tolower(tissue) & tolower(Experiment)==exp & Timepoint==t & Virus=='Mock')]\n",
    "        #print(tp_dat)\n",
    "        se_dat = qpcr_byline_updated_cleaned$ddCt.se[with(qpcr_byline_updated_cleaned, UW_Line==line & tolower(Tissue)==tolower(tissue) & tolower(Experiment)==exp & Timepoint==t & Virus=='Mock')]\n",
    "        #print(se_dat)\n",
    "        se_dat = 2^(-se_dat)\n",
    "        #print(tp_dat)\n",
    "        if (length(tp_dat) == 0) {\n",
    "          exp_dat = c(exp_dat, NA)\n",
    "          exp_se = c(exp_se, NA)\n",
    "        } else {\n",
    "          exp_dat = c(exp_dat, tp_dat)\n",
    "          exp_se = c(exp_se, se_dat)\n",
    "        }\n",
    "      }\n",
    "      mock_line_mat = cbind(mock_line_mat, exp_dat)\n",
    "      mock_se_mat = cbind(mock_se_mat, exp_se)\n",
    "    }\n",
    "  }\n",
    "  #print(mock_line_mat)\n",
    "  \n",
    "  ## WNV data\n",
    "  for (exp in exp_names) {\n",
    "    exp_dat = c()\n",
    "    exp_se = c()\n",
    "    for (t in tp) {\n",
    "      tp_dat = qpcr_byline_updated_cleaned$fc.mean[with(qpcr_byline_updated_cleaned, UW_Line==line & tolower(Tissue)==tolower(tissue) & tolower(Experiment)==exp & Timepoint==t & Virus=='WNV')]\n",
    "      se_dat = qpcr_byline_updated_cleaned$ddCt.se[with(qpcr_byline_updated_cleaned, UW_Line==line & tolower(Tissue)==tolower(tissue) & tolower(Experiment)==exp & Timepoint==t & Virus=='WNV')]\n",
    "      #print(se_dat)\n",
    "      se_dat = 2^(-se_dat)\n",
    "      #print(tp_dat)\n",
    "      if (length(tp_dat) == 0) {\n",
    "        exp_dat = c(exp_dat, NA)\n",
    "        exp_se = c(exp_se, NA)\n",
    "      } else {\n",
    "        exp_dat = c(exp_dat, tp_dat)\n",
    "        exp_se = c(exp_se, se_dat)\n",
    "      }\n",
    "    }\n",
    "    line_mat = cbind(line_mat, exp_dat)\n",
    "    se_mat = cbind(se_mat, exp_se)\n",
    "  }\n",
    "  \n",
    "  if (dim(mock_line_mat)[1] > 0) {\n",
    "    line_mat = rbind(mock_line_mat, line_mat)\n",
    "    se_mat = rbind(mock_se_mat, se_mat)\n",
    "  }\n",
    "\n",
    "  mock_names = c()\n",
    "  if (length(mock_tp) > 0) {\n",
    "    mock_names = paste('D', mock_tp, 'M', sep='')\n",
    "  } \n",
    "  wnv_names = paste('D', tp, sep='')\n",
    "  rownames(line_mat) = c(mock_names, wnv_names)\n",
    "  colnames(line_mat) = toupper(exp_names)\n",
    "  rownames(se_mat) = c(mock_names, wnv_names)\n",
    "  colnames(se_mat) = toupper(exp_names)\n",
    "  \n",
    "  ## Return barplot matrix\n",
    "  return(list(bardat=line_mat, sedat=se_mat, uw_line=line, tissue=tissue))\n",
    "  \n",
    "}\n",
    "\n",
    "# Bar plot function\n",
    "qpcr_barplot = function(barplot_data) {\n",
    "  title = paste('UW Line', barplot_data$uw_line, '-', barplot_data$tissue, sep=' ')\n",
    "  tp_colors = brewer.pal(dim(barplot_data$bardat)[1],'Blues')\n",
    "  #print(min(log2(barplot_data$bardat), na.rm=T))\n",
    "  barx = barplot(log2(barplot_data$bardat), beside=T, legend=T, args.legend=list(x='top', ncol=dim(barplot_data$bardat)[1]), ylim=c(min(log2(barplot_data$bardat), na.rm=T)-2, max(log2(barplot_data$bardat), na.rm=T)+5), xpd=FALSE, ylab='Log2(Fold Change)', main=title, col=tp_colors)\n",
    "  error.bar(barx, log2(barplot_data$bardat), log2(barplot_data$sedat))\n",
    "}\n",
    "\n",
    "# Generate bar plot data for line 10 in brain tissue\n",
    "barplot_data = qpcr_barplot_data(qpcr_byline_updated_cleaned, baseline=12, line=\"10\", tissue=\"Brain\")\n",
    "\n",
    "# Generate bar plot\n",
    "qpcr_barplot(barplot_data=barplot_data)\n"
   ]
  },
  {
   "cell_type": "code",
   "execution_count": null,
   "metadata": {
    "collapsed": true
   },
   "outputs": [],
   "source": []
  }
 ],
 "metadata": {
  "kernelspec": {
   "display_name": "R",
   "language": "R",
   "name": "ir"
  },
  "language_info": {
   "codemirror_mode": "r",
   "file_extension": ".r",
   "mimetype": "text/x-r-source",
   "name": "R",
   "pygments_lexer": "r",
   "version": "3.2.2"
  }
 },
 "nbformat": 4,
 "nbformat_minor": 0
}
