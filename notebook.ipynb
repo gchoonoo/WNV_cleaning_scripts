{
 "cells": [
  {
   "cell_type": "markdown",
   "metadata": {},
   "source": [
    "# Systems Immunogenetics Project\n",
    "\n",
    "## WNV Cleaning Steps\n",
    "\n",
    "### McWeeney Lab, Oregon Health & Science University\n",
    "\n",
    "** Authors: Gabrielle Choonoo (choonoo@ohsu.edu) and Michael Mooney (mooneymi@ohsu.edu) **\n",
    "\n",
    "## Introduction\n",
    "\n",
    "This is the step-by-step process for cleaning the WNV data (weight, clinical score, qpcr, and phenotypes).\n",
    "\n",
    "Required Files:\n",
    "* WNV Data\n",
    "* WNV Data Dictionary\n",
    "* Array Annotation\n",
    "* This notebook (notebook.ipynb): [[Download here]](https://raw.githubusercontent.com/gchoonoo/Buxco_notebook/master/notebook.ipynb)\n",
    "\n",
    "Required R packages:\n",
    "- `gdata`\n",
    "\n",
    "**Note: this notebook can also be downloaded as an R script (only the code blocks seen below will be included): [[Download R script here]](https://raw.githubusercontent.com/gchoonoo/WNV_cleaning_scripts/master/clean_data.r)\n",
    "\n",
    "** All code is available on GitHub: [https://github.com/gchoonoo/WNV_cleaning_scripts](https://github.com/gchoonoo/WNV_cleaning_scripts) **"
   ]
  },
  {
   "cell_type": "markdown",
   "metadata": {},
   "source": [
    "# Weight sheets: Read in Data"
   ]
  },
  {
   "cell_type": "code",
   "execution_count": 1,
   "metadata": {
    "collapsed": false
   },
   "outputs": [
    {
     "name": "stderr",
     "output_type": "stream",
     "text": [
      "gdata: read.xls support for 'XLS' (Excel 97-2004) files ENABLED.\n",
      "\n",
      "gdata: read.xls support for 'XLSX' (Excel 2007+) files ENABLED.\n",
      "\n",
      "Attaching package: ‘gdata’\n",
      "\n",
      "The following object is masked from ‘package:stats’:\n",
      "\n",
      "    nobs\n",
      "\n",
      "The following object is masked from ‘package:utils’:\n",
      "\n",
      "    object.size\n",
      "\n"
     ]
    },
    {
     "name": "stdout",
     "output_type": "stream",
     "text": [
      "[1] \"Read in 13 files\"\n"
     ]
    }
   ],
   "source": [
    "library(gdata)\n",
    "\n",
    "# Gale: Read in weight sheet\n",
    "# Lund: Read in all weight sheets and combine\n",
    "# Lund Data Example:\n",
    "\n",
    "# Set empty vector\n",
    "data2 <- vector(\"list\",length(dir(\"data\")))\n",
    "\n",
    "# Read in all new data and combine\n",
    "for(i in 1:length(dir(\"data\"))){\n",
    "  #print(i)\n",
    "  read.xls(xls=paste(\"data\",dir(\"data\")[i],sep=\"/\"), sheet=1, skip=2,colClasses=c(\"NULL\",rep(NA,37)), stringsAsFactors=F) -> data2[[i]]\n",
    "  \n",
    "  days = gsub(\"d\",\"D\",gsub(\"\\\\.\",\"\",names(data2[[i]])[9:37]))\n",
    "  \n",
    "  names(data2[[i]]) <- c(\"UW_Line\",\"ID\",\"Mating\",\"RIX_ID\",\"Timepoint\",\"Date_Infected\",\"Death_Euthanized\",\"Death_FoundInCage\",days)\n",
    "  \n",
    "  data2[[i]][1:which(data2[[i]][,1] == \"% of initial weight\")-1,] -> data2[[i]]\n",
    "  \n",
    "  new_lund_line = do.call(rbind,data2)      \n",
    "}\n",
    "\n",
    "if(length(unique(new_lund_line[,1])) == length(dir(\"data\"))){\n",
    "  print(paste(\"Read in\", length(dir(\"data\")),\"files\"))\n",
    "}\n",
    "\n",
    "# Cleaning steps as outlined by Readme\n",
    "\n",
    "# Cleaning Blanks to NA function\n",
    "clean_na = function(data_set){\n",
    "  \n",
    "  for (i in 1:dim(data_set)[2]){\n",
    "    #print(i)\n",
    "    if(sum(na.omit(data_set[,i] == \"\") > 0)){\n",
    "      \n",
    "      data_set[which( data_set[,i] == \"\"),i] <- NA\n",
    "    }\n",
    "    \n",
    "  }\n",
    "  return(data_set)\n",
    "}\n",
    "\n",
    "clean_na(new_lund_line) -> new_lund_line"
   ]
  },
  {
   "cell_type": "markdown",
   "metadata": {},
   "source": [
    "# 1. Clean mating: \"X\" changed to \"x\""
   ]
  },
  {
   "cell_type": "code",
   "execution_count": 2,
   "metadata": {
    "collapsed": false
   },
   "outputs": [
    {
     "data": {
      "text/html": [],
      "text/latex": [],
      "text/markdown": [],
      "text/plain": [
       "character(0)"
      ]
     },
     "execution_count": 2,
     "metadata": {},
     "output_type": "execute_result"
    }
   ],
   "source": [
    "new_lund_line[,\"Mating\"] <- gsub(\"X\",\"x\",new_lund_line[,\"Mating\"])\n",
    "\n",
    "# Check if all matings have unique uw line, if not returns lines that has duplicated mating\n",
    "unique(new_lund_line[,\"UW_Line\"])[sapply(1:length(unique(new_lund_line[,\"UW_Line\"])), function(xx)length(unique(new_lund_line[as.vector(unlist(sapply(unique(new_lund_line[,\"UW_Line\"])[xx],function(x)which(x==new_lund_line[,\"UW_Line\"])))),\"Mating\"]))) > 1]\n",
    "\n",
    "# Clean mating if necessary: see Gale and Lund specific cleaning steps in Read me"
   ]
  },
  {
   "cell_type": "markdown",
   "metadata": {},
   "source": [
    "# 2. Clean ID with new mating: Mating + RIX_ID"
   ]
  },
  {
   "cell_type": "code",
   "execution_count": 3,
   "metadata": {
    "collapsed": true
   },
   "outputs": [],
   "source": [
    "new_lund_line[,\"ID\"] <- paste(new_lund_line[,\"Mating\"],new_lund_line[,\"RIX_ID\"],sep=\"_\")"
   ]
  },
  {
   "cell_type": "markdown",
   "metadata": {},
   "source": [
    "# 3. Add/remove columns and edit column names"
   ]
  },
  {
   "cell_type": "code",
   "execution_count": 4,
   "metadata": {
    "collapsed": true
   },
   "outputs": [],
   "source": [
    "# 3. Add/remove columns and edit column names: Add Lab, Data_Altered\n",
    "  # Gale: Add Death_FoundInCage column\n",
    "  # Change column name \"Died_of_virus_at_day\" to \"Died_of_Virus\" \n",
    "  # Change column name \"Animal_was_euthansized_at_day\" to \"Death_Euthanized\"\n",
    "  # Change column name \"Died_from_anesthesia\" to \"Died_from_Anesthesia\"\n",
    "  # Remove columns: CV1, CV2, Interesting_Phenotype (empty)\n",
    "# Lund: Add UWID, Cohort, Sex, Died_of_Virus, Died_from_Anesthesia, and Notes columns\n",
    "new_lund_line$Lab = \"Lund\" \n",
    "new_lund_line$UWID = NA\n",
    "new_lund_line$Cohort = NA\n",
    "new_lund_line$Sex = NA\n",
    "new_lund_line$Died_of_Virus = NA\n",
    "new_lund_line$Died_from_Anesthesia = NA\n",
    "new_lund_line$Data_Altered = NA\n",
    "new_lund_line$Notes = NA"
   ]
  },
  {
   "cell_type": "markdown",
   "metadata": {},
   "source": [
    "# 4. Check the Virus column is annotated and clean timepoint"
   ]
  },
  {
   "cell_type": "code",
   "execution_count": 5,
   "metadata": {
    "collapsed": false
   },
   "outputs": [
    {
     "data": {
      "text/plain": [
       "NULL"
      ]
     },
     "execution_count": 5,
     "metadata": {},
     "output_type": "execute_result"
    }
   ],
   "source": [
    "unique(new_lund_line$Virus)\n",
    "\n",
    "# add virus column\n",
    "new_lund_line$Virus = NA\n",
    "new_lund_line[grep(\"m\",new_lund_line[,\"Timepoint\"]),\"Virus\"] <- \"Mock\"\n",
    "new_lund_line[-grep(\"m\",new_lund_line[,\"Timepoint\"]),\"Virus\"] <- \"WNV\"\n",
    "\n",
    "# clean timepoint\n",
    "new_lund_line[,\"Timepoint\"] <- as.numeric(as.character(gsub(\"d\",\"\",gsub(\"m\",\"\",new_lund_line[,\"Timepoint\"]))))"
   ]
  },
  {
   "cell_type": "markdown",
   "metadata": {},
   "source": [
    "# 5. Check for any duplicated or NA rows"
   ]
  },
  {
   "cell_type": "code",
   "execution_count": 6,
   "metadata": {
    "collapsed": false
   },
   "outputs": [
    {
     "data": {
      "text/html": [
       "3"
      ],
      "text/latex": [
       "3"
      ],
      "text/markdown": [
       "3"
      ],
      "text/plain": [
       "[1] 3"
      ]
     },
     "execution_count": 6,
     "metadata": {},
     "output_type": "execute_result"
    },
    {
     "data": {
      "text/html": [
       "<table>\n",
       "<thead><tr><th></th><th scope=col>UW_Line</th><th scope=col>ID</th><th scope=col>Mating</th><th scope=col>RIX_ID</th><th scope=col>Timepoint</th><th scope=col>Date_Infected</th><th scope=col>Death_Euthanized</th><th scope=col>Death_FoundInCage</th><th scope=col>D0</th><th scope=col>D1</th><th scope=col>D2</th><th scope=col>D3</th><th scope=col>D4</th><th scope=col>D5</th><th scope=col>D6</th><th scope=col>D7</th><th scope=col>D8</th><th scope=col>D9</th><th scope=col>D10</th><th scope=col>D11</th><th scope=col>D12</th><th scope=col>D13</th><th scope=col>D14</th><th scope=col>D15</th><th scope=col>D16</th><th scope=col>D17</th><th scope=col>D18</th><th scope=col>D19</th><th scope=col>D20</th><th scope=col>D21</th><th scope=col>D22</th><th scope=col>D23</th><th scope=col>D24</th><th scope=col>D25</th><th scope=col>D26</th><th scope=col>D27</th><th scope=col>D28</th><th scope=col>Lab</th><th scope=col>UWID</th><th scope=col>Cohort</th><th scope=col>Sex</th><th scope=col>Died_of_Virus</th><th scope=col>Died_from_Anesthesia</th><th scope=col>Data_Altered</th><th scope=col>Notes</th><th scope=col>Virus</th></tr></thead>\n",
       "<tbody>\n",
       "\t<tr><th scope=row>16</th><td>061</td><td>8056x8033_NA</td><td>8056x8033</td><td>NA</td><td>28</td><td>NA</td><td>NA</td><td>NA</td><td>NA</td><td>NA</td><td>NA</td><td>NA</td><td>NA</td><td>NA</td><td>NA</td><td>NA</td><td>NA</td><td>NA</td><td>NA</td><td>NA</td><td>NA</td><td>NA</td><td>NA</td><td>NA</td><td>NA</td><td>NA</td><td>NA</td><td>NA</td><td>NA</td><td>NA</td><td>NA</td><td>NA</td><td>NA</td><td>NA</td><td>NA</td><td>NA</td><td>NA</td><td>Lund</td><td>NA</td><td>NA</td><td>NA</td><td>NA</td><td>NA</td><td>NA</td><td>NA</td><td>Mock</td></tr>\n",
       "\t<tr><th scope=row>17</th><td>061</td><td>8056x8033_NA</td><td>8056x8033</td><td>NA</td><td>28</td><td>NA</td><td>NA</td><td>NA</td><td>NA</td><td>NA</td><td>NA</td><td>NA</td><td>NA</td><td>NA</td><td>NA</td><td>NA</td><td>NA</td><td>NA</td><td>NA</td><td>NA</td><td>NA</td><td>NA</td><td>NA</td><td>NA</td><td>NA</td><td>NA</td><td>NA</td><td>NA</td><td>NA</td><td>NA</td><td>NA</td><td>NA</td><td>NA</td><td>NA</td><td>NA</td><td>NA</td><td>NA</td><td>Lund</td><td>NA</td><td>NA</td><td>NA</td><td>NA</td><td>NA</td><td>NA</td><td>NA</td><td>Mock</td></tr>\n",
       "\t<tr><th scope=row>18</th><td>061</td><td>8056x8033_NA</td><td>8056x8033</td><td>NA</td><td>28</td><td>NA</td><td>NA</td><td>NA</td><td>NA</td><td>NA</td><td>NA</td><td>NA</td><td>NA</td><td>NA</td><td>NA</td><td>NA</td><td>NA</td><td>NA</td><td>NA</td><td>NA</td><td>NA</td><td>NA</td><td>NA</td><td>NA</td><td>NA</td><td>NA</td><td>NA</td><td>NA</td><td>NA</td><td>NA</td><td>NA</td><td>NA</td><td>NA</td><td>NA</td><td>NA</td><td>NA</td><td>NA</td><td>Lund</td><td>NA</td><td>NA</td><td>NA</td><td>NA</td><td>NA</td><td>NA</td><td>NA</td><td>Mock</td></tr>\n",
       "</tbody>\n",
       "</table>\n"
      ],
      "text/latex": [
       "\\begin{tabular}{r|llllllllllllllllllllllllllllllllllllllllllllll}\n",
       "  & UW_Line & ID & Mating & RIX_ID & Timepoint & Date_Infected & Death_Euthanized & Death_FoundInCage & D0 & D1 & D2 & D3 & D4 & D5 & D6 & D7 & D8 & D9 & D10 & D11 & D12 & D13 & D14 & D15 & D16 & D17 & D18 & D19 & D20 & D21 & D22 & D23 & D24 & D25 & D26 & D27 & D28 & Lab & UWID & Cohort & Sex & Died_of_Virus & Died_from_Anesthesia & Data_Altered & Notes & Virus\\\\\n",
       "\\hline\n",
       "\t16 & 061 & 8056x8033_NA & 8056x8033 & NA & 28 & NA & NA & NA & NA & NA & NA & NA & NA & NA & NA & NA & NA & NA & NA & NA & NA & NA & NA & NA & NA & NA & NA & NA & NA & NA & NA & NA & NA & NA & NA & NA & NA & Lund & NA & NA & NA & NA & NA & NA & NA & Mock\\\\\n",
       "\t17 & 061 & 8056x8033_NA & 8056x8033 & NA & 28 & NA & NA & NA & NA & NA & NA & NA & NA & NA & NA & NA & NA & NA & NA & NA & NA & NA & NA & NA & NA & NA & NA & NA & NA & NA & NA & NA & NA & NA & NA & NA & NA & Lund & NA & NA & NA & NA & NA & NA & NA & Mock\\\\\n",
       "\t18 & 061 & 8056x8033_NA & 8056x8033 & NA & 28 & NA & NA & NA & NA & NA & NA & NA & NA & NA & NA & NA & NA & NA & NA & NA & NA & NA & NA & NA & NA & NA & NA & NA & NA & NA & NA & NA & NA & NA & NA & NA & NA & Lund & NA & NA & NA & NA & NA & NA & NA & Mock\\\\\n",
       "\\end{tabular}\n"
      ],
      "text/plain": [
       "   UW_Line           ID    Mating RIX_ID Timepoint Date_Infected\n",
       "16     061 8056x8033_NA 8056x8033   <NA>        28          <NA>\n",
       "17     061 8056x8033_NA 8056x8033   <NA>        28          <NA>\n",
       "18     061 8056x8033_NA 8056x8033   <NA>        28          <NA>\n",
       "   Death_Euthanized Death_FoundInCage   D0   D1   D2   D3   D4   D5   D6   D7\n",
       "16             <NA>              <NA> <NA> <NA> <NA> <NA> <NA> <NA> <NA> <NA>\n",
       "17             <NA>              <NA> <NA> <NA> <NA> <NA> <NA> <NA> <NA> <NA>\n",
       "18             <NA>              <NA> <NA> <NA> <NA> <NA> <NA> <NA> <NA> <NA>\n",
       "     D8   D9  D10  D11  D12  D13  D14  D15  D16  D17  D18  D19  D20  D21  D22\n",
       "16 <NA> <NA> <NA> <NA> <NA> <NA> <NA> <NA> <NA> <NA> <NA> <NA> <NA> <NA> <NA>\n",
       "17 <NA> <NA> <NA> <NA> <NA> <NA> <NA> <NA> <NA> <NA> <NA> <NA> <NA> <NA> <NA>\n",
       "18 <NA> <NA> <NA> <NA> <NA> <NA> <NA> <NA> <NA> <NA> <NA> <NA> <NA> <NA> <NA>\n",
       "    D23  D24  D25  D26  D27  D28  Lab UWID Cohort Sex Died_of_Virus\n",
       "16 <NA> <NA> <NA> <NA> <NA> <NA> Lund   NA     NA  NA            NA\n",
       "17 <NA> <NA> <NA> <NA> <NA> <NA> Lund   NA     NA  NA            NA\n",
       "18 <NA> <NA> <NA> <NA> <NA> <NA> Lund   NA     NA  NA            NA\n",
       "   Died_from_Anesthesia Data_Altered Notes Virus\n",
       "16                   NA           NA    NA  Mock\n",
       "17                   NA           NA    NA  Mock\n",
       "18                   NA           NA    NA  Mock"
      ]
     },
     "execution_count": 6,
     "metadata": {},
     "output_type": "execute_result"
    }
   ],
   "source": [
    "days = c(\"D0\",\"D1\",\"D2\",\"D3\",\"D4\",\"D5\",\"D6\",\"D7\",\"D8\",\"D9\",\"D10\",\"D11\",\"D12\",\"D13\",\"D14\",\"D15\",\"D16\",\"D17\",\"D18\",\"D19\",\"D20\",\"D21\",\"D22\",\"D23\",\"D24\",\"D25\",\"D26\",\"D27\",\"D28\")\n",
    "na_now = sapply(1:dim(new_lund_line)[1],function(x)sum(is.na(new_lund_line[x,days])) == length(new_lund_line[x,days]))\n",
    "\n",
    "sum(na_now)\n",
    "\n",
    "new_lund_line[na_now,] # Flag if no died early notes"
   ]
  },
  {
   "cell_type": "markdown",
   "metadata": {},
   "source": [
    "# 6. Annotate Death_Date based on date of infection to timepoint or died early notes, annotate putative death day"
   ]
  },
  {
   "cell_type": "code",
   "execution_count": 19,
   "metadata": {
    "collapsed": false
   },
   "outputs": [
    {
     "data": {
      "text/html": [
       "<ol class=list-inline>\n",
       "\t<li>'061'</li>\n",
       "\t<li>'061'</li>\n",
       "\t<li>'061'</li>\n",
       "</ol>\n"
      ],
      "text/latex": [
       "\\begin{enumerate*}\n",
       "\\item '061'\n",
       "\\item '061'\n",
       "\\item '061'\n",
       "\\end{enumerate*}\n"
      ],
      "text/markdown": [
       "1. '061'\n",
       "2. '061'\n",
       "3. '061'\n",
       "\n",
       "\n"
      ],
      "text/plain": [
       "[1] \"061\" \"061\" \"061\""
      ]
     },
     "execution_count": 19,
     "metadata": {},
     "output_type": "execute_result"
    },
    {
     "data": {
      "text/html": [
       "<table>\n",
       "<thead><tr><th></th><th scope=col>UW_Line</th><th scope=col>ID</th><th scope=col>Mating</th><th scope=col>RIX_ID</th><th scope=col>Timepoint</th><th scope=col>Date_Infected</th><th scope=col>Death_Euthanized</th><th scope=col>Death_FoundInCage</th><th scope=col>D0</th><th scope=col>D1</th><th scope=col>D2</th><th scope=col>D3</th><th scope=col>D4</th><th scope=col>D5</th><th scope=col>D6</th><th scope=col>D7</th><th scope=col>D8</th><th scope=col>D9</th><th scope=col>D10</th><th scope=col>D11</th><th scope=col>D12</th><th scope=col>D13</th><th scope=col>D14</th><th scope=col>D15</th><th scope=col>D16</th><th scope=col>D17</th><th scope=col>D18</th><th scope=col>D19</th><th scope=col>D20</th><th scope=col>D21</th><th scope=col>D22</th><th scope=col>D23</th><th scope=col>D24</th><th scope=col>D25</th><th scope=col>D26</th><th scope=col>D27</th><th scope=col>D28</th><th scope=col>Lab</th><th scope=col>UWID</th><th scope=col>Cohort</th><th scope=col>Sex</th><th scope=col>Died_of_Virus</th><th scope=col>Died_from_Anesthesia</th><th scope=col>Data_Altered</th><th scope=col>Notes</th><th scope=col>Virus</th><th scope=col>Death_Date</th><th scope=col>putative_death_day</th><th scope=col>D0_Percentage</th><th scope=col>D1_Percentage</th><th scope=col>D2_Percentage</th><th scope=col>D3_Percentage</th><th scope=col>D4_Percentage</th><th scope=col>D5_Percentage</th><th scope=col>D6_Percentage</th><th scope=col>D7_Percentage</th><th scope=col>D8_Percentage</th><th scope=col>D9_Percentage</th><th scope=col>D10_Percentage</th><th scope=col>D11_Percentage</th><th scope=col>D12_Percentage</th><th scope=col>D13_Percentage</th><th scope=col>D14_Percentage</th><th scope=col>D15_Percentage</th><th scope=col>D16_Percentage</th><th scope=col>D17_Percentage</th><th scope=col>D18_Percentage</th><th scope=col>D19_Percentage</th><th scope=col>D20_Percentage</th><th scope=col>D21_Percentage</th><th scope=col>D22_Percentage</th><th scope=col>D23_Percentage</th><th scope=col>D24_Percentage</th><th scope=col>D25_Percentage</th><th scope=col>D26_Percentage</th><th scope=col>D27_Percentage</th><th scope=col>D28_Percentage</th><th scope=col>Flag_Weight_Drop</th><th scope=col>Flag_Identical_Weights</th><th scope=col>Flag_Per_Day_Weight_Change</th><th scope=col>Flag_Death_Day</th><th scope=col>Death_Date_greater_timepoint</th></tr></thead>\n",
       "<tbody>\n",
       "\t<tr><th scope=row>16</th><td>061</td><td>8056x8033_NA</td><td>8056x8033</td><td>NA</td><td>28</td><td>NA</td><td>NA</td><td>NA</td><td>NA</td><td>NA</td><td>NA</td><td>NA</td><td>NA</td><td>NA</td><td>NA</td><td>NA</td><td>NA</td><td>NA</td><td>NA</td><td>NA</td><td>NA</td><td>NA</td><td>NA</td><td>NA</td><td>NA</td><td>NA</td><td>NA</td><td>NA</td><td>NA</td><td>NA</td><td>NA</td><td>NA</td><td>NA</td><td>NA</td><td>NA</td><td>NA</td><td>NA</td><td>Lund</td><td>NA</td><td>NA</td><td>NA</td><td>NA</td><td>NA</td><td>NA</td><td>NA</td><td>Mock</td><td>NA</td><td>NA</td><td>0</td><td>NA</td><td>NA</td><td>NA</td><td>NA</td><td>NA</td><td>NA</td><td>NA</td><td>NA</td><td>NA</td><td>NA</td><td>NA</td><td>NA</td><td>NA</td><td>NA</td><td>NA</td><td>NA</td><td>NA</td><td>NA</td><td>NA</td><td>NA</td><td>NA</td><td>NA</td><td>NA</td><td>NA</td><td>NA</td><td>NA</td><td>NA</td><td>NA</td><td>FALSE</td><td>FALSE</td><td>FALSE</td><td>FALSE</td><td>FALSE</td></tr>\n",
       "\t<tr><th scope=row>17</th><td>061</td><td>8056x8033_NA</td><td>8056x8033</td><td>NA</td><td>28</td><td>NA</td><td>NA</td><td>NA</td><td>NA</td><td>NA</td><td>NA</td><td>NA</td><td>NA</td><td>NA</td><td>NA</td><td>NA</td><td>NA</td><td>NA</td><td>NA</td><td>NA</td><td>NA</td><td>NA</td><td>NA</td><td>NA</td><td>NA</td><td>NA</td><td>NA</td><td>NA</td><td>NA</td><td>NA</td><td>NA</td><td>NA</td><td>NA</td><td>NA</td><td>NA</td><td>NA</td><td>NA</td><td>Lund</td><td>NA</td><td>NA</td><td>NA</td><td>NA</td><td>NA</td><td>NA</td><td>NA</td><td>Mock</td><td>NA</td><td>NA</td><td>0</td><td>NA</td><td>NA</td><td>NA</td><td>NA</td><td>NA</td><td>NA</td><td>NA</td><td>NA</td><td>NA</td><td>NA</td><td>NA</td><td>NA</td><td>NA</td><td>NA</td><td>NA</td><td>NA</td><td>NA</td><td>NA</td><td>NA</td><td>NA</td><td>NA</td><td>NA</td><td>NA</td><td>NA</td><td>NA</td><td>NA</td><td>NA</td><td>NA</td><td>FALSE</td><td>FALSE</td><td>FALSE</td><td>FALSE</td><td>FALSE</td></tr>\n",
       "\t<tr><th scope=row>18</th><td>061</td><td>8056x8033_NA</td><td>8056x8033</td><td>NA</td><td>28</td><td>NA</td><td>NA</td><td>NA</td><td>NA</td><td>NA</td><td>NA</td><td>NA</td><td>NA</td><td>NA</td><td>NA</td><td>NA</td><td>NA</td><td>NA</td><td>NA</td><td>NA</td><td>NA</td><td>NA</td><td>NA</td><td>NA</td><td>NA</td><td>NA</td><td>NA</td><td>NA</td><td>NA</td><td>NA</td><td>NA</td><td>NA</td><td>NA</td><td>NA</td><td>NA</td><td>NA</td><td>NA</td><td>Lund</td><td>NA</td><td>NA</td><td>NA</td><td>NA</td><td>NA</td><td>NA</td><td>NA</td><td>Mock</td><td>NA</td><td>NA</td><td>0</td><td>NA</td><td>NA</td><td>NA</td><td>NA</td><td>NA</td><td>NA</td><td>NA</td><td>NA</td><td>NA</td><td>NA</td><td>NA</td><td>NA</td><td>NA</td><td>NA</td><td>NA</td><td>NA</td><td>NA</td><td>NA</td><td>NA</td><td>NA</td><td>NA</td><td>NA</td><td>NA</td><td>NA</td><td>NA</td><td>NA</td><td>NA</td><td>NA</td><td>FALSE</td><td>FALSE</td><td>FALSE</td><td>FALSE</td><td>FALSE</td></tr>\n",
       "</tbody>\n",
       "</table>\n"
      ],
      "text/latex": [
       "\\begin{tabular}{r|llllllllllllllllllllllllllllllllllllllllllllllllllllllllllllllllllllllllllllllllll}\n",
       "  & UW_Line & ID & Mating & RIX_ID & Timepoint & Date_Infected & Death_Euthanized & Death_FoundInCage & D0 & D1 & D2 & D3 & D4 & D5 & D6 & D7 & D8 & D9 & D10 & D11 & D12 & D13 & D14 & D15 & D16 & D17 & D18 & D19 & D20 & D21 & D22 & D23 & D24 & D25 & D26 & D27 & D28 & Lab & UWID & Cohort & Sex & Died_of_Virus & Died_from_Anesthesia & Data_Altered & Notes & Virus & Death_Date & putative_death_day & D0_Percentage & D1_Percentage & D2_Percentage & D3_Percentage & D4_Percentage & D5_Percentage & D6_Percentage & D7_Percentage & D8_Percentage & D9_Percentage & D10_Percentage & D11_Percentage & D12_Percentage & D13_Percentage & D14_Percentage & D15_Percentage & D16_Percentage & D17_Percentage & D18_Percentage & D19_Percentage & D20_Percentage & D21_Percentage & D22_Percentage & D23_Percentage & D24_Percentage & D25_Percentage & D26_Percentage & D27_Percentage & D28_Percentage & Flag_Weight_Drop & Flag_Identical_Weights & Flag_Per_Day_Weight_Change & Flag_Death_Day & Death_Date_greater_timepoint\\\\\n",
       "\\hline\n",
       "\t16 & 061 & 8056x8033_NA & 8056x8033 & NA & 28 & NA & NA & NA & NA & NA & NA & NA & NA & NA & NA & NA & NA & NA & NA & NA & NA & NA & NA & NA & NA & NA & NA & NA & NA & NA & NA & NA & NA & NA & NA & NA & NA & Lund & NA & NA & NA & NA & NA & NA & NA & Mock & NA & NA & 0 & NA & NA & NA & NA & NA & NA & NA & NA & NA & NA & NA & NA & NA & NA & NA & NA & NA & NA & NA & NA & NA & NA & NA & NA & NA & NA & NA & NA & FALSE & FALSE & FALSE & FALSE & FALSE\\\\\n",
       "\t17 & 061 & 8056x8033_NA & 8056x8033 & NA & 28 & NA & NA & NA & NA & NA & NA & NA & NA & NA & NA & NA & NA & NA & NA & NA & NA & NA & NA & NA & NA & NA & NA & NA & NA & NA & NA & NA & NA & NA & NA & NA & NA & Lund & NA & NA & NA & NA & NA & NA & NA & Mock & NA & NA & 0 & NA & NA & NA & NA & NA & NA & NA & NA & NA & NA & NA & NA & NA & NA & NA & NA & NA & NA & NA & NA & NA & NA & NA & NA & NA & NA & NA & NA & FALSE & FALSE & FALSE & FALSE & FALSE\\\\\n",
       "\t18 & 061 & 8056x8033_NA & 8056x8033 & NA & 28 & NA & NA & NA & NA & NA & NA & NA & NA & NA & NA & NA & NA & NA & NA & NA & NA & NA & NA & NA & NA & NA & NA & NA & NA & NA & NA & NA & NA & NA & NA & NA & NA & Lund & NA & NA & NA & NA & NA & NA & NA & Mock & NA & NA & 0 & NA & NA & NA & NA & NA & NA & NA & NA & NA & NA & NA & NA & NA & NA & NA & NA & NA & NA & NA & NA & NA & NA & NA & NA & NA & NA & NA & NA & FALSE & FALSE & FALSE & FALSE & FALSE\\\\\n",
       "\\end{tabular}\n"
      ],
      "text/plain": [
       "   UW_Line           ID    Mating RIX_ID Timepoint Date_Infected\n",
       "16     061 8056x8033_NA 8056x8033   <NA>        28          <NA>\n",
       "17     061 8056x8033_NA 8056x8033   <NA>        28          <NA>\n",
       "18     061 8056x8033_NA 8056x8033   <NA>        28          <NA>\n",
       "   Death_Euthanized Death_FoundInCage D0 D1 D2 D3 D4 D5 D6 D7 D8 D9 D10 D11 D12\n",
       "16               NA                NA NA NA NA NA NA NA NA NA NA NA  NA  NA  NA\n",
       "17               NA                NA NA NA NA NA NA NA NA NA NA NA  NA  NA  NA\n",
       "18               NA                NA NA NA NA NA NA NA NA NA NA NA  NA  NA  NA\n",
       "   D13 D14 D15 D16 D17 D18 D19 D20 D21 D22 D23 D24 D25 D26 D27 D28  Lab UWID\n",
       "16  NA  NA  NA  NA  NA  NA  NA  NA  NA  NA  NA  NA  NA  NA  NA  NA Lund   NA\n",
       "17  NA  NA  NA  NA  NA  NA  NA  NA  NA  NA  NA  NA  NA  NA  NA  NA Lund   NA\n",
       "18  NA  NA  NA  NA  NA  NA  NA  NA  NA  NA  NA  NA  NA  NA  NA  NA Lund   NA\n",
       "   Cohort Sex Died_of_Virus Died_from_Anesthesia Data_Altered Notes Virus\n",
       "16     NA  NA            NA                   NA           NA    NA  Mock\n",
       "17     NA  NA            NA                   NA           NA    NA  Mock\n",
       "18     NA  NA            NA                   NA           NA    NA  Mock\n",
       "   Death_Date putative_death_day D0_Percentage D1_Percentage D2_Percentage\n",
       "16       <NA>                 NA             0            NA            NA\n",
       "17       <NA>                 NA             0            NA            NA\n",
       "18       <NA>                 NA             0            NA            NA\n",
       "   D3_Percentage D4_Percentage D5_Percentage D6_Percentage D7_Percentage\n",
       "16            NA            NA            NA            NA            NA\n",
       "17            NA            NA            NA            NA            NA\n",
       "18            NA            NA            NA            NA            NA\n",
       "   D8_Percentage D9_Percentage D10_Percentage D11_Percentage D12_Percentage\n",
       "16            NA            NA             NA             NA             NA\n",
       "17            NA            NA             NA             NA             NA\n",
       "18            NA            NA             NA             NA             NA\n",
       "   D13_Percentage D14_Percentage D15_Percentage D16_Percentage D17_Percentage\n",
       "16             NA             NA             NA             NA             NA\n",
       "17             NA             NA             NA             NA             NA\n",
       "18             NA             NA             NA             NA             NA\n",
       "   D18_Percentage D19_Percentage D20_Percentage D21_Percentage D22_Percentage\n",
       "16             NA             NA             NA             NA             NA\n",
       "17             NA             NA             NA             NA             NA\n",
       "18             NA             NA             NA             NA             NA\n",
       "   D23_Percentage D24_Percentage D25_Percentage D26_Percentage D27_Percentage\n",
       "16             NA             NA             NA             NA             NA\n",
       "17             NA             NA             NA             NA             NA\n",
       "18             NA             NA             NA             NA             NA\n",
       "   D28_Percentage Flag_Weight_Drop Flag_Identical_Weights\n",
       "16             NA            FALSE                  FALSE\n",
       "17             NA            FALSE                  FALSE\n",
       "18             NA            FALSE                  FALSE\n",
       "   Flag_Per_Day_Weight_Change Flag_Death_Day Death_Date_greater_timepoint\n",
       "16                      FALSE          FALSE                        FALSE\n",
       "17                      FALSE          FALSE                        FALSE\n",
       "18                      FALSE          FALSE                        FALSE"
      ]
     },
     "execution_count": 19,
     "metadata": {},
     "output_type": "execute_result"
    }
   ],
   "source": [
    "# Lund: Change Death_Euthanized and Death_FoundInCage to day instead of date\n",
    "new_lund_line[,\"Death_Euthanized\"] <- as.Date(new_lund_line[,\"Death_Euthanized\"], format=\"%m/%d/%y\",origin=\"1900-01-01\")\n",
    "new_lund_line[,\"Death_FoundInCage\"] <- as.Date(new_lund_line[,\"Death_FoundInCage\"], format=\"%m/%d/%y\",origin=\"1900-01-01\")\n",
    "new_lund_line[,\"Date_Infected\"] <- as.Date(new_lund_line[,\"Date_Infected\"], format=\"%m/%d/%y\",origin=\"1900-01-01\")\n",
    "new_lund_line[,\"Death_FoundInCage\"] <- as.vector(difftime(new_lund_line[,\"Death_FoundInCage\"],new_lund_line[,\"Date_Infected\"],units=\"days\"))\n",
    "new_lund_line[,\"Death_Euthanized\"] <- as.vector(difftime(new_lund_line[,\"Death_Euthanized\"],new_lund_line[,\"Date_Infected\"],units=\"days\"))\n",
    "\n",
    "# Annotate death date\n",
    "new_lund_line$Death_Date = NA\n",
    "new_lund_line[which(is.na(new_lund_line[,\"Date_Infected\"])),\"UW_Line\"]\n",
    "new_lund_line[which(!is.na(new_lund_line[,\"Death_Euthanized\"])),\"Death_Date\"] <- as.character(new_lund_line[which(!is.na(new_lund_line[,\"Death_Euthanized\"])),\"Date_Infected\"]+new_lund_line[which(!is.na(new_lund_line[,\"Death_Euthanized\"])),\"Death_Euthanized\"])\n",
    "new_lund_line[which(!is.na(new_lund_line[,\"Death_FoundInCage\"])),\"Death_Date\"] <- as.character(new_lund_line[which(!is.na(new_lund_line[,\"Death_FoundInCage\"])),\"Date_Infected\"]+new_lund_line[which(!is.na(new_lund_line[,\"Death_FoundInCage\"])),\"Death_FoundInCage\"])\n",
    "new_lund_line[which(is.na(new_lund_line[,\"Death_FoundInCage\"]) & is.na(new_lund_line[,\"Death_Euthanized\"])),\"Death_Date\"] <- as.character(new_lund_line[which(is.na(new_lund_line[,\"Death_FoundInCage\"]) & is.na(new_lund_line[,\"Death_Euthanized\"])),\"Date_Infected\"]+new_lund_line[which(is.na(new_lund_line[,\"Death_FoundInCage\"]) & is.na(new_lund_line[,\"Death_Euthanized\"])),\"Timepoint\"])\n",
    "\n",
    "# annotate putative death day\n",
    "new_lund_line$putative_death_day <- sapply(1:dim(new_lund_line)[1],function(x){\n",
    "  #print(x)\n",
    "  if(length(as.numeric(as.character(gsub(\"D\",\"\",names(new_lund_line[x,days][which(!is.na(new_lund_line[x,days]))]))))) ==0){\n",
    "    NA\n",
    "  }else{\n",
    "  max(as.numeric(as.character(gsub(\"D\",\"\",names(new_lund_line[x,days][which(!is.na(new_lund_line[x,days]))])))))\n",
    "  }\n",
    "})\n",
    "\n",
    "# Check if any still NA, annotate death date as date of infection to timepoint if the difference between the timepoint and putative death day is <= 3, otherwise this is flagged below\n",
    "new_lund_line[which(is.na(new_lund_line[,\"Death_Date\"])),]"
   ]
  },
  {
   "cell_type": "markdown",
   "metadata": {},
   "source": [
    "# 7. Calculate weight change percentages, add D0_Percentage column and set to baseline 0"
   ]
  },
  {
   "cell_type": "code",
   "execution_count": 20,
   "metadata": {
    "collapsed": false
   },
   "outputs": [],
   "source": [
    "# add weight percentage columns\n",
    "ncol(new_lund_line) -> ncols\n",
    "new_lund_line[,(ncols+1):(ncols+29)] <- NA\n",
    "names(new_lund_line)[(ncols+1):(ncols+29)] <- paste(days, \"Percentage\",sep=\"_\")\n",
    "\n",
    "# Make sure D0_Percentage column exists and is set to baseline = 0\n",
    "new_lund_line[,\"D0_Percentage\"] <- 0\n",
    "\n",
    "# change weights to numeric\n",
    "for(i in days){\n",
    "  #print(i)\n",
    "  new_lund_line[,i] <- as.numeric(as.character(new_lund_line[,i]))\n",
    "}\n",
    "\n",
    "# calculate percentages\n",
    "for(i in days[-1]){\n",
    "  #print(i)\n",
    "  d2_p = sapply(1:dim(new_lund_line)[1],function(x){\n",
    "    #print(x)\n",
    "    (diff(c(new_lund_line[x,\"D0\"], new_lund_line[x,i]))/new_lund_line[x,\"D0\"])*100\n",
    "  })\n",
    "  \n",
    "  new_lund_line[,paste0(i,\"_Percentage\")] <- d2_p\n",
    "}"
   ]
  },
  {
   "cell_type": "markdown",
   "metadata": {},
   "source": [
    "# 8. Add Flag_Weight_Drop column "
   ]
  },
  {
   "cell_type": "code",
   "execution_count": 21,
   "metadata": {
    "collapsed": true
   },
   "outputs": [],
   "source": [
    "# Flag = True if animals lost more than 20% body weight\n",
    "days_percent = paste0(days,\"_Percentage\")\n",
    "\n",
    "flag_weight_drop = sapply(1:dim(new_lund_line)[1],function(x)sum(new_lund_line[x,days_percent] <= -20, na.rm=T) > 0)\n",
    "\n",
    "new_lund_line$Flag_Weight_Drop = flag_weight_drop"
   ]
  },
  {
   "cell_type": "markdown",
   "metadata": {},
   "source": [
    "# 9. Add Flag_Identical_Weights "
   ]
  },
  {
   "cell_type": "code",
   "execution_count": 22,
   "metadata": {
    "collapsed": false
   },
   "outputs": [],
   "source": [
    "# Flag = True if identical weights on consecutive measurements\n",
    "identical_weights = sapply(1:dim(new_lund_line)[1],function(x)suppressWarnings(sum(diff(na.omit(as.numeric(as.character(new_lund_line[x,days_percent])))) == 0) > 0))\n",
    "\n",
    "new_lund_line$Flag_Identical_Weights = identical_weights"
   ]
  },
  {
   "cell_type": "markdown",
   "metadata": {},
   "source": [
    "# 10. Add Flag_Per_Day_Weight_Change "
   ]
  },
  {
   "cell_type": "code",
   "execution_count": 23,
   "metadata": {
    "collapsed": false
   },
   "outputs": [],
   "source": [
    "# Flag = True if weight change > 10% on consecutive measurements\n",
    "weight_change_flag = sapply(1:dim(new_lund_line)[1],function(x)suppressWarnings(sum(abs(diff(na.omit(as.numeric(as.character(new_lund_line[x,days_percent]))))) >= 10) > 0))\n",
    "\n",
    "new_lund_line$Flag_Per_Day_Weight_Change = weight_change_flag"
   ]
  },
  {
   "cell_type": "markdown",
   "metadata": {},
   "source": [
    "# 11. Add Flag_weight_day "
   ]
  },
  {
   "cell_type": "code",
   "execution_count": 24,
   "metadata": {
    "collapsed": true
   },
   "outputs": [],
   "source": [
    "# Flag = True where Timepoint is >= 3 more than putative death day (day the weights are recorded up to) (internal check)\n",
    "new_lund_line$Flag_Death_Day = NA\n",
    "\n",
    "if(length(which(new_lund_line[,\"Timepoint\"] - new_lund_line[,\"putative_death_day\"]>=3 & is.na(new_lund_line[,\"Death_Euthanized\"]) & is.na(new_lund_line[,\"Death_FoundInCage\"]))) == 0){\n",
    "  new_lund_line$Flag_Death_Day = FALSE\n",
    "}else{\n",
    "  new_lund_line[which(new_lund_line[,\"Timepoint\"] - new_lund_line[,\"putative_death_day\"]>=3 & is.na(new_lund_line[,\"Death_Euthanized\"]) & is.na(new_lund_line[,\"Death_FoundInCage\"])),\"Flag_Death_Day\"] <- TRUE\n",
    "  \n",
    "  new_lund_line[-which(new_lund_line[,\"Timepoint\"] - new_lund_line[,\"putative_death_day\"]>=3 & is.na(new_lund_line[,\"Death_Euthanized\"]) & is.na(new_lund_line[,\"Death_FoundInCage\"])),\"Flag_Death_Day\"] <- FALSE\n",
    "}"
   ]
  },
  {
   "cell_type": "markdown",
   "metadata": {},
   "source": [
    "# 12. Add Flag_weight_date "
   ]
  },
  {
   "cell_type": "code",
   "execution_count": 25,
   "metadata": {
    "collapsed": true
   },
   "outputs": [],
   "source": [
    "# Flag = True where death day > timepoint (internal check)\n",
    "new_lund_line$Death_Date_greater_timepoint = NA\n",
    "\n",
    "if(length(which(new_lund_line[,\"Death_Euthanized\"] > new_lund_line[,\"Timepoint\"] | new_lund_line[,\"Death_FoundInCage\"] > new_lund_line[,\"Timepoint\"] | new_lund_line[,\"Died_of_Virus\"] > new_lund_line[,\"Timepoint\"] | new_lund_line[,\"Died_from_Anesthesia\"] > new_lund_line[,\"Timepoint\"])) >0){\n",
    "  \n",
    "  new_lund_line[which(new_lund_line[,\"Death_Euthanized\"] > new_lund_line[,\"Timepoint\"] | new_lund_line[,\"Death_FoundInCage\"] > new_lund_line[,\"Timepoint\"] | new_lund_line[,\"Died_of_Virus\"] > new_lund_line[,\"Timepoint\"] | new_lund_line[,\"Died_from_Anesthesia\"] > new_lund_line[,\"Timepoint\"]),\"Death_Date_greater_timepoint\"] <- TRUE\n",
    "  \n",
    "  new_lund_line[-which(new_lund_line[,\"Death_Euthanized\"] > new_lund_line[,\"Timepoint\"] | new_lund_line[,\"Death_FoundInCage\"] > new_lund_line[,\"Timepoint\"] | new_lund_line[,\"Died_of_Virus\"] > new_lund_line[,\"Timepoint\"] | new_lund_line[,\"Died_from_Anesthesia\"] > new_lund_line[,\"Timepoint\"]),\"Death_Date_greater_timepoint\"] <- FALSE\n",
    "  \n",
    "}else{\n",
    "  new_lund_line$Death_Date_greater_timepoint = FALSE\n",
    "}"
   ]
  },
  {
   "cell_type": "markdown",
   "metadata": {},
   "source": [
    "# 13. Order columns according to the data dictionary"
   ]
  },
  {
   "cell_type": "code",
   "execution_count": 26,
   "metadata": {
    "collapsed": true
   },
   "outputs": [],
   "source": [
    "# Read in data dictionary\n",
    "mycols <- rep(\"NULL\", 4)\n",
    "mycols[1] <- NA\n",
    "\n",
    "read.xls(xls=\"WNV_Data_Dictionary.xlsx\", sheet=\"Weight Data\", colClasses=mycols, stringsAsFactors=F) -> data_dict\n",
    "\n",
    "# internal cols\n",
    "internal_cols = c(\"putative_death_day\",\"Flag_Death_Day\", \"Death_Date_greater_timepoint\")\n",
    "internal_cols_v2 = which(names(new_lund_line) %in% internal_cols)\n",
    "\n",
    "# order columns by data dictionary and add internal column at the end\n",
    "new_lund_line[,c(as.vector(unlist(sapply(data_dict[,1],function(x)which(x==names(new_lund_line))))),internal_cols_v2)] -> new_lund_line_v2"
   ]
  },
  {
   "cell_type": "markdown",
   "metadata": {},
   "source": [
    "# 14. Annotate array_exists column"
   ]
  },
  {
   "cell_type": "code",
   "execution_count": 27,
   "metadata": {
    "collapsed": true
   },
   "outputs": [],
   "source": [
    "# Read in expression annotation\n",
    "read.table(file=\"all_expression_ids.txt\") -> exp_id\n",
    "\n",
    "new_lund_line_v2$array_exists = NA\n",
    "\n",
    "if(length(as.vector(unlist(sapply(as.character(exp_id[,1]),function(x)which(x==as.character(new_lund_line_v2[,1])))))) >0){\n",
    "  new_lund_line_v2[as.vector(unlist(sapply(as.character(exp_id[,1]),function(x)which(x==as.character(new_lund_line_v2[,1]))))),\"array_exists\"] <- \"Yes\"\n",
    "  \n",
    "  new_lund_line_v2[-as.vector(unlist(sapply(as.character(exp_id[,1]),function(x)which(x==as.character(new_lund_line_v2[,1]))))),\"array_exists\"] <- \"No\"\n",
    "}else{\n",
    "  new_lund_line_v2$array_exists = \"No\"\n",
    "}\n",
    "                                            \n",
    "# Lund: Remove beginning 0 in UW_Line\n",
    "new_lund_line_v2[which(substring(new_lund_line_v2[,\"UW_Line\"],1,1) == \"0\"),\"UW_Line\"] <- substring(new_lund_line_v2[which(substring(new_lund_line_v2[,\"UW_Line\"],1,1) == \"0\"),\"UW_Line\"],2,nchar(new_lund_line_v2[which(substring(new_lund_line_v2[,\"UW_Line\"],1,1) == \"0\"),\"UW_Line\"]))\n"
   ]
  },
  {
   "cell_type": "markdown",
   "metadata": {},
   "source": [
    "# 15. Update Data: Add flags_checked column"
   ]
  },
  {
   "cell_type": "code",
   "execution_count": 28,
   "metadata": {
    "collapsed": false
   },
   "outputs": [
    {
     "data": {
      "text/html": [
       "FALSE"
      ],
      "text/latex": [
       "FALSE"
      ],
      "text/markdown": [
       "FALSE"
      ],
      "text/plain": [
       "[1] FALSE"
      ]
     },
     "execution_count": 28,
     "metadata": {},
     "output_type": "execute_result"
    }
   ],
   "source": [
    "# Gale: Cumulative data, make sure old lines are the same. Set flag for old ID's that they have already been verified\n",
    "# Lund: Need to read in old data and update any overlapping lines and add the new lines. Set flag for old ID's that have already been verified\n",
    "# read in full data\n",
    "read.xls(xls=\"Lund_Weight_22-Mar-2016_final.xlsx\", sheet=1, stringsAsFactors=F) -> lund_weight_full\n",
    "\n",
    "# remove any lines from full that are in updated data\n",
    "remove_lines = intersect(new_lund_line_v2[,\"UW_Line\"], lund_weight_full[,\"UW_Line\"])\n",
    "\n",
    "# update line 45\n",
    "length(remove_lines) == 0\n",
    "\n",
    "lund_weight_full[-which(lund_weight_full[,\"UW_Line\"] == 45),] -> lund_weight_full\n",
    "\n",
    "lund_weight_full$flags_checked = TRUE\n",
    "\n",
    "new_lund_line_v2$flags_checked = FALSE\n",
    "\n",
    "# clean date format\n",
    "lund_weight_full[,\"Death_Date\"] <- as.character(lund_weight_full[,\"Death_Date\"])\n",
    "lund_weight_full[,\"Date_Infected\"] <- as.Date(lund_weight_full[,\"Date_Infected\"],format=\"%Y-%m-%d\",origin=\"1900-01-01\")\n",
    "\n",
    "new_lund_line_v2[,\"Death_Date\"] <- as.character(new_lund_line_v2[,\"Death_Date\"])\n",
    "new_lund_line_v2[,\"Date_Infected\"] <- as.Date(as.character(new_lund_line_v2[,\"Date_Infected\"]),format=\"%Y-%m-%d\",origin=\"1900-01-01\")\n",
    "\n",
    "# Merge new data and old data\n",
    "merge(lund_weight_full, new_lund_line_v2, by=intersect(names(new_lund_line_v2),names(lund_weight_full)), all=T) -> lund_weight_full_v2\n",
    "\n",
    "# update flags checked\n",
    "lund_weight_full_v2[which(lund_weight_full_v2[,\"Data_Altered\"] == \"Yes\"),\"flags_checked\"] <- TRUE\n",
    "lund_weight_full_v2[which(lund_weight_full_v2[,\"Notes\"] == \"Not receiving, line complete\"),\"flags_checked\"] <- TRUE\n",
    "lund_weight_full_v2[which(lund_weight_full_v2[,\"flags_checked\"]),c(\"putative_death_day\")] <- lund_weight_full_v2[which(lund_weight_full_v2[,\"flags_checked\"]),c(\"Timepoint\")]\n",
    "lund_weight_full_v2[which(lund_weight_full_v2[,\"flags_checked\"]),c(\"Flag_Death_Day\")] <- FALSE\n",
    "lund_weight_full_v2[which(lund_weight_full_v2[,\"flags_checked\"]),c(\"Death_Date_greater_timepoint\")] <- FALSE\n",
    "\n",
    "# Save cleaned file\n",
    "write.table(file=\"./Lund_Weight_cleaned.txt\", x=lund_weight_full_v2, sep=\"\\t\", quote=F, row.names=F, na=\"\")"
   ]
  },
  {
   "cell_type": "markdown",
   "metadata": {},
   "source": [
    "# 16. Make specific alterations listed in the Readme. "
   ]
  },
  {
   "cell_type": "code",
   "execution_count": null,
   "metadata": {
    "collapsed": true
   },
   "outputs": [],
   "source": [
    "# Make any manual corrections needed\n",
    "# Note if you change weights, need to also re-calculate weight percentages. Record these changes in Data_Altered and Notes column"
   ]
  },
  {
   "cell_type": "markdown",
   "metadata": {},
   "source": [
    "# Example Plot"
   ]
  },
  {
   "cell_type": "code",
   "execution_count": 29,
   "metadata": {
    "collapsed": false
   },
   "outputs": [
    {
     "data": {
      "image/png": "[encoded data removed]",
      "text/plain": [
       "Plot with title “Weight Change - WNV”"
      ]
     },
     "metadata": {
      "image/svg+xml": {
       "isolated": true
      }
     },
     "output_type": "display_data"
    }
   ],
   "source": [
    "weight_time_plot = function(uw_lines, weight_cols=days_percent, Mocks=FALSE, ...) {\n",
    "  \n",
    "  y_weights = aggregate(lund_weight_full_v2[, weight_cols], list(lund_weight_full_v2$UW_Line, lund_weight_full_v2$Virus), mean, na.rm=T)\n",
    "  colnames(y_weights) = c('line','virus',weight_cols)\n",
    "  n_cols = floor(length(uw_lines)/3) + ceiling((length(uw_lines)%%3)/3)\n",
    "  xvals = c(0:28)\n",
    "  \n",
    "  if (Mocks) {\n",
    "    par(mfrow=c(2,1))\n",
    "    matplot(xvals, t(y_weights[y_weights[,1] %in% uw_lines & y_weights$virus=='Mock',weight_cols]), type=\"l\", ylim=c(-30,30), ylab=\"Average % Weight Change\", xlab=\"Day\", main=\"Weight Change - Mocks\", lty=1, lwd=4,xaxt='n',...)\n",
    "    \n",
    "    matplot(xvals, t(y_weights[y_weights[,1] %in% uw_lines & y_weights$virus=='Mock',weight_cols]), type=\"p\", pch=19, ylim=c(-30,30), ylab=\"Average % Weight Change\", xlab=\"Day\", main=\"Weight Change - Mocks\", add=T,xaxt='n',...)\n",
    "    \n",
    "    axis(side=1,at=xvals, labels=c(0:28))\n",
    "    \n",
    "    abline(h=0, col='black')\n",
    "    abline(h=-5, col='black', lty=2)\n",
    "    legend('topleft', legend=y_weights$line[y_weights$line %in% uw_lines & y_weights$virus=='WNV'], lty=1, lwd=10, ncol=n_cols,...)\n",
    "    \n",
    "    matplot(xvals, t(y_weights[y_weights[,1] %in% uw_lines & y_weights$virus=='WNV',weight_cols]), type=\"l\", ylim=c(-30,30), ylab=\"Average % Weight Change\", xlab=\"Day\", main=\"Weight Change - WNV\", lty=1, lwd=4,xaxt='n',...)\n",
    "    matplot(xvals, t(y_weights[y_weights[,1] %in% uw_lines & y_weights$virus=='WNV',weight_cols]), type=\"p\", pch=19, ylim=c(-30,30), ylab=\"Average % Weight Change\", xlab=\"Day\", main=\"Weight Change - WNV\", add=T,xaxt='n',...)\n",
    "    axis(side=1,at=xvals, labels=c(0:28))\n",
    "    abline(h=0, col='black')\n",
    "    abline(h=-5, col='black', lty=2)\n",
    "    \n",
    "    legend('topleft', legend=y_weights$line[y_weights$line %in% uw_lines & y_weights$virus=='WNV'], lty=1, lwd=10, ncol=n_cols,...)\n",
    "  } else {\n",
    "    matplot(xvals, t(y_weights[y_weights[,1] %in% uw_lines & y_weights$virus=='WNV',weight_cols]), type=\"l\", ylim=c(-30,30), ylab=\"Average % Weight Change\", xlab=\"Day\", main=\"Weight Change - WNV\", lty=1, lwd=4,xaxt='n', ...)\n",
    "    matplot(xvals, t(y_weights[y_weights[,1] %in% uw_lines & y_weights$virus=='WNV',weight_cols]), type=\"p\", pch=19, ylim=c(-30,30), ylab=\"Average % Weight Change\", xlab=\"Day\", main=\"Weight Change - WNV\", add=T,xaxt='n', ...)\n",
    "    axis(side=1,at=xvals, labels=c(0:32,45))\n",
    "    abline(h=0, col='black')\n",
    "    abline(h=-5, col='black', lty=2)\n",
    "    legend('topleft', legend=y_weights$line[y_weights$line %in% uw_lines & y_weights$virus=='WNV'], lty=1, lwd=10, ncol=n_cols, ...)\n",
    "  }\n",
    "}\n",
    "\n",
    "weight_time_plot(uw_lines=c(\"25\",\"27\",\"100\",\"86\",\"13\"), weight_cols=days_percent,Mocks=T, col=sample(colors(),5))\n"
   ]
  },
  {
   "cell_type": "code",
   "execution_count": null,
   "metadata": {
    "collapsed": true
   },
   "outputs": [],
   "source": []
  }
 ],
 "metadata": {
  "kernelspec": {
   "display_name": "R",
   "language": "R",
   "name": "ir"
  },
  "language_info": {
   "codemirror_mode": "r",
   "file_extension": ".r",
   "mimetype": "text/x-r-source",
   "name": "R",
   "pygments_lexer": "r",
   "version": "3.2.2"
  }
 },
 "nbformat": 4,
 "nbformat_minor": 0
}
